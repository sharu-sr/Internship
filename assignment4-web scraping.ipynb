{
 "cells": [
  {
   "cell_type": "code",
   "execution_count": 199,
   "id": "57ff83fe",
   "metadata": {},
   "outputs": [],
   "source": [
    "from bs4 import BeautifulSoup\n",
    "import requests"
   ]
  },
  {
   "cell_type": "markdown",
   "id": "d4e02ae2",
   "metadata": {},
   "source": [
    "Question7"
   ]
  },
  {
   "cell_type": "code",
   "execution_count": 154,
   "id": "b4a62bc7",
   "metadata": {},
   "outputs": [],
   "source": [
    "page = requests.get('https://www.naukri.com/datascience-recruiters')"
   ]
  },
  {
   "cell_type": "code",
   "execution_count": 155,
   "id": "bcfa3b27",
   "metadata": {},
   "outputs": [
    {
     "data": {
      "text/plain": [
       "<Response [200]>"
      ]
     },
     "execution_count": 155,
     "metadata": {},
     "output_type": "execute_result"
    }
   ],
   "source": [
    "page"
   ]
  },
  {
   "cell_type": "code",
   "execution_count": 156,
   "id": "bdf4d910",
   "metadata": {},
   "outputs": [],
   "source": [
    "soup = BeautifulSoup(page.content)"
   ]
  },
  {
   "cell_type": "code",
   "execution_count": 157,
   "id": "2b043409",
   "metadata": {},
   "outputs": [
    {
     "data": {
      "text/plain": [
       "[['Rose Mary'],\n",
       " ['Jatin Nagpal'],\n",
       " ['Besant Technologies'],\n",
       " ['Shanthi'],\n",
       " ['Dilip'],\n",
       " ['Sakshi Singh'],\n",
       " ['JTS'],\n",
       " ['TA'],\n",
       " ['POONAM KUMARI'],\n",
       " ['Chandra'],\n",
       " ['Niharika'],\n",
       " ['Joyce Roslin'],\n",
       " ['Sandeep Selvan'],\n",
       " ['Rajashekar'],\n",
       " ['Binary Fox'],\n",
       " ['Anujhgna'],\n",
       " ['PoojaHR'],\n",
       " ['Pooja HR'],\n",
       " ['BlockSec Privacy'],\n",
       " ['Techsel Solutions'],\n",
       " ['Namratha'],\n",
       " ['Sai Theja'],\n",
       " ['Madhu Mohan Rao Neelam'],\n",
       " ['bindu pathella'],\n",
       " ['Maran'],\n",
       " ['Sandeep Seth'],\n",
       " ['Vijayalakshmi'],\n",
       " ['Richa Awasthi'],\n",
       " ['Samuel'],\n",
       " ['Naveen V'],\n",
       " ['P N Venugopal'],\n",
       " ['Mohideen'],\n",
       " ['Magesh Kumar Quess Corp'],\n",
       " ['Jyoti Moily'],\n",
       " ['Rishika Seth']]"
      ]
     },
     "execution_count": 157,
     "metadata": {},
     "output_type": "execute_result"
    }
   ],
   "source": [
    "Name=soup.find_all('a',class_=\"ellipsis\")\n",
    "Names=[]\n",
    "for i in range(0,70,2):\n",
    "    Names.append(Name[i].get_text().split('|'))\n",
    "    \n",
    "Names"
   ]
  },
  {
   "cell_type": "code",
   "execution_count": 158,
   "id": "0c11b37f",
   "metadata": {},
   "outputs": [
    {
     "data": {
      "text/plain": [
       "['Talent Acquisition Specialist',\n",
       " 'Company Recruiter',\n",
       " 'Assistant Manager',\n",
       " 'Company Recruiter',\n",
       " 'HR Executive',\n",
       " 'Company Recruiter',\n",
       " 'HR',\n",
       " 'Company Recruiter',\n",
       " 'Recruitment consultant',\n",
       " 'Company Recruiter',\n",
       " 'HR',\n",
       " 'HR IT Recruiter',\n",
       " 'Sr Consultant',\n",
       " 'Talent Acquisition Executive',\n",
       " 'Company Recruiter',\n",
       " 'HR Manager',\n",
       " 'HR Recruiter',\n",
       " 'HR Recruiter',\n",
       " 'Vice President HR',\n",
       " 'Human Resource Management',\n",
       " 'Senior Human Resources Executive',\n",
       " 'Operations Lead',\n",
       " 'Company Recruiter',\n",
       " 'Company Recruiter',\n",
       " 'Director',\n",
       " 'Co Director',\n",
       " 'Senior Recruiter',\n",
       " 'TA &amp; Operation Manager',\n",
       " 'Senior Executive TAG',\n",
       " 'Recruitment Consultant',\n",
       " 'Recruitment Consultant',\n",
       " 'Recruitment Consultant',\n",
       " 'Senior Consultant IT Recruitment',\n",
       " 'Managing partner',\n",
       " 'Chief Financial Officer']"
      ]
     },
     "execution_count": 158,
     "metadata": {},
     "output_type": "execute_result"
    }
   ],
   "source": [
    "Designation =[]\n",
    "\n",
    "for i in soup.find_all('span',class_=\"ellipsis clr\"):\n",
    "    Designation.append(i.text)\n",
    "\n",
    "\n",
    "Designation"
   ]
  },
  {
   "cell_type": "code",
   "execution_count": 159,
   "id": "bb363168",
   "metadata": {},
   "outputs": [
    {
     "data": {
      "text/plain": [
       "[['Flex i Partners'],\n",
       " ['Cvent India Pvt. Ltd.'],\n",
       " ['Besant Technologies'],\n",
       " ['Iris Technologies'],\n",
       " ['Greens Technologys Velachery'],\n",
       " ['Holcim Services (South Aisa) Limited'],\n",
       " ['Jignasa Techno Solutions Pvt Ltd'],\n",
       " ['Manipal Global Education Services Private...'],\n",
       " ['Theexceptionals'],\n",
       " ['A2Z CONTACTS PRIVATE LIMITED'],\n",
       " ['SaltSide'],\n",
       " ['Aegan Technologies Pvt Ltd'],\n",
       " ['Wenger &amp; Watson'],\n",
       " ['CBSI India Pvt. Ltd.'],\n",
       " ['BINARY FOX SERVICES LLP'],\n",
       " ['Zopak Software Private Limited'],\n",
       " ['Magneq Software'],\n",
       " ['Magneq Software'],\n",
       " ['BlockSec Privacy'],\n",
       " ['Techsel Solutions'],\n",
       " ['Global Sena Consultancy Pvt. Ltd.'],\n",
       " ['Sumyag Data Sciences Private Limited'],\n",
       " ['CoArtha Technosolutions Private Limited'],\n",
       " ['Sansach Technologies'],\n",
       " ['DISTINCT SYSTEMS &amp; TECHNOLOGIES PRIVATE...'],\n",
       " ['Data Science Technologies Pvt Ltd'],\n",
       " ['Avyayh'],\n",
       " ['Uberlife Consulting Private Limited'],\n",
       " ['Innominds'],\n",
       " ['JoulestoWatts Business Solutions Pvt Ltd'],\n",
       " ['P N Venugopal Associates'],\n",
       " ['Inceptez Technologies'],\n",
       " ['Quess Corp Ltd.'],\n",
       " ['Unitres Business Solutions'],\n",
       " ['Datascience Technologies Pvt. Ltd.']]"
      ]
     },
     "execution_count": 159,
     "metadata": {},
     "output_type": "execute_result"
    }
   ],
   "source": [
    "company=soup.find_all('a',class_=\"ellipsis\")\n",
    "company_name=[]\n",
    "for i in range(1,70,2):\n",
    "    company_name.append(company[i].get_text().split('|'))\n",
    "    \n",
    "company_name"
   ]
  },
  {
   "cell_type": "code",
   "execution_count": 160,
   "id": "9b0c0c56",
   "metadata": {},
   "outputs": [
    {
     "data": {
      "text/plain": [
       "['    Senior Management,   Information Technology,   Facility Management,   Indirect Taxation,   Key Account Management,   Asm,   Deputy Manager,   Zonal M,   Zonal,   Custom    ',\n",
       " ' Not Specified ',\n",
       " '    Training,   Education    ',\n",
       " ' Not Specified ',\n",
       " '    Human Resource Management,   Software Development    ',\n",
       " ' Not Specified ',\n",
       " ' Not Specified ',\n",
       " ' Not Specified ',\n",
       " '    Biz Talk Developer,   Biztal,   Biztal Server,   Biz- Talk,   Application Support,   Linux System Administration.,   Server management Engineer,   support    ',\n",
       " ' Not Specified ',\n",
       " ' Not Specified ',\n",
       " '    Fetchr India,   Intellectyx DataScience Pvt Ltd    ',\n",
       " '    CONFIDENCIAL    ',\n",
       " ' Not Specified ',\n",
       " '    Frontend,   Backend,   Fullstack,   Tester,   Erp,   Dwh,   Infrastructure,   Datascience,   Mulesoft,   Dba,   Mainframes,   Sitecore,   Mobility,   Networking,   Etc.    ',\n",
       " '    html5,   css,   javascript,   Qa Testing,   Scala,   Angularjs,   Node.js,   Express,   Seo,   Business Analysis,   Business Development,   Wordpress,   Magento,   Prestashop,   Opencart    ',\n",
       " ' Not Specified ',\n",
       " ' Not Specified ',\n",
       " ' Not Specified ',\n",
       " ' Not Specified ',\n",
       " ' Not Specified ',\n",
       " '    Data Science,   Engineering,   Data Analysis,   Big Data,   Python    ',\n",
       " ' Not Specified ',\n",
       " ' Not Specified ',\n",
       " ' Not Specified ',\n",
       " ' Not Specified ',\n",
       " ' Not Specified ',\n",
       " ' Not Specified ',\n",
       " ' Not Specified ',\n",
       " ' Not Specified ',\n",
       " ' Not Specified ',\n",
       " ' Not Specified ',\n",
       " '    Guidewire,   Ui Development,   Pega Prpc,   Pega Rules Process Commander,   Java,   Core Java    ',\n",
       " ' Not Specified ',\n",
       " ' Not Specified ']"
      ]
     },
     "execution_count": 160,
     "metadata": {},
     "output_type": "execute_result"
    }
   ],
   "source": [
    "Skills =[]\n",
    "\n",
    "for i in soup.find_all('div',class_=\"hireSec highlightable\"):\n",
    "    Skills.append(i.text)\n",
    "\n",
    "\n",
    "Skills"
   ]
  },
  {
   "cell_type": "code",
   "execution_count": 161,
   "id": "b3a2de2a",
   "metadata": {},
   "outputs": [
    {
     "data": {
      "text/plain": [
       "['Bengaluru / Bangalore',\n",
       " 'Gurgaon',\n",
       " 'Chennai',\n",
       " 'Chennai',\n",
       " 'Chennai',\n",
       " 'Mumbai',\n",
       " 'Hyderabad / Secunderabad',\n",
       " 'Bengaluru / Bangalore',\n",
       " 'Mumbai',\n",
       " 'Hyderabad / Secunderabad',\n",
       " 'Bengaluru / Bangalore',\n",
       " 'Coimbatore',\n",
       " 'Bengaluru / Bangalore',\n",
       " 'Bengaluru / Bangalore',\n",
       " 'Uttar Pradesh - Other',\n",
       " 'Hyderabad / Secunderabad',\n",
       " 'Hyderabad / Secunderabad',\n",
       " 'Hyderabad / Secunderabad',\n",
       " 'Pune',\n",
       " 'Hyderabad / Secunderabad',\n",
       " 'Hyderabad / Secunderabad',\n",
       " 'Bengaluru / Bangalore',\n",
       " 'Hyderabad / Secunderabad',\n",
       " 'thane',\n",
       " 'Chennai',\n",
       " 'Pune',\n",
       " 'Chennai',\n",
       " 'Bengaluru / Bangalore',\n",
       " 'Hyderabad / Secunderabad',\n",
       " 'Bengaluru / Bangalore',\n",
       " 'Bengaluru / Bangalore',\n",
       " 'Chennai',\n",
       " 'Chennai',\n",
       " 'THANE',\n",
       " 'Pune']"
      ]
     },
     "execution_count": 161,
     "metadata": {},
     "output_type": "execute_result"
    }
   ],
   "source": [
    "Location =[]\n",
    "\n",
    "for i in soup.find_all('small',class_=\"ellipsis\"):\n",
    "    Location.append(i.text)\n",
    "\n",
    "\n",
    "Location"
   ]
  },
  {
   "cell_type": "code",
   "execution_count": 162,
   "id": "01fce9e1",
   "metadata": {},
   "outputs": [
    {
     "name": "stdout",
     "output_type": "stream",
     "text": [
      "35 35 35 35\n"
     ]
    }
   ],
   "source": [
    "print(len(Names),len(Designation),len(Skills),len(Location))"
   ]
  },
  {
   "cell_type": "code",
   "execution_count": 163,
   "id": "c3644ce7",
   "metadata": {},
   "outputs": [
    {
     "data": {
      "text/html": [
       "<div>\n",
       "<style scoped>\n",
       "    .dataframe tbody tr th:only-of-type {\n",
       "        vertical-align: middle;\n",
       "    }\n",
       "\n",
       "    .dataframe tbody tr th {\n",
       "        vertical-align: top;\n",
       "    }\n",
       "\n",
       "    .dataframe thead th {\n",
       "        text-align: right;\n",
       "    }\n",
       "</style>\n",
       "<table border=\"1\" class=\"dataframe\">\n",
       "  <thead>\n",
       "    <tr style=\"text-align: right;\">\n",
       "      <th></th>\n",
       "      <th>Names</th>\n",
       "      <th>Designation</th>\n",
       "      <th>Skills</th>\n",
       "      <th>Location</th>\n",
       "    </tr>\n",
       "  </thead>\n",
       "  <tbody>\n",
       "    <tr>\n",
       "      <th>0</th>\n",
       "      <td>[Rose Mary]</td>\n",
       "      <td>Talent Acquisition Specialist</td>\n",
       "      <td>Senior Management,   Information Technolog...</td>\n",
       "      <td>Bengaluru / Bangalore</td>\n",
       "    </tr>\n",
       "    <tr>\n",
       "      <th>1</th>\n",
       "      <td>[Jatin Nagpal]</td>\n",
       "      <td>Company Recruiter</td>\n",
       "      <td>Not Specified</td>\n",
       "      <td>Gurgaon</td>\n",
       "    </tr>\n",
       "    <tr>\n",
       "      <th>2</th>\n",
       "      <td>[Besant Technologies]</td>\n",
       "      <td>Assistant Manager</td>\n",
       "      <td>Training,   Education</td>\n",
       "      <td>Chennai</td>\n",
       "    </tr>\n",
       "    <tr>\n",
       "      <th>3</th>\n",
       "      <td>[Shanthi]</td>\n",
       "      <td>Company Recruiter</td>\n",
       "      <td>Not Specified</td>\n",
       "      <td>Chennai</td>\n",
       "    </tr>\n",
       "    <tr>\n",
       "      <th>4</th>\n",
       "      <td>[Dilip]</td>\n",
       "      <td>HR Executive</td>\n",
       "      <td>Human Resource Management,   Software Deve...</td>\n",
       "      <td>Chennai</td>\n",
       "    </tr>\n",
       "    <tr>\n",
       "      <th>5</th>\n",
       "      <td>[Sakshi Singh]</td>\n",
       "      <td>Company Recruiter</td>\n",
       "      <td>Not Specified</td>\n",
       "      <td>Mumbai</td>\n",
       "    </tr>\n",
       "    <tr>\n",
       "      <th>6</th>\n",
       "      <td>[JTS]</td>\n",
       "      <td>HR</td>\n",
       "      <td>Not Specified</td>\n",
       "      <td>Hyderabad / Secunderabad</td>\n",
       "    </tr>\n",
       "    <tr>\n",
       "      <th>7</th>\n",
       "      <td>[TA]</td>\n",
       "      <td>Company Recruiter</td>\n",
       "      <td>Not Specified</td>\n",
       "      <td>Bengaluru / Bangalore</td>\n",
       "    </tr>\n",
       "    <tr>\n",
       "      <th>8</th>\n",
       "      <td>[POONAM KUMARI]</td>\n",
       "      <td>Recruitment consultant</td>\n",
       "      <td>Biz Talk Developer,   Biztal,   Biztal Ser...</td>\n",
       "      <td>Mumbai</td>\n",
       "    </tr>\n",
       "    <tr>\n",
       "      <th>9</th>\n",
       "      <td>[Chandra]</td>\n",
       "      <td>Company Recruiter</td>\n",
       "      <td>Not Specified</td>\n",
       "      <td>Hyderabad / Secunderabad</td>\n",
       "    </tr>\n",
       "    <tr>\n",
       "      <th>10</th>\n",
       "      <td>[Niharika]</td>\n",
       "      <td>HR</td>\n",
       "      <td>Not Specified</td>\n",
       "      <td>Bengaluru / Bangalore</td>\n",
       "    </tr>\n",
       "    <tr>\n",
       "      <th>11</th>\n",
       "      <td>[Joyce Roslin]</td>\n",
       "      <td>HR IT Recruiter</td>\n",
       "      <td>Fetchr India,   Intellectyx DataScience Pv...</td>\n",
       "      <td>Coimbatore</td>\n",
       "    </tr>\n",
       "    <tr>\n",
       "      <th>12</th>\n",
       "      <td>[Sandeep Selvan]</td>\n",
       "      <td>Sr Consultant</td>\n",
       "      <td>CONFIDENCIAL</td>\n",
       "      <td>Bengaluru / Bangalore</td>\n",
       "    </tr>\n",
       "    <tr>\n",
       "      <th>13</th>\n",
       "      <td>[Rajashekar]</td>\n",
       "      <td>Talent Acquisition Executive</td>\n",
       "      <td>Not Specified</td>\n",
       "      <td>Bengaluru / Bangalore</td>\n",
       "    </tr>\n",
       "    <tr>\n",
       "      <th>14</th>\n",
       "      <td>[Binary Fox]</td>\n",
       "      <td>Company Recruiter</td>\n",
       "      <td>Frontend,   Backend,   Fullstack,   Tester...</td>\n",
       "      <td>Uttar Pradesh - Other</td>\n",
       "    </tr>\n",
       "    <tr>\n",
       "      <th>15</th>\n",
       "      <td>[Anujhgna]</td>\n",
       "      <td>HR Manager</td>\n",
       "      <td>html5,   css,   javascript,   Qa Testing, ...</td>\n",
       "      <td>Hyderabad / Secunderabad</td>\n",
       "    </tr>\n",
       "    <tr>\n",
       "      <th>16</th>\n",
       "      <td>[PoojaHR]</td>\n",
       "      <td>HR Recruiter</td>\n",
       "      <td>Not Specified</td>\n",
       "      <td>Hyderabad / Secunderabad</td>\n",
       "    </tr>\n",
       "    <tr>\n",
       "      <th>17</th>\n",
       "      <td>[Pooja HR]</td>\n",
       "      <td>HR Recruiter</td>\n",
       "      <td>Not Specified</td>\n",
       "      <td>Hyderabad / Secunderabad</td>\n",
       "    </tr>\n",
       "    <tr>\n",
       "      <th>18</th>\n",
       "      <td>[BlockSec Privacy]</td>\n",
       "      <td>Vice President HR</td>\n",
       "      <td>Not Specified</td>\n",
       "      <td>Pune</td>\n",
       "    </tr>\n",
       "    <tr>\n",
       "      <th>19</th>\n",
       "      <td>[Techsel Solutions]</td>\n",
       "      <td>Human Resource Management</td>\n",
       "      <td>Not Specified</td>\n",
       "      <td>Hyderabad / Secunderabad</td>\n",
       "    </tr>\n",
       "    <tr>\n",
       "      <th>20</th>\n",
       "      <td>[Namratha]</td>\n",
       "      <td>Senior Human Resources Executive</td>\n",
       "      <td>Not Specified</td>\n",
       "      <td>Hyderabad / Secunderabad</td>\n",
       "    </tr>\n",
       "    <tr>\n",
       "      <th>21</th>\n",
       "      <td>[Sai Theja]</td>\n",
       "      <td>Operations Lead</td>\n",
       "      <td>Data Science,   Engineering,   Data Analys...</td>\n",
       "      <td>Bengaluru / Bangalore</td>\n",
       "    </tr>\n",
       "    <tr>\n",
       "      <th>22</th>\n",
       "      <td>[Madhu Mohan Rao Neelam]</td>\n",
       "      <td>Company Recruiter</td>\n",
       "      <td>Not Specified</td>\n",
       "      <td>Hyderabad / Secunderabad</td>\n",
       "    </tr>\n",
       "    <tr>\n",
       "      <th>23</th>\n",
       "      <td>[bindu pathella]</td>\n",
       "      <td>Company Recruiter</td>\n",
       "      <td>Not Specified</td>\n",
       "      <td>thane</td>\n",
       "    </tr>\n",
       "    <tr>\n",
       "      <th>24</th>\n",
       "      <td>[Maran]</td>\n",
       "      <td>Director</td>\n",
       "      <td>Not Specified</td>\n",
       "      <td>Chennai</td>\n",
       "    </tr>\n",
       "    <tr>\n",
       "      <th>25</th>\n",
       "      <td>[Sandeep Seth]</td>\n",
       "      <td>Co Director</td>\n",
       "      <td>Not Specified</td>\n",
       "      <td>Pune</td>\n",
       "    </tr>\n",
       "    <tr>\n",
       "      <th>26</th>\n",
       "      <td>[Vijayalakshmi]</td>\n",
       "      <td>Senior Recruiter</td>\n",
       "      <td>Not Specified</td>\n",
       "      <td>Chennai</td>\n",
       "    </tr>\n",
       "    <tr>\n",
       "      <th>27</th>\n",
       "      <td>[Richa Awasthi]</td>\n",
       "      <td>TA &amp;amp; Operation Manager</td>\n",
       "      <td>Not Specified</td>\n",
       "      <td>Bengaluru / Bangalore</td>\n",
       "    </tr>\n",
       "    <tr>\n",
       "      <th>28</th>\n",
       "      <td>[Samuel]</td>\n",
       "      <td>Senior Executive TAG</td>\n",
       "      <td>Not Specified</td>\n",
       "      <td>Hyderabad / Secunderabad</td>\n",
       "    </tr>\n",
       "    <tr>\n",
       "      <th>29</th>\n",
       "      <td>[Naveen V]</td>\n",
       "      <td>Recruitment Consultant</td>\n",
       "      <td>Not Specified</td>\n",
       "      <td>Bengaluru / Bangalore</td>\n",
       "    </tr>\n",
       "    <tr>\n",
       "      <th>30</th>\n",
       "      <td>[P N Venugopal]</td>\n",
       "      <td>Recruitment Consultant</td>\n",
       "      <td>Not Specified</td>\n",
       "      <td>Bengaluru / Bangalore</td>\n",
       "    </tr>\n",
       "    <tr>\n",
       "      <th>31</th>\n",
       "      <td>[Mohideen]</td>\n",
       "      <td>Recruitment Consultant</td>\n",
       "      <td>Not Specified</td>\n",
       "      <td>Chennai</td>\n",
       "    </tr>\n",
       "    <tr>\n",
       "      <th>32</th>\n",
       "      <td>[Magesh Kumar Quess Corp]</td>\n",
       "      <td>Senior Consultant IT Recruitment</td>\n",
       "      <td>Guidewire,   Ui Development,   Pega Prpc, ...</td>\n",
       "      <td>Chennai</td>\n",
       "    </tr>\n",
       "    <tr>\n",
       "      <th>33</th>\n",
       "      <td>[Jyoti Moily]</td>\n",
       "      <td>Managing partner</td>\n",
       "      <td>Not Specified</td>\n",
       "      <td>THANE</td>\n",
       "    </tr>\n",
       "    <tr>\n",
       "      <th>34</th>\n",
       "      <td>[Rishika Seth]</td>\n",
       "      <td>Chief Financial Officer</td>\n",
       "      <td>Not Specified</td>\n",
       "      <td>Pune</td>\n",
       "    </tr>\n",
       "  </tbody>\n",
       "</table>\n",
       "</div>"
      ],
      "text/plain": [
       "                        Names                       Designation  \\\n",
       "0                 [Rose Mary]     Talent Acquisition Specialist   \n",
       "1              [Jatin Nagpal]                 Company Recruiter   \n",
       "2       [Besant Technologies]                 Assistant Manager   \n",
       "3                   [Shanthi]                 Company Recruiter   \n",
       "4                     [Dilip]                      HR Executive   \n",
       "5              [Sakshi Singh]                 Company Recruiter   \n",
       "6                       [JTS]                                HR   \n",
       "7                        [TA]                 Company Recruiter   \n",
       "8             [POONAM KUMARI]            Recruitment consultant   \n",
       "9                   [Chandra]                 Company Recruiter   \n",
       "10                 [Niharika]                                HR   \n",
       "11             [Joyce Roslin]                   HR IT Recruiter   \n",
       "12           [Sandeep Selvan]                     Sr Consultant   \n",
       "13               [Rajashekar]      Talent Acquisition Executive   \n",
       "14               [Binary Fox]                 Company Recruiter   \n",
       "15                 [Anujhgna]                        HR Manager   \n",
       "16                  [PoojaHR]                      HR Recruiter   \n",
       "17                 [Pooja HR]                      HR Recruiter   \n",
       "18         [BlockSec Privacy]                 Vice President HR   \n",
       "19        [Techsel Solutions]         Human Resource Management   \n",
       "20                 [Namratha]  Senior Human Resources Executive   \n",
       "21                [Sai Theja]                   Operations Lead   \n",
       "22   [Madhu Mohan Rao Neelam]                 Company Recruiter   \n",
       "23           [bindu pathella]                 Company Recruiter   \n",
       "24                    [Maran]                          Director   \n",
       "25             [Sandeep Seth]                       Co Director   \n",
       "26            [Vijayalakshmi]                  Senior Recruiter   \n",
       "27            [Richa Awasthi]        TA &amp; Operation Manager   \n",
       "28                   [Samuel]              Senior Executive TAG   \n",
       "29                 [Naveen V]            Recruitment Consultant   \n",
       "30            [P N Venugopal]            Recruitment Consultant   \n",
       "31                 [Mohideen]            Recruitment Consultant   \n",
       "32  [Magesh Kumar Quess Corp]  Senior Consultant IT Recruitment   \n",
       "33              [Jyoti Moily]                  Managing partner   \n",
       "34             [Rishika Seth]           Chief Financial Officer   \n",
       "\n",
       "                                               Skills  \\\n",
       "0       Senior Management,   Information Technolog...   \n",
       "1                                      Not Specified    \n",
       "2                           Training,   Education       \n",
       "3                                      Not Specified    \n",
       "4       Human Resource Management,   Software Deve...   \n",
       "5                                      Not Specified    \n",
       "6                                      Not Specified    \n",
       "7                                      Not Specified    \n",
       "8       Biz Talk Developer,   Biztal,   Biztal Ser...   \n",
       "9                                      Not Specified    \n",
       "10                                     Not Specified    \n",
       "11      Fetchr India,   Intellectyx DataScience Pv...   \n",
       "12                                   CONFIDENCIAL       \n",
       "13                                     Not Specified    \n",
       "14      Frontend,   Backend,   Fullstack,   Tester...   \n",
       "15      html5,   css,   javascript,   Qa Testing, ...   \n",
       "16                                     Not Specified    \n",
       "17                                     Not Specified    \n",
       "18                                     Not Specified    \n",
       "19                                     Not Specified    \n",
       "20                                     Not Specified    \n",
       "21      Data Science,   Engineering,   Data Analys...   \n",
       "22                                     Not Specified    \n",
       "23                                     Not Specified    \n",
       "24                                     Not Specified    \n",
       "25                                     Not Specified    \n",
       "26                                     Not Specified    \n",
       "27                                     Not Specified    \n",
       "28                                     Not Specified    \n",
       "29                                     Not Specified    \n",
       "30                                     Not Specified    \n",
       "31                                     Not Specified    \n",
       "32      Guidewire,   Ui Development,   Pega Prpc, ...   \n",
       "33                                     Not Specified    \n",
       "34                                     Not Specified    \n",
       "\n",
       "                    Location  \n",
       "0      Bengaluru / Bangalore  \n",
       "1                    Gurgaon  \n",
       "2                    Chennai  \n",
       "3                    Chennai  \n",
       "4                    Chennai  \n",
       "5                     Mumbai  \n",
       "6   Hyderabad / Secunderabad  \n",
       "7      Bengaluru / Bangalore  \n",
       "8                     Mumbai  \n",
       "9   Hyderabad / Secunderabad  \n",
       "10     Bengaluru / Bangalore  \n",
       "11                Coimbatore  \n",
       "12     Bengaluru / Bangalore  \n",
       "13     Bengaluru / Bangalore  \n",
       "14     Uttar Pradesh - Other  \n",
       "15  Hyderabad / Secunderabad  \n",
       "16  Hyderabad / Secunderabad  \n",
       "17  Hyderabad / Secunderabad  \n",
       "18                      Pune  \n",
       "19  Hyderabad / Secunderabad  \n",
       "20  Hyderabad / Secunderabad  \n",
       "21     Bengaluru / Bangalore  \n",
       "22  Hyderabad / Secunderabad  \n",
       "23                     thane  \n",
       "24                   Chennai  \n",
       "25                      Pune  \n",
       "26                   Chennai  \n",
       "27     Bengaluru / Bangalore  \n",
       "28  Hyderabad / Secunderabad  \n",
       "29     Bengaluru / Bangalore  \n",
       "30     Bengaluru / Bangalore  \n",
       "31                   Chennai  \n",
       "32                   Chennai  \n",
       "33                     THANE  \n",
       "34                      Pune  "
      ]
     },
     "execution_count": 163,
     "metadata": {},
     "output_type": "execute_result"
    }
   ],
   "source": [
    "df=pd.DataFrame({'Names':Names,'Designation':Designation,'Skills':Skills,'Location':Location})\n",
    "df"
   ]
  },
  {
   "cell_type": "markdown",
   "id": "529a11a5",
   "metadata": {},
   "source": [
    "Question8"
   ]
  },
  {
   "cell_type": "code",
   "execution_count": 164,
   "id": "c796afcf",
   "metadata": {},
   "outputs": [],
   "source": [
    "page = requests.get('https://www.theguardian.com/news/datablog/2012/aug/09/best-selling-books-all-time-fifty-shades-grey-compare')"
   ]
  },
  {
   "cell_type": "code",
   "execution_count": 165,
   "id": "9a5222ba",
   "metadata": {},
   "outputs": [
    {
     "data": {
      "text/plain": [
       "<Response [200]>"
      ]
     },
     "execution_count": 165,
     "metadata": {},
     "output_type": "execute_result"
    }
   ],
   "source": [
    "page"
   ]
  },
  {
   "cell_type": "code",
   "execution_count": 166,
   "id": "d07ae50f",
   "metadata": {},
   "outputs": [],
   "source": [
    "soup = BeautifulSoup(page.content)"
   ]
  },
  {
   "cell_type": "code",
   "execution_count": 167,
   "id": "bee56f63",
   "metadata": {},
   "outputs": [
    {
     "data": {
      "text/plain": [
       "[' Da Vinci Code,The ']"
      ]
     },
     "execution_count": 167,
     "metadata": {},
     "output_type": "execute_result"
    }
   ],
   "source": [
    "Book_Name =[]\n",
    "\n",
    "for i in soup.find_all('td',id='table-cell-10943-0-1'):\n",
    "    Book_Name.append(i.text)\n",
    "\n",
    "\n",
    "Book_Name"
   ]
  },
  {
   "cell_type": "code",
   "execution_count": 168,
   "id": "3f346c47",
   "metadata": {},
   "outputs": [
    {
     "data": {
      "text/plain": [
       "[' Brown, Dan ']"
      ]
     },
     "execution_count": 168,
     "metadata": {},
     "output_type": "execute_result"
    }
   ],
   "source": [
    "Author_Name =[]\n",
    "\n",
    "for i in soup.find_all('td',id='table-cell-10943-0-2'):\n",
    "    Author_Name.append(i.text)\n",
    "\n",
    "\n",
    "Author_Name"
   ]
  },
  {
   "cell_type": "code",
   "execution_count": 169,
   "id": "ba6e2be6",
   "metadata": {},
   "outputs": [
    {
     "data": {
      "text/plain": [
       "[' 5,094,805 ']"
      ]
     },
     "execution_count": 169,
     "metadata": {},
     "output_type": "execute_result"
    }
   ],
   "source": [
    "Volume =[]\n",
    "\n",
    "for i in soup.find_all('td',id='table-cell-10943-0-3'):\n",
    "    Volume.append(i.text)\n",
    "\n",
    "\n",
    "Volume"
   ]
  },
  {
   "cell_type": "code",
   "execution_count": 170,
   "id": "dc055a03",
   "metadata": {},
   "outputs": [
    {
     "data": {
      "text/plain": [
       "[' Transworld ']"
      ]
     },
     "execution_count": 170,
     "metadata": {},
     "output_type": "execute_result"
    }
   ],
   "source": [
    "Publisher=[]\n",
    "for i in soup.find_all('td',id='table-cell-10943-0-4'):\n",
    "    Publisher.append(i.text)\n",
    "\n",
    "\n",
    "Publisher"
   ]
  },
  {
   "cell_type": "code",
   "execution_count": 171,
   "id": "61904858",
   "metadata": {},
   "outputs": [
    {
     "data": {
      "text/plain": [
       "[' Crime, Thriller & Adventure ']"
      ]
     },
     "execution_count": 171,
     "metadata": {},
     "output_type": "execute_result"
    }
   ],
   "source": [
    "Genre=[]\n",
    "for i in soup.find_all('td',id='table-cell-10943-0-5'):\n",
    "    Genre.append(i.text)\n",
    "\n",
    "\n",
    "Genre"
   ]
  },
  {
   "cell_type": "code",
   "execution_count": 172,
   "id": "26869427",
   "metadata": {},
   "outputs": [
    {
     "data": {
      "text/html": [
       "<div>\n",
       "<style scoped>\n",
       "    .dataframe tbody tr th:only-of-type {\n",
       "        vertical-align: middle;\n",
       "    }\n",
       "\n",
       "    .dataframe tbody tr th {\n",
       "        vertical-align: top;\n",
       "    }\n",
       "\n",
       "    .dataframe thead th {\n",
       "        text-align: right;\n",
       "    }\n",
       "</style>\n",
       "<table border=\"1\" class=\"dataframe\">\n",
       "  <thead>\n",
       "    <tr style=\"text-align: right;\">\n",
       "      <th></th>\n",
       "      <th>Names</th>\n",
       "      <th>Autor</th>\n",
       "      <th>Volume</th>\n",
       "      <th>Publisher</th>\n",
       "      <th>Genre</th>\n",
       "    </tr>\n",
       "  </thead>\n",
       "  <tbody>\n",
       "    <tr>\n",
       "      <th>0</th>\n",
       "      <td>Da Vinci Code,The</td>\n",
       "      <td>Brown, Dan</td>\n",
       "      <td>5,094,805</td>\n",
       "      <td>Transworld</td>\n",
       "      <td>Crime, Thriller &amp; Adventure</td>\n",
       "    </tr>\n",
       "  </tbody>\n",
       "</table>\n",
       "</div>"
      ],
      "text/plain": [
       "                 Names         Autor       Volume     Publisher  \\\n",
       "0   Da Vinci Code,The    Brown, Dan    5,094,805    Transworld    \n",
       "\n",
       "                           Genre  \n",
       "0   Crime, Thriller & Adventure   "
      ]
     },
     "execution_count": 172,
     "metadata": {},
     "output_type": "execute_result"
    }
   ],
   "source": [
    "df=pd.DataFrame({'Names':Book_Name,'Autor':Author_Name,'Volume':Volume,'Publisher':Publisher,'Genre':Genre})\n",
    "df"
   ]
  },
  {
   "cell_type": "markdown",
   "id": "018f6df7",
   "metadata": {},
   "source": [
    "Question9"
   ]
  },
  {
   "cell_type": "code",
   "execution_count": 173,
   "id": "ee8a364c",
   "metadata": {},
   "outputs": [],
   "source": [
    "page = requests.get('https://www.imdb.com/list/ls095964455/')"
   ]
  },
  {
   "cell_type": "code",
   "execution_count": 174,
   "id": "bed1e4f4",
   "metadata": {},
   "outputs": [
    {
     "data": {
      "text/plain": [
       "<Response [200]>"
      ]
     },
     "execution_count": 174,
     "metadata": {},
     "output_type": "execute_result"
    }
   ],
   "source": [
    "page"
   ]
  },
  {
   "cell_type": "code",
   "execution_count": 175,
   "id": "cf8f1783",
   "metadata": {},
   "outputs": [],
   "source": [
    "soup = BeautifulSoup(page.content)"
   ]
  },
  {
   "cell_type": "code",
   "execution_count": 176,
   "id": "42c6add5",
   "metadata": {},
   "outputs": [
    {
     "data": {
      "text/plain": [
       "['1.Game of Thrones(2011–2019)',\n",
       " '2.Stranger Things(2016– )',\n",
       " '3.The Walking Dead(2010–2022)',\n",
       " '4.13 Reasons Why(2017–2020)',\n",
       " '5.The 100(2014–2020)',\n",
       " '6.Orange Is the New Black(2013–2019)',\n",
       " '7.Riverdale(2017– )',\n",
       " \"8.Grey's Anatomy(2005– )\",\n",
       " '9.The Flash(2014– )',\n",
       " '10.Arrow(2012–2020)',\n",
       " '11.La casa de papel(2017–2021)',\n",
       " '12.The Big Bang Theory(2007–2019)',\n",
       " '13.Black Mirror(2011–2019)',\n",
       " '14.Sherlock(2010–2017)',\n",
       " '15.Vikings(2013–2020)',\n",
       " '16.Pretty Little Liars(2010–2017)',\n",
       " '17.The Vampire Diaries(2009–2017)',\n",
       " '18.American Horror Story(2011– )',\n",
       " '19.Breaking Bad(2008–2013)',\n",
       " '20.Lucifer(2016–2021)',\n",
       " '21.Supernatural(2005–2020)',\n",
       " '22.Prison Break(2005–2017)',\n",
       " '23.How to Get Away with Murder(2014–2020)',\n",
       " '24.Teen Wolf(2011–2017)',\n",
       " '25.The Simpsons(1989– )',\n",
       " '26.Once Upon a Time(2011–2018)',\n",
       " '27.Narcos(2015–2017)',\n",
       " '28.Daredevil(2015–2018)',\n",
       " '29.Friends(1994–2004)',\n",
       " '30.How I Met Your Mother(2005–2014)',\n",
       " '31.Suits(2011–2019)',\n",
       " '32.Mr. Robot(2015–2019)',\n",
       " '33.The Originals(2013–2018)',\n",
       " '34.Supergirl(2015–2021)',\n",
       " '35.Gossip Girl(2007–2012)',\n",
       " '36.Sense8(2015–2018)',\n",
       " '37.Gotham(2014–2019)',\n",
       " '38.Westworld(2016– )',\n",
       " '39.Jessica Jones(2015–2019)',\n",
       " '40.Modern Family(2009–2020)',\n",
       " '41.Rick and Morty(2013– )',\n",
       " '42.Shadowhunters: The Mortal Instruments(2016–2019)',\n",
       " '43.The End of the F***ing World(2017–2019)',\n",
       " '44.House of Cards(2013–2018)',\n",
       " '45.Dark(2017–2020)',\n",
       " '46.Élite(2018– )',\n",
       " '47.Sex Education(2019– )',\n",
       " '48.Shameless(2011–2021)',\n",
       " '49.New Girl(2011–2018)',\n",
       " '50.Agents of S.H.I.E.L.D.(2013–2020)',\n",
       " '51.You(2018– )',\n",
       " '52.Dexter(2006–2013)',\n",
       " '53.Fear the Walking Dead(2015– )',\n",
       " '54.Family Guy(1999– )',\n",
       " '55.The Blacklist(2013– )',\n",
       " '56.Lost(2004–2010)',\n",
       " '57.Peaky Blinders(2013–2022)',\n",
       " '58.House M.D.(2004–2012)',\n",
       " '59.Quantico(2015–2018)',\n",
       " '60.Orphan Black(2013–2017)',\n",
       " '61.Homeland(2011–2020)',\n",
       " '62.Blindspot(2015–2020)',\n",
       " '63.Legends of Tomorrow(2016– )',\n",
       " \"64.The Handmaid's Tale(2017– )\",\n",
       " '65.Chilling Adventures of Sabrina(2018–2020)',\n",
       " '66.The Good Doctor(2017– )',\n",
       " '67.Jane the Virgin(2014–2019)',\n",
       " '68.Glee(2009–2015)',\n",
       " '69.South Park(1997– )',\n",
       " '70.Brooklyn Nine-Nine(2013–2021)',\n",
       " '71.Under the Dome(2013–2015)',\n",
       " '72.The Umbrella Academy(2019– )',\n",
       " '73.True Detective(2014–2019)',\n",
       " '74.The OA(2016–2019)',\n",
       " '75.Desperate Housewives(2004–2012)',\n",
       " '76.Better Call Saul(2015–2022)',\n",
       " '77.Bates Motel(2013–2017)',\n",
       " '78.The Punisher(2017–2019)',\n",
       " '79.Atypical(2017–2021)',\n",
       " '80.Dynasty(2017– )',\n",
       " '81.This Is Us(2016–2022)',\n",
       " '82.The Good Place(2016–2020)',\n",
       " '83.Iron Fist(2017–2018)',\n",
       " '84.The Rain(2018–2020)',\n",
       " '85.Mindhunter(2017–2019)',\n",
       " '86.Revenge(2011–2015)',\n",
       " '87.Luke Cage(2016–2018)',\n",
       " '88.Scandal(2012–2018)',\n",
       " '89.The Defenders(2017)',\n",
       " '90.Big Little Lies(2017–2019)',\n",
       " '91.Insatiable(2018–2019)',\n",
       " '92.The Mentalist(2008–2015)',\n",
       " '93.The Crown(2016– )',\n",
       " '94.Chernobyl(2019)',\n",
       " '95.iZombie(2015–2019)',\n",
       " '96.Reign(2013–2017)',\n",
       " '97.A Series of Unfortunate Events(2017–2019)',\n",
       " '98.Criminal Minds(2005–2020)',\n",
       " '99.Scream(2015–2019)',\n",
       " '100.The Haunting of Hill House(2018)']"
      ]
     },
     "execution_count": 176,
     "metadata": {},
     "output_type": "execute_result"
    }
   ],
   "source": [
    "names=soup.find_all('h3',class_=\"lister-item-header\")\n",
    "series_names=[]\n",
    "for i in range(0,100):\n",
    "    series_names.append(names[i].get_text().replace(\"\\n\",\"\"))\n",
    "series_names"
   ]
  },
  {
   "cell_type": "code",
   "execution_count": 177,
   "id": "4d2c9697",
   "metadata": {},
   "outputs": [
    {
     "data": {
      "text/plain": [
       "['(2011–2019)',\n",
       " '(2016– )',\n",
       " '(2010–2022)',\n",
       " '(2017–2020)',\n",
       " '(2014–2020)',\n",
       " '(2013–2019)',\n",
       " '(2017– )',\n",
       " '(2005– )',\n",
       " '(2014– )',\n",
       " '(2012–2020)',\n",
       " '(2017–2021)',\n",
       " '(2007–2019)',\n",
       " '(2011–2019)',\n",
       " '(2010–2017)',\n",
       " '(2013–2020)',\n",
       " '(2010–2017)',\n",
       " '(2009–2017)',\n",
       " '(2011– )',\n",
       " '(2008–2013)',\n",
       " '(2016–2021)',\n",
       " '(2005–2020)',\n",
       " '(2005–2017)',\n",
       " '(2014–2020)',\n",
       " '(2011–2017)',\n",
       " '(1989– )',\n",
       " '(2011–2018)',\n",
       " '(2015–2017)',\n",
       " '(2015–2018)',\n",
       " '(1994–2004)',\n",
       " '(2005–2014)',\n",
       " '(2011–2019)',\n",
       " '(2015–2019)',\n",
       " '(2013–2018)',\n",
       " '(2015–2021)',\n",
       " '(2007–2012)',\n",
       " '(2015–2018)',\n",
       " '(2014–2019)',\n",
       " '(2016– )',\n",
       " '(2015–2019)',\n",
       " '(2009–2020)',\n",
       " '(2013– )',\n",
       " '(2016–2019)',\n",
       " '(2017–2019)',\n",
       " '(2013–2018)',\n",
       " '(2017–2020)',\n",
       " '(2018– )',\n",
       " '(2019– )',\n",
       " '(2011–2021)',\n",
       " '(2011–2018)',\n",
       " '(2013–2020)',\n",
       " '(2018– )',\n",
       " '(2006–2013)',\n",
       " '(2015– )',\n",
       " '(1999– )',\n",
       " '(2013– )',\n",
       " '(2004–2010)',\n",
       " '(2013–2022)',\n",
       " '(2004–2012)',\n",
       " '(2015–2018)',\n",
       " '(2013–2017)',\n",
       " '(2011–2020)',\n",
       " '(2015–2020)',\n",
       " '(2016– )',\n",
       " '(2017– )',\n",
       " '(2018–2020)',\n",
       " '(2017– )',\n",
       " '(2014–2019)',\n",
       " '(2009–2015)',\n",
       " '(1997– )',\n",
       " '(2013–2021)',\n",
       " '(2013–2015)',\n",
       " '(2019– )',\n",
       " '(2014–2019)',\n",
       " '(2016–2019)',\n",
       " '(2004–2012)',\n",
       " '(2015–2022)',\n",
       " '(2013–2017)',\n",
       " '(2017–2019)',\n",
       " '(2017–2021)',\n",
       " '(2017– )',\n",
       " '(2016–2022)',\n",
       " '(2016–2020)',\n",
       " '(2017–2018)',\n",
       " '(2018–2020)',\n",
       " '(2017–2019)',\n",
       " '(2011–2015)',\n",
       " '(2016–2018)',\n",
       " '(2012–2018)',\n",
       " '(2017)',\n",
       " '(2017–2019)',\n",
       " '(2018–2019)',\n",
       " '(2008–2015)',\n",
       " '(2016– )',\n",
       " '(2019)',\n",
       " '(2015–2019)',\n",
       " '(2013–2017)',\n",
       " '(2017–2019)',\n",
       " '(2005–2020)',\n",
       " '(2015–2019)',\n",
       " '(2018)']"
      ]
     },
     "execution_count": 177,
     "metadata": {},
     "output_type": "execute_result"
    }
   ],
   "source": [
    "Year=soup.find_all('span',class_=\"lister-item-year text-muted unbold\")\n",
    "Year_span=[]\n",
    "for i in range(0,100):\n",
    "    Year_span.append(Year[i].get_text().replace(\"\\n\",\"\"))\n",
    "Year_span"
   ]
  },
  {
   "cell_type": "code",
   "execution_count": 178,
   "id": "c3281e2b",
   "metadata": {},
   "outputs": [
    {
     "data": {
      "text/plain": [
       "['\\nAction, Adventure, Drama            ',\n",
       " '\\nDrama, Fantasy, Horror            ',\n",
       " '\\nDrama, Horror, Thriller            ',\n",
       " '\\nDrama, Mystery, Thriller            ',\n",
       " '\\nDrama, Mystery, Sci-Fi            ',\n",
       " '\\nComedy, Crime, Drama            ',\n",
       " '\\nCrime, Drama, Mystery            ',\n",
       " '\\nDrama, Romance            ',\n",
       " '\\nAction, Adventure, Drama            ',\n",
       " '\\nAction, Adventure, Crime            ',\n",
       " '\\nAction, Crime, Drama            ',\n",
       " '\\nComedy, Romance            ',\n",
       " '\\nDrama, Sci-Fi, Thriller            ',\n",
       " '\\nCrime, Drama, Mystery            ',\n",
       " '\\nAction, Adventure, Drama            ',\n",
       " '\\nDrama, Mystery, Romance            ',\n",
       " '\\nDrama, Fantasy, Horror            ',\n",
       " '\\nDrama, Horror, Thriller            ',\n",
       " '\\nCrime, Drama, Thriller            ',\n",
       " '\\nCrime, Drama, Fantasy            ',\n",
       " '\\nDrama, Fantasy, Horror            ',\n",
       " '\\nAction, Crime, Drama            ',\n",
       " '\\nCrime, Drama, Mystery            ',\n",
       " '\\nAction, Drama, Fantasy            ',\n",
       " '\\nAnimation, Comedy            ',\n",
       " '\\nAdventure, Fantasy, Romance            ',\n",
       " '\\nBiography, Crime, Drama            ',\n",
       " '\\nAction, Crime, Drama            ',\n",
       " '\\nComedy, Romance            ',\n",
       " '\\nComedy, Romance            ',\n",
       " '\\nComedy, Drama            ',\n",
       " '\\nCrime, Drama, Thriller            ',\n",
       " '\\nDrama, Fantasy, Horror            ',\n",
       " '\\nAction, Adventure, Drama            ',\n",
       " '\\nDrama, Romance            ',\n",
       " '\\nDrama, Mystery, Sci-Fi            ',\n",
       " '\\nAction, Crime, Drama            ',\n",
       " '\\nDrama, Mystery, Sci-Fi            ',\n",
       " '\\nAction, Crime, Drama            ',\n",
       " '\\nComedy, Drama, Romance            ',\n",
       " '\\nAnimation, Adventure, Comedy            ',\n",
       " '\\nAction, Drama, Fantasy            ',\n",
       " '\\nAdventure, Comedy, Crime            ',\n",
       " '\\nDrama            ',\n",
       " '\\nCrime, Drama, Mystery            ',\n",
       " '\\nCrime, Drama, Thriller            ',\n",
       " '\\nComedy, Drama            ',\n",
       " '\\nComedy, Drama            ',\n",
       " '\\nComedy            ',\n",
       " '\\nAction, Adventure, Drama            ',\n",
       " '\\nCrime, Drama, Romance            ',\n",
       " '\\nCrime, Drama, Mystery            ',\n",
       " '\\nDrama, Horror, Sci-Fi            ',\n",
       " '\\nAnimation, Comedy            ',\n",
       " '\\nCrime, Drama, Mystery            ',\n",
       " '\\nAdventure, Drama, Fantasy            ',\n",
       " '\\nCrime, Drama            ',\n",
       " '\\nDrama, Mystery            ',\n",
       " '\\nCrime, Drama, Mystery            ',\n",
       " '\\nDrama, Sci-Fi, Thriller            ',\n",
       " '\\nCrime, Drama, Mystery            ',\n",
       " '\\nAction, Crime, Drama            ',\n",
       " '\\nAction, Adventure, Drama            ',\n",
       " '\\nDrama, Sci-Fi, Thriller            ',\n",
       " '\\nDrama, Fantasy, Horror            ',\n",
       " '\\nDrama            ',\n",
       " '\\nComedy            ',\n",
       " '\\nComedy, Drama, Music            ',\n",
       " '\\nAnimation, Comedy            ',\n",
       " '\\nComedy, Crime            ',\n",
       " '\\nDrama, Mystery, Sci-Fi            ',\n",
       " '\\nAction, Adventure, Comedy            ',\n",
       " '\\nCrime, Drama, Mystery            ',\n",
       " '\\nDrama, Fantasy, Mystery            ',\n",
       " '\\nComedy, Drama, Mystery            ',\n",
       " '\\nCrime, Drama            ',\n",
       " '\\nDrama, Horror, Mystery            ',\n",
       " '\\nAction, Crime, Drama            ',\n",
       " '\\nComedy, Drama            ',\n",
       " '\\nDrama            ',\n",
       " '\\nComedy, Drama, Romance            ',\n",
       " '\\nComedy, Drama, Fantasy            ',\n",
       " '\\nAction, Adventure, Crime            ',\n",
       " '\\nDrama, Sci-Fi, Thriller            ',\n",
       " '\\nCrime, Drama, Thriller            ',\n",
       " '\\nDrama, Mystery, Thriller            ',\n",
       " '\\nAction, Crime, Drama            ',\n",
       " '\\nDrama, Thriller            ',\n",
       " '\\nAction, Adventure, Crime            ',\n",
       " '\\nCrime, Drama, Mystery            ',\n",
       " '\\nComedy, Drama, Thriller            ',\n",
       " '\\nCrime, Drama, Mystery            ',\n",
       " '\\nBiography, Drama, History            ',\n",
       " '\\nDrama, History, Thriller            ',\n",
       " '\\nComedy, Crime, Drama            ',\n",
       " '\\nDrama, Fantasy            ',\n",
       " '\\nAdventure, Comedy, Drama            ',\n",
       " '\\nCrime, Drama, Mystery            ',\n",
       " '\\nComedy, Crime, Drama            ',\n",
       " '\\nDrama, Horror, Mystery            ']"
      ]
     },
     "execution_count": 178,
     "metadata": {},
     "output_type": "execute_result"
    }
   ],
   "source": [
    "Genre=soup.find_all('span',class_=\"genre\")\n",
    "Genres=[]\n",
    "for i in range(0,100):\n",
    "    Genres.append(Genre[i].get_text())\n",
    "Genres"
   ]
  },
  {
   "cell_type": "code",
   "execution_count": 179,
   "id": "8f65e593",
   "metadata": {},
   "outputs": [
    {
     "data": {
      "text/plain": [
       "['57 min',\n",
       " '51 min',\n",
       " '44 min',\n",
       " '60 min',\n",
       " '43 min',\n",
       " '59 min',\n",
       " '45 min',\n",
       " '41 min',\n",
       " '43 min',\n",
       " '42 min',\n",
       " '70 min',\n",
       " '22 min',\n",
       " '60 min',\n",
       " '88 min',\n",
       " '44 min',\n",
       " '44 min',\n",
       " '43 min',\n",
       " '60 min',\n",
       " '49 min',\n",
       " '42 min',\n",
       " '44 min',\n",
       " '44 min',\n",
       " '43 min',\n",
       " '41 min',\n",
       " '22 min',\n",
       " '60 min',\n",
       " '49 min',\n",
       " '54 min',\n",
       " '22 min',\n",
       " '22 min',\n",
       " '44 min',\n",
       " '49 min',\n",
       " '45 min',\n",
       " '43 min',\n",
       " '42 min',\n",
       " '60 min',\n",
       " '42 min',\n",
       " '62 min',\n",
       " '56 min',\n",
       " '22 min',\n",
       " '23 min',\n",
       " '42 min',\n",
       " '25 min',\n",
       " '51 min',\n",
       " '60 min',\n",
       " '60 min',\n",
       " '45 min',\n",
       " '46 min',\n",
       " '22 min',\n",
       " '45 min',\n",
       " '45 min',\n",
       " '53 min',\n",
       " '44 min',\n",
       " '22 min',\n",
       " '43 min',\n",
       " '44 min',\n",
       " '60 min',\n",
       " '44 min',\n",
       " '42 min',\n",
       " '44 min',\n",
       " '55 min',\n",
       " '42 min',\n",
       " '42 min',\n",
       " '60 min',\n",
       " '60 min',\n",
       " '41 min',\n",
       " '60 min',\n",
       " '44 min',\n",
       " '22 min',\n",
       " '22 min',\n",
       " '43 min',\n",
       " '60 min',\n",
       " '55 min',\n",
       " '60 min',\n",
       " '45 min',\n",
       " '46 min',\n",
       " '45 min',\n",
       " '53 min',\n",
       " '30 min',\n",
       " '42 min',\n",
       " '45 min',\n",
       " '22 min',\n",
       " '55 min',\n",
       " '45 min',\n",
       " '60 min',\n",
       " '44 min',\n",
       " '55 min',\n",
       " '43 min',\n",
       " '50 min',\n",
       " '60 min',\n",
       " '45 min',\n",
       " '43 min',\n",
       " '58 min',\n",
       " '330 min',\n",
       " '42 min',\n",
       " '42 min',\n",
       " '50 min',\n",
       " '42 min',\n",
       " '45 min',\n",
       " '572 min']"
      ]
     },
     "execution_count": 179,
     "metadata": {},
     "output_type": "execute_result"
    }
   ],
   "source": [
    "Run_time=soup.find_all('span',class_=\"runtime\")\n",
    "time=[]\n",
    "for i in range(0,100):\n",
    "    time.append(Run_time[i].get_text())\n",
    "time"
   ]
  },
  {
   "cell_type": "code",
   "execution_count": 180,
   "id": "eca9ad6a",
   "metadata": {},
   "outputs": [
    {
     "data": {
      "text/plain": [
       "['9.2',\n",
       " '0',\n",
       " 'Rate',\n",
       " '1',\n",
       " 'Rate',\n",
       " '2',\n",
       " 'Rate',\n",
       " '3',\n",
       " 'Rate',\n",
       " '4',\n",
       " 'Rate',\n",
       " '5',\n",
       " 'Rate',\n",
       " '6',\n",
       " 'Rate',\n",
       " '7',\n",
       " 'Rate',\n",
       " '8',\n",
       " 'Rate',\n",
       " '9',\n",
       " 'Rate',\n",
       " '10',\n",
       " 'Rate',\n",
       " '8.7',\n",
       " '0',\n",
       " 'Rate',\n",
       " '1',\n",
       " 'Rate',\n",
       " '2',\n",
       " 'Rate',\n",
       " '3',\n",
       " 'Rate',\n",
       " '4',\n",
       " 'Rate',\n",
       " '5',\n",
       " 'Rate',\n",
       " '6',\n",
       " 'Rate',\n",
       " '7',\n",
       " 'Rate',\n",
       " '8',\n",
       " 'Rate',\n",
       " '9',\n",
       " 'Rate',\n",
       " '10',\n",
       " 'Rate',\n",
       " '8.2',\n",
       " '0',\n",
       " 'Rate',\n",
       " '1',\n",
       " 'Rate',\n",
       " '2',\n",
       " 'Rate',\n",
       " '3',\n",
       " 'Rate',\n",
       " '4',\n",
       " 'Rate',\n",
       " '5',\n",
       " 'Rate',\n",
       " '6',\n",
       " 'Rate',\n",
       " '7',\n",
       " 'Rate',\n",
       " '8',\n",
       " 'Rate',\n",
       " '9',\n",
       " 'Rate',\n",
       " '10',\n",
       " 'Rate',\n",
       " '7.5',\n",
       " '0',\n",
       " 'Rate',\n",
       " '1',\n",
       " 'Rate',\n",
       " '2',\n",
       " 'Rate',\n",
       " '3',\n",
       " 'Rate',\n",
       " '4',\n",
       " 'Rate',\n",
       " '5',\n",
       " 'Rate',\n",
       " '6',\n",
       " 'Rate',\n",
       " '7',\n",
       " 'Rate',\n",
       " '8',\n",
       " 'Rate',\n",
       " '9',\n",
       " 'Rate',\n",
       " '10',\n",
       " 'Rate',\n",
       " '7.6',\n",
       " '0',\n",
       " 'Rate',\n",
       " '1',\n",
       " 'Rate',\n",
       " '2',\n",
       " 'Rate',\n",
       " '3']"
      ]
     },
     "execution_count": 180,
     "metadata": {},
     "output_type": "execute_result"
    }
   ],
   "source": [
    "ratings=soup.find_all('span',class_='ipl-rating-star__rating')\n",
    "series_rating=[]\n",
    "for i in range(0,100):\n",
    "    series_rating.append(ratings[i].get_text().replace(\"\\n\",\"\"))\n",
    "series_rating"
   ]
  },
  {
   "cell_type": "code",
   "execution_count": 181,
   "id": "43f98087",
   "metadata": {},
   "outputs": [
    {
     "name": "stdout",
     "output_type": "stream",
     "text": [
      "100 100 100 100 100\n"
     ]
    }
   ],
   "source": [
    "print(len(series_names),len(Year_span),len(Genres),len(time),len(series_rating))"
   ]
  },
  {
   "cell_type": "code",
   "execution_count": 183,
   "id": "578582fb",
   "metadata": {},
   "outputs": [
    {
     "data": {
      "text/html": [
       "<div>\n",
       "<style scoped>\n",
       "    .dataframe tbody tr th:only-of-type {\n",
       "        vertical-align: middle;\n",
       "    }\n",
       "\n",
       "    .dataframe tbody tr th {\n",
       "        vertical-align: top;\n",
       "    }\n",
       "\n",
       "    .dataframe thead th {\n",
       "        text-align: right;\n",
       "    }\n",
       "</style>\n",
       "<table border=\"1\" class=\"dataframe\">\n",
       "  <thead>\n",
       "    <tr style=\"text-align: right;\">\n",
       "      <th></th>\n",
       "      <th>Names</th>\n",
       "      <th>Year</th>\n",
       "      <th>Genre</th>\n",
       "      <th>Time</th>\n",
       "      <th>Rating</th>\n",
       "    </tr>\n",
       "  </thead>\n",
       "  <tbody>\n",
       "    <tr>\n",
       "      <th>0</th>\n",
       "      <td>1.Game of Thrones(2011–2019)</td>\n",
       "      <td>(2011–2019)</td>\n",
       "      <td>\\nAction, Adventure, Drama</td>\n",
       "      <td>57 min</td>\n",
       "      <td>9.2</td>\n",
       "    </tr>\n",
       "    <tr>\n",
       "      <th>1</th>\n",
       "      <td>2.Stranger Things(2016– )</td>\n",
       "      <td>(2016– )</td>\n",
       "      <td>\\nDrama, Fantasy, Horror</td>\n",
       "      <td>51 min</td>\n",
       "      <td>0</td>\n",
       "    </tr>\n",
       "    <tr>\n",
       "      <th>2</th>\n",
       "      <td>3.The Walking Dead(2010–2022)</td>\n",
       "      <td>(2010–2022)</td>\n",
       "      <td>\\nDrama, Horror, Thriller</td>\n",
       "      <td>44 min</td>\n",
       "      <td>Rate</td>\n",
       "    </tr>\n",
       "    <tr>\n",
       "      <th>3</th>\n",
       "      <td>4.13 Reasons Why(2017–2020)</td>\n",
       "      <td>(2017–2020)</td>\n",
       "      <td>\\nDrama, Mystery, Thriller</td>\n",
       "      <td>60 min</td>\n",
       "      <td>1</td>\n",
       "    </tr>\n",
       "    <tr>\n",
       "      <th>4</th>\n",
       "      <td>5.The 100(2014–2020)</td>\n",
       "      <td>(2014–2020)</td>\n",
       "      <td>\\nDrama, Mystery, Sci-Fi</td>\n",
       "      <td>43 min</td>\n",
       "      <td>Rate</td>\n",
       "    </tr>\n",
       "    <tr>\n",
       "      <th>...</th>\n",
       "      <td>...</td>\n",
       "      <td>...</td>\n",
       "      <td>...</td>\n",
       "      <td>...</td>\n",
       "      <td>...</td>\n",
       "    </tr>\n",
       "    <tr>\n",
       "      <th>95</th>\n",
       "      <td>96.Reign(2013–2017)</td>\n",
       "      <td>(2013–2017)</td>\n",
       "      <td>\\nDrama, Fantasy</td>\n",
       "      <td>42 min</td>\n",
       "      <td>1</td>\n",
       "    </tr>\n",
       "    <tr>\n",
       "      <th>96</th>\n",
       "      <td>97.A Series of Unfortunate Events(2017–2019)</td>\n",
       "      <td>(2017–2019)</td>\n",
       "      <td>\\nAdventure, Comedy, Drama</td>\n",
       "      <td>50 min</td>\n",
       "      <td>Rate</td>\n",
       "    </tr>\n",
       "    <tr>\n",
       "      <th>97</th>\n",
       "      <td>98.Criminal Minds(2005–2020)</td>\n",
       "      <td>(2005–2020)</td>\n",
       "      <td>\\nCrime, Drama, Mystery</td>\n",
       "      <td>42 min</td>\n",
       "      <td>2</td>\n",
       "    </tr>\n",
       "    <tr>\n",
       "      <th>98</th>\n",
       "      <td>99.Scream(2015–2019)</td>\n",
       "      <td>(2015–2019)</td>\n",
       "      <td>\\nComedy, Crime, Drama</td>\n",
       "      <td>45 min</td>\n",
       "      <td>Rate</td>\n",
       "    </tr>\n",
       "    <tr>\n",
       "      <th>99</th>\n",
       "      <td>100.The Haunting of Hill House(2018)</td>\n",
       "      <td>(2018)</td>\n",
       "      <td>\\nDrama, Horror, Mystery</td>\n",
       "      <td>572 min</td>\n",
       "      <td>3</td>\n",
       "    </tr>\n",
       "  </tbody>\n",
       "</table>\n",
       "<p>100 rows × 5 columns</p>\n",
       "</div>"
      ],
      "text/plain": [
       "                                           Names         Year  \\\n",
       "0                   1.Game of Thrones(2011–2019)  (2011–2019)   \n",
       "1                      2.Stranger Things(2016– )     (2016– )   \n",
       "2                  3.The Walking Dead(2010–2022)  (2010–2022)   \n",
       "3                    4.13 Reasons Why(2017–2020)  (2017–2020)   \n",
       "4                           5.The 100(2014–2020)  (2014–2020)   \n",
       "..                                           ...          ...   \n",
       "95                           96.Reign(2013–2017)  (2013–2017)   \n",
       "96  97.A Series of Unfortunate Events(2017–2019)  (2017–2019)   \n",
       "97                  98.Criminal Minds(2005–2020)  (2005–2020)   \n",
       "98                          99.Scream(2015–2019)  (2015–2019)   \n",
       "99          100.The Haunting of Hill House(2018)       (2018)   \n",
       "\n",
       "                                     Genre     Time Rating  \n",
       "0   \\nAction, Adventure, Drama               57 min    9.2  \n",
       "1     \\nDrama, Fantasy, Horror               51 min      0  \n",
       "2    \\nDrama, Horror, Thriller               44 min   Rate  \n",
       "3   \\nDrama, Mystery, Thriller               60 min      1  \n",
       "4     \\nDrama, Mystery, Sci-Fi               43 min   Rate  \n",
       "..                                     ...      ...    ...  \n",
       "95            \\nDrama, Fantasy               42 min      1  \n",
       "96  \\nAdventure, Comedy, Drama               50 min   Rate  \n",
       "97     \\nCrime, Drama, Mystery               42 min      2  \n",
       "98      \\nComedy, Crime, Drama               45 min   Rate  \n",
       "99    \\nDrama, Horror, Mystery              572 min      3  \n",
       "\n",
       "[100 rows x 5 columns]"
      ]
     },
     "execution_count": 183,
     "metadata": {},
     "output_type": "execute_result"
    }
   ],
   "source": [
    "df=pd.DataFrame({'Names':series_names,'Year':Year_span,'Genre':Genres,'Time':time,'Rating':series_rating})\n",
    "df"
   ]
  },
  {
   "cell_type": "markdown",
   "id": "009a9727",
   "metadata": {},
   "source": [
    "Question-1"
   ]
  },
  {
   "cell_type": "code",
   "execution_count": 184,
   "id": "949e5e31",
   "metadata": {},
   "outputs": [],
   "source": [
    "page = requests.get('https://en.wikipedia.org/wiki/List_of_most-viewed_YouTube_videos')"
   ]
  },
  {
   "cell_type": "code",
   "execution_count": 185,
   "id": "44b05ffb",
   "metadata": {},
   "outputs": [
    {
     "data": {
      "text/plain": [
       "<Response [200]>"
      ]
     },
     "execution_count": 185,
     "metadata": {},
     "output_type": "execute_result"
    }
   ],
   "source": [
    "page"
   ]
  },
  {
   "cell_type": "code",
   "execution_count": 186,
   "id": "02ba6e5d",
   "metadata": {},
   "outputs": [],
   "source": [
    "soup = BeautifulSoup(page.content)"
   ]
  },
  {
   "cell_type": "code",
   "execution_count": 187,
   "id": "d382e23b",
   "metadata": {},
   "outputs": [
    {
     "data": {
      "text/plain": [
       "['music videos',\n",
       " 'Baby Shark Dance',\n",
       " 'Johny Johny Yes Papa',\n",
       " 'Cocomelon – Nursery Rhymes',\n",
       " 'Cocomelon – Nursery Rhymes',\n",
       " 'Cocomelon – Nursery Rhymes',\n",
       " 'Baby Shark Dance',\n",
       " 'Baby Shark Dance',\n",
       " 'Johny Johny Yes Papa',\n",
       " 'Baby Shark Dance',\n",
       " 'List of most-viewed online trailers in the first 24 hours',\n",
       " 'regional restrictions',\n",
       " 'Wired',\n",
       " 'CNet',\n",
       " 'Virtual',\n",
       " 'Pakistani music videos',\n",
       " 'Criticism',\n",
       " 'Censorship',\n",
       " 'music videos']"
      ]
     },
     "execution_count": 187,
     "metadata": {},
     "output_type": "execute_result"
    }
   ],
   "source": [
    "video_name=[]\n",
    "\n",
    "for i in soup.find_all('a',class_=\"mw-redirect\"):\n",
    "    video_name.append(i.text)\n",
    "video_name"
   ]
  },
  {
   "cell_type": "code",
   "execution_count": 189,
   "id": "ad99e818",
   "metadata": {},
   "outputs": [],
   "source": [
    "import selenium\n",
    "import pandas as pd\n",
    "import time\n",
    "from selenium import webdriver\n",
    "from selenium.common.exceptions import StaleElementReferenceException, NoSuchElementException\n",
    "import requests\n",
    "import warnings\n",
    "from selenium.webdriver.chrome.service import Service\n",
    "from webdriver_manager.chrome import ChromeDriverManager\n"
   ]
  },
  {
   "cell_type": "code",
   "execution_count": 190,
   "id": "7d9ea15a",
   "metadata": {},
   "outputs": [
    {
     "name": "stderr",
     "output_type": "stream",
     "text": [
      "\n",
      "\n",
      "====== WebDriver manager ======\n",
      "Current google-chrome version is 96.0.4664\n",
      "Get LATEST chromedriver version for 96.0.4664 google-chrome\n",
      "Trying to download new driver from https://chromedriver.storage.googleapis.com/96.0.4664.45/chromedriver_mac64.zip\n",
      "Driver has been saved in cache [/Users/apple/.wdm/drivers/chromedriver/mac64/96.0.4664.45]\n"
     ]
    }
   ],
   "source": [
    "s=Service(ChromeDriverManager().install())\n",
    "driver = webdriver.Chrome(service=s)"
   ]
  },
  {
   "cell_type": "markdown",
   "id": "61df568a",
   "metadata": {},
   "source": [
    "Question-2"
   ]
  },
  {
   "cell_type": "code",
   "execution_count": null,
   "id": "a9bbc883",
   "metadata": {},
   "outputs": [],
   "source": [
    "url='https://www.bcci.tv/'\n",
    "driver.get(url)\n",
    "time.sleep(6)\n",
    "\n",
    "# entering 'international fixtures' from bcci.tv\n"
   ]
  },
  {
   "cell_type": "code",
   "execution_count": 200,
   "id": "f81de6d0",
   "metadata": {},
   "outputs": [],
   "source": [
    "page=requests.get('https://www.bcci.tv/international/fixtures')"
   ]
  },
  {
   "cell_type": "code",
   "execution_count": 201,
   "id": "29ebdb27",
   "metadata": {},
   "outputs": [
    {
     "data": {
      "text/plain": [
       "<Response [200]>"
      ]
     },
     "execution_count": 201,
     "metadata": {},
     "output_type": "execute_result"
    }
   ],
   "source": [
    "page"
   ]
  },
  {
   "cell_type": "code",
   "execution_count": 204,
   "id": "05ddf259",
   "metadata": {},
   "outputs": [],
   "source": [
    "soup=soup = BeautifulSoup(page.content)"
   ]
  },
  {
   "cell_type": "code",
   "execution_count": 203,
   "id": "99242bbe",
   "metadata": {},
   "outputs": [
    {
     "data": {
      "text/plain": [
       "[]"
      ]
     },
     "execution_count": 203,
     "metadata": {},
     "output_type": "execute_result"
    }
   ],
   "source": [
    "match_title=[]\n",
    "for i in soup.find_all('span',class_=\"ng-binding\"):\n",
    "    match_title.append(i.text)\n",
    "match_title"
   ]
  },
  {
   "cell_type": "code",
   "execution_count": 205,
   "id": "5291bf3c",
   "metadata": {},
   "outputs": [
    {
     "data": {
      "text/plain": [
       "[]"
      ]
     },
     "execution_count": 205,
     "metadata": {},
     "output_type": "execute_result"
    }
   ],
   "source": [
    "date=[]\n",
    "for i in soup.find_all('h5',class_=\"ng-binding\"):\n",
    "    date.append(i.text)\n",
    "date"
   ]
  },
  {
   "cell_type": "code",
   "execution_count": 206,
   "id": "6a154c76",
   "metadata": {},
   "outputs": [
    {
     "data": {
      "text/plain": [
       "[]"
      ]
     },
     "execution_count": 206,
     "metadata": {},
     "output_type": "execute_result"
    }
   ],
   "source": [
    "time=[]\n",
    "for i in soup.find_all('h5',class_=\"text-right ng-binding\"):\n",
    "    time.append(i.text)\n",
    "time"
   ]
  },
  {
   "cell_type": "code",
   "execution_count": null,
   "id": "f4c6c18b",
   "metadata": {},
   "outputs": [],
   "source": []
  }
 ],
 "metadata": {
  "kernelspec": {
   "display_name": "Python 3",
   "language": "python",
   "name": "python3"
  },
  "language_info": {
   "codemirror_mode": {
    "name": "ipython",
    "version": 3
   },
   "file_extension": ".py",
   "mimetype": "text/x-python",
   "name": "python",
   "nbconvert_exporter": "python",
   "pygments_lexer": "ipython3",
   "version": "3.8.8"
  }
 },
 "nbformat": 4,
 "nbformat_minor": 5
}
