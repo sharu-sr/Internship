{
 "cells": [
  {
   "cell_type": "markdown",
   "id": "1e53a5f5",
   "metadata": {},
   "source": [
    "# WEB SCRAPING USING SELENIUM"
   ]
  },
  {
   "cell_type": "code",
   "execution_count": 74,
   "id": "07a5ede8",
   "metadata": {
    "scrolled": true
   },
   "outputs": [
    {
     "name": "stdout",
     "output_type": "stream",
     "text": [
      "Requirement already satisfied: selenium in ./opt/anaconda3/lib/python3.8/site-packages (4.0.0)\n",
      "Requirement already satisfied: urllib3[secure]~=1.26 in ./opt/anaconda3/lib/python3.8/site-packages (from selenium) (1.26.4)\n",
      "Requirement already satisfied: trio~=0.17 in ./opt/anaconda3/lib/python3.8/site-packages (from selenium) (0.19.0)\n",
      "Requirement already satisfied: trio-websocket~=0.9 in ./opt/anaconda3/lib/python3.8/site-packages (from selenium) (0.9.2)\n",
      "Requirement already satisfied: outcome in ./opt/anaconda3/lib/python3.8/site-packages (from trio~=0.17->selenium) (1.1.0)\n",
      "Requirement already satisfied: idna in ./opt/anaconda3/lib/python3.8/site-packages (from trio~=0.17->selenium) (2.10)\n",
      "Requirement already satisfied: sortedcontainers in ./opt/anaconda3/lib/python3.8/site-packages (from trio~=0.17->selenium) (2.3.0)\n",
      "Requirement already satisfied: attrs>=19.2.0 in ./opt/anaconda3/lib/python3.8/site-packages (from trio~=0.17->selenium) (20.3.0)\n",
      "Requirement already satisfied: async-generator>=1.9 in ./opt/anaconda3/lib/python3.8/site-packages (from trio~=0.17->selenium) (1.10)\n",
      "Requirement already satisfied: sniffio in ./opt/anaconda3/lib/python3.8/site-packages (from trio~=0.17->selenium) (1.2.0)\n",
      "Requirement already satisfied: wsproto>=0.14 in ./opt/anaconda3/lib/python3.8/site-packages (from trio-websocket~=0.9->selenium) (1.0.0)\n",
      "Requirement already satisfied: certifi in ./opt/anaconda3/lib/python3.8/site-packages (from urllib3[secure]~=1.26->selenium) (2020.12.5)\n",
      "Requirement already satisfied: cryptography>=1.3.4 in ./opt/anaconda3/lib/python3.8/site-packages (from urllib3[secure]~=1.26->selenium) (3.4.7)\n",
      "Requirement already satisfied: pyOpenSSL>=0.14 in ./opt/anaconda3/lib/python3.8/site-packages (from urllib3[secure]~=1.26->selenium) (20.0.1)\n",
      "Requirement already satisfied: cffi>=1.12 in ./opt/anaconda3/lib/python3.8/site-packages (from cryptography>=1.3.4->urllib3[secure]~=1.26->selenium) (1.14.5)\n",
      "Requirement already satisfied: pycparser in ./opt/anaconda3/lib/python3.8/site-packages (from cffi>=1.12->cryptography>=1.3.4->urllib3[secure]~=1.26->selenium) (2.20)\n",
      "Requirement already satisfied: six>=1.5.2 in ./opt/anaconda3/lib/python3.8/site-packages (from pyOpenSSL>=0.14->urllib3[secure]~=1.26->selenium) (1.15.0)\n",
      "Requirement already satisfied: h11<1,>=0.9.0 in ./opt/anaconda3/lib/python3.8/site-packages (from wsproto>=0.14->trio-websocket~=0.9->selenium) (0.12.0)\n",
      "Requirement already satisfied: webdriver_manager in ./opt/anaconda3/lib/python3.8/site-packages (3.5.2)\n",
      "Requirement already satisfied: crayons in ./opt/anaconda3/lib/python3.8/site-packages (from webdriver_manager) (0.4.0)\n",
      "Requirement already satisfied: configparser in ./opt/anaconda3/lib/python3.8/site-packages (from webdriver_manager) (5.1.0)\n",
      "Requirement already satisfied: requests in ./opt/anaconda3/lib/python3.8/site-packages (from webdriver_manager) (2.25.1)\n",
      "Requirement already satisfied: colorama in ./opt/anaconda3/lib/python3.8/site-packages (from crayons->webdriver_manager) (0.4.4)\n",
      "Requirement already satisfied: certifi>=2017.4.17 in ./opt/anaconda3/lib/python3.8/site-packages (from requests->webdriver_manager) (2020.12.5)\n",
      "Requirement already satisfied: idna<3,>=2.5 in ./opt/anaconda3/lib/python3.8/site-packages (from requests->webdriver_manager) (2.10)\n",
      "Requirement already satisfied: chardet<5,>=3.0.2 in ./opt/anaconda3/lib/python3.8/site-packages (from requests->webdriver_manager) (4.0.0)\n",
      "Requirement already satisfied: urllib3<1.27,>=1.21.1 in ./opt/anaconda3/lib/python3.8/site-packages (from requests->webdriver_manager) (1.26.4)\n"
     ]
    }
   ],
   "source": [
    "#lets first install selenium library\n",
    "!pip install selenium\n",
    "!pip install webdriver_manager"
   ]
  },
  {
   "cell_type": "code",
   "execution_count": 75,
   "id": "4070f108",
   "metadata": {},
   "outputs": [],
   "source": [
    "import selenium\n",
    "import pandas as pd\n",
    "from selenium import webdriver\n",
    "import warnings\n",
    "from selenium.webdriver.chrome.service import Service\n",
    "from webdriver_manager.chrome import ChromeDriverManager"
   ]
  },
  {
   "cell_type": "code",
   "execution_count": 76,
   "id": "abaa9954",
   "metadata": {},
   "outputs": [
    {
     "name": "stderr",
     "output_type": "stream",
     "text": [
      "\n",
      "\n",
      "====== WebDriver manager ======\n",
      "Current google-chrome version is 95.0.4638\n",
      "Get LATEST chromedriver version for 95.0.4638 google-chrome\n",
      "Driver [/Users/apple/.wdm/drivers/chromedriver/mac64/95.0.4638.69/chromedriver] found in cache\n"
     ]
    }
   ],
   "source": [
    "#lets first connect to web driver\n",
    "#driver=webdriver.Chrome('/Users/apple/Documents/drivers/chromedriver')\n",
    "s=Service(ChromeDriverManager().install())\n",
    "driver = webdriver.Chrome(service=s)"
   ]
  },
  {
   "cell_type": "markdown",
   "id": "8a7a8a0e",
   "metadata": {},
   "source": [
    "Question 1"
   ]
  },
  {
   "cell_type": "code",
   "execution_count": 50,
   "id": "7b6ed0bb",
   "metadata": {},
   "outputs": [],
   "source": [
    "driver.get('https://www.naukri.com/')"
   ]
  },
  {
   "cell_type": "code",
   "execution_count": 51,
   "id": "7e7df154",
   "metadata": {},
   "outputs": [
    {
     "name": "stderr",
     "output_type": "stream",
     "text": [
      "<ipython-input-51-770542120cfc>:2: DeprecationWarning: find_element_by_* commands are deprecated. Please use find_element() instead\n",
      "  search_job=driver.find_element_by_id('qsb-keyword-sugg')\n",
      "<ipython-input-51-770542120cfc>:4: DeprecationWarning: find_element_by_* commands are deprecated. Please use find_element() instead\n",
      "  search_loc=driver.find_element_by_xpath('//input[@id=\"qsb-location-sugg\"]')\n"
     ]
    }
   ],
   "source": [
    "#finding element for job search\n",
    "search_job=driver.find_element_by_id('qsb-keyword-sugg')\n",
    "search_job.send_keys('Data Analyst')\n",
    "search_loc=driver.find_element_by_xpath('//input[@id=\"qsb-location-sugg\"]')\n",
    "search_loc.send_keys('Bangalore')"
   ]
  },
  {
   "cell_type": "code",
   "execution_count": 52,
   "id": "ee7eb18b",
   "metadata": {},
   "outputs": [
    {
     "name": "stderr",
     "output_type": "stream",
     "text": [
      "<ipython-input-52-774f502b12cb>:1: DeprecationWarning: find_element_by_* commands are deprecated. Please use find_element() instead\n",
      "  search_button=driver.find_element_by_xpath('//div[@class=\"search-btn\"]/button')\n"
     ]
    }
   ],
   "source": [
    "search_button=driver.find_element_by_xpath('//div[@class=\"search-btn\"]/button')\n",
    "search_button.click()"
   ]
  },
  {
   "cell_type": "code",
   "execution_count": 53,
   "id": "e52616b1",
   "metadata": {},
   "outputs": [],
   "source": [
    "job_titles=[]\n",
    "company_names=[]\n",
    "location_list=[]\n",
    "experience_list=[]"
   ]
  },
  {
   "cell_type": "code",
   "execution_count": 54,
   "id": "d6b86dc9",
   "metadata": {},
   "outputs": [
    {
     "name": "stderr",
     "output_type": "stream",
     "text": [
      "<ipython-input-54-8b363a23ab8f>:2: DeprecationWarning: find_elements_by_* commands are deprecated. Please use find_elements() instead\n",
      "  title_tags=driver.find_elements_by_xpath('//a[@class=\"title fw500 ellipsis\"]')\n"
     ]
    },
    {
     "data": {
      "text/plain": [
       "[<selenium.webdriver.remote.webelement.WebElement (session=\"0f5464133e4c4bfa4095904d2ceb82ff\", element=\"c519a27b-77e6-48ec-8436-448593cc0c1c\")>,\n",
       " <selenium.webdriver.remote.webelement.WebElement (session=\"0f5464133e4c4bfa4095904d2ceb82ff\", element=\"75b57d5f-586f-4382-bc0f-2056401bad27\")>,\n",
       " <selenium.webdriver.remote.webelement.WebElement (session=\"0f5464133e4c4bfa4095904d2ceb82ff\", element=\"fdb5df9d-c7ed-4a4e-a652-32586af1e8de\")>,\n",
       " <selenium.webdriver.remote.webelement.WebElement (session=\"0f5464133e4c4bfa4095904d2ceb82ff\", element=\"75851569-479d-4b52-8982-4caeecc28c30\")>,\n",
       " <selenium.webdriver.remote.webelement.WebElement (session=\"0f5464133e4c4bfa4095904d2ceb82ff\", element=\"6d09254b-ef1d-42b0-bacc-1e815aa4e8af\")>,\n",
       " <selenium.webdriver.remote.webelement.WebElement (session=\"0f5464133e4c4bfa4095904d2ceb82ff\", element=\"48b40c8d-67c3-42ab-a896-80f773f2c7b8\")>,\n",
       " <selenium.webdriver.remote.webelement.WebElement (session=\"0f5464133e4c4bfa4095904d2ceb82ff\", element=\"df427936-ffa6-414f-9e7e-11326e5c284a\")>,\n",
       " <selenium.webdriver.remote.webelement.WebElement (session=\"0f5464133e4c4bfa4095904d2ceb82ff\", element=\"7dd12d1b-5982-45d1-bcd6-20a4dd4716aa\")>,\n",
       " <selenium.webdriver.remote.webelement.WebElement (session=\"0f5464133e4c4bfa4095904d2ceb82ff\", element=\"b0cec895-a135-4f6f-b754-ae36242952a8\")>,\n",
       " <selenium.webdriver.remote.webelement.WebElement (session=\"0f5464133e4c4bfa4095904d2ceb82ff\", element=\"dcb7ec1d-2cec-4b13-9af4-98eba829bd31\")>]"
      ]
     },
     "execution_count": 54,
     "metadata": {},
     "output_type": "execute_result"
    }
   ],
   "source": [
    "#extracting tags having job titles\n",
    "title_tags=driver.find_elements_by_xpath('//a[@class=\"title fw500 ellipsis\"]')\n",
    "title_tags[0:10]\n",
    "    \n"
   ]
  },
  {
   "cell_type": "code",
   "execution_count": 55,
   "id": "8e8eeadc",
   "metadata": {},
   "outputs": [
    {
     "data": {
      "text/plain": [
       "['Data Analyst - Flipkart Analytics',\n",
       " 'Urgent Openings For Data Analyst / Business Analyst',\n",
       " 'Business Data Analyst(BigId) - Capco - Bangalore',\n",
       " 'Senior Data Analyst',\n",
       " 'Sr Data Analyst',\n",
       " 'Business Data Analyst - Database Design/Mining',\n",
       " 'Opportunity For Business Data Analyst',\n",
       " 'Hiring For Data Analyst - Payment System Intelligence',\n",
       " 'Lead / Senior Data Analyst',\n",
       " 'Senior Data Analyst']"
      ]
     },
     "execution_count": 55,
     "metadata": {},
     "output_type": "execute_result"
    }
   ],
   "source": [
    "#extracting only tags using for loop\n",
    "for i in title_tags:\n",
    "    title=i.text\n",
    "    job_titles.append(title)\n",
    "job_titles[0:10]"
   ]
  },
  {
   "cell_type": "code",
   "execution_count": 56,
   "id": "e71f4471",
   "metadata": {},
   "outputs": [
    {
     "name": "stderr",
     "output_type": "stream",
     "text": [
      "<ipython-input-56-a0141c08ca18>:2: DeprecationWarning: find_elements_by_* commands are deprecated. Please use find_elements() instead\n",
      "  companies_tags=driver.find_elements_by_xpath('//a[@class=\"subTitle ellipsis fleft\"]')\n"
     ]
    },
    {
     "data": {
      "text/plain": [
       "[<selenium.webdriver.remote.webelement.WebElement (session=\"0f5464133e4c4bfa4095904d2ceb82ff\", element=\"9b146e6c-3137-429a-8d87-8956c91fb727\")>,\n",
       " <selenium.webdriver.remote.webelement.WebElement (session=\"0f5464133e4c4bfa4095904d2ceb82ff\", element=\"8dd1654d-8d83-406b-bfcc-f7cdba491026\")>,\n",
       " <selenium.webdriver.remote.webelement.WebElement (session=\"0f5464133e4c4bfa4095904d2ceb82ff\", element=\"10b9807f-8ed5-45e6-93d1-a4ad055881e3\")>,\n",
       " <selenium.webdriver.remote.webelement.WebElement (session=\"0f5464133e4c4bfa4095904d2ceb82ff\", element=\"3cce2721-84b0-434a-8c2a-51c3a96f3097\")>,\n",
       " <selenium.webdriver.remote.webelement.WebElement (session=\"0f5464133e4c4bfa4095904d2ceb82ff\", element=\"510070fd-5e8c-496f-8320-4566952be2aa\")>,\n",
       " <selenium.webdriver.remote.webelement.WebElement (session=\"0f5464133e4c4bfa4095904d2ceb82ff\", element=\"5da90c62-b85b-4c60-b87e-eb2776e6a874\")>,\n",
       " <selenium.webdriver.remote.webelement.WebElement (session=\"0f5464133e4c4bfa4095904d2ceb82ff\", element=\"fcc6e995-36e5-47af-a7f2-d0aa106a7b71\")>,\n",
       " <selenium.webdriver.remote.webelement.WebElement (session=\"0f5464133e4c4bfa4095904d2ceb82ff\", element=\"9d92d2f4-ce4f-463f-aa4f-dabab9e7c71e\")>,\n",
       " <selenium.webdriver.remote.webelement.WebElement (session=\"0f5464133e4c4bfa4095904d2ceb82ff\", element=\"7fd8625c-15dd-4ee9-bd68-475bdb4e9cc4\")>,\n",
       " <selenium.webdriver.remote.webelement.WebElement (session=\"0f5464133e4c4bfa4095904d2ceb82ff\", element=\"429b2430-4b2d-4491-9ed0-da74e6b5ecb5\")>]"
      ]
     },
     "execution_count": 56,
     "metadata": {},
     "output_type": "execute_result"
    }
   ],
   "source": [
    "#lets extract tags having company names\n",
    "companies_tags=driver.find_elements_by_xpath('//a[@class=\"subTitle ellipsis fleft\"]')\n",
    "companies_tags[0:10]"
   ]
  },
  {
   "cell_type": "code",
   "execution_count": 57,
   "id": "dbdd17c1",
   "metadata": {},
   "outputs": [
    {
     "data": {
      "text/plain": [
       "['Flipkart',\n",
       " 'Flipkart',\n",
       " 'Capco Technologies Pvt Ltd',\n",
       " 'Pioneer Business Solutions',\n",
       " 'Pioneer Business Solutions',\n",
       " 'AugmatrixGo',\n",
       " 'Botree Software International Private Limited',\n",
       " 'Genpact',\n",
       " 'EVERGREEN COMMUNITY PRIVATE LIMITED',\n",
       " 'Kwalee ltd.']"
      ]
     },
     "execution_count": 57,
     "metadata": {},
     "output_type": "execute_result"
    }
   ],
   "source": [
    "for i in companies_tags:\n",
    "    company_name=i.text\n",
    "    company_names.append(company_name)\n",
    "company_names[0:10]"
   ]
  },
  {
   "cell_type": "code",
   "execution_count": 58,
   "id": "a83bdd16",
   "metadata": {},
   "outputs": [
    {
     "name": "stderr",
     "output_type": "stream",
     "text": [
      "<ipython-input-58-84c7049bf435>:2: DeprecationWarning: find_elements_by_* commands are deprecated. Please use find_elements() instead\n",
      "  experience_tags=driver.find_elements_by_xpath('//li[@class=\"fleft grey-text br2 placeHolderLi experience\"]/span[1]')\n"
     ]
    },
    {
     "data": {
      "text/plain": [
       "[<selenium.webdriver.remote.webelement.WebElement (session=\"0f5464133e4c4bfa4095904d2ceb82ff\", element=\"61b8ded6-26e0-4683-add0-fab409c2a170\")>,\n",
       " <selenium.webdriver.remote.webelement.WebElement (session=\"0f5464133e4c4bfa4095904d2ceb82ff\", element=\"25af7abc-95d3-4bb5-8b6e-f528ed684582\")>,\n",
       " <selenium.webdriver.remote.webelement.WebElement (session=\"0f5464133e4c4bfa4095904d2ceb82ff\", element=\"10b08eb8-9923-4e7f-b9c0-39ce574e3d35\")>,\n",
       " <selenium.webdriver.remote.webelement.WebElement (session=\"0f5464133e4c4bfa4095904d2ceb82ff\", element=\"a162bb06-22bd-4036-8760-225259a8bf06\")>,\n",
       " <selenium.webdriver.remote.webelement.WebElement (session=\"0f5464133e4c4bfa4095904d2ceb82ff\", element=\"ad3bdadb-c401-4683-8338-3f46b54c14e3\")>,\n",
       " <selenium.webdriver.remote.webelement.WebElement (session=\"0f5464133e4c4bfa4095904d2ceb82ff\", element=\"125bc79a-bb71-4e69-80f0-9c3931ed75c6\")>,\n",
       " <selenium.webdriver.remote.webelement.WebElement (session=\"0f5464133e4c4bfa4095904d2ceb82ff\", element=\"cff42833-e7e0-4da7-8c40-38dfb52e088a\")>,\n",
       " <selenium.webdriver.remote.webelement.WebElement (session=\"0f5464133e4c4bfa4095904d2ceb82ff\", element=\"c7080c0d-4631-408b-85c9-ccab768cab42\")>,\n",
       " <selenium.webdriver.remote.webelement.WebElement (session=\"0f5464133e4c4bfa4095904d2ceb82ff\", element=\"ee3f33a3-3b32-4eed-9bf6-53a2e828266b\")>,\n",
       " <selenium.webdriver.remote.webelement.WebElement (session=\"0f5464133e4c4bfa4095904d2ceb82ff\", element=\"589cb5d6-4d1b-4987-9e66-e41b8e618c2f\")>]"
      ]
     },
     "execution_count": 58,
     "metadata": {},
     "output_type": "execute_result"
    }
   ],
   "source": [
    "#lets extract the tags having experience\n",
    "experience_tags=driver.find_elements_by_xpath('//li[@class=\"fleft grey-text br2 placeHolderLi experience\"]/span[1]')\n",
    "experience_tags[0:10]"
   ]
  },
  {
   "cell_type": "code",
   "execution_count": 59,
   "id": "f2d6bd4d",
   "metadata": {},
   "outputs": [
    {
     "data": {
      "text/plain": [
       "['0-3 Yrs',\n",
       " '1-6 Yrs',\n",
       " '3-8 Yrs',\n",
       " '6-11 Yrs',\n",
       " '3-8 Yrs',\n",
       " '2-5 Yrs',\n",
       " '3-6 Yrs',\n",
       " '4-9 Yrs',\n",
       " '4-6 Yrs',\n",
       " '5-10 Yrs']"
      ]
     },
     "execution_count": 59,
     "metadata": {},
     "output_type": "execute_result"
    }
   ],
   "source": [
    "for i in experience_tags:\n",
    "    experience=i.text\n",
    "    experience_list.append(experience)\n",
    "experience_list[0:10]"
   ]
  },
  {
   "cell_type": "code",
   "execution_count": 60,
   "id": "29eb51c7",
   "metadata": {},
   "outputs": [
    {
     "name": "stderr",
     "output_type": "stream",
     "text": [
      "<ipython-input-60-046424806955>:2: DeprecationWarning: find_elements_by_* commands are deprecated. Please use find_elements() instead\n",
      "  location_tags=driver.find_elements_by_xpath('//li[@class=\"fleft grey-text br2 placeHolderLi location\"]/span[1]')\n"
     ]
    },
    {
     "data": {
      "text/plain": [
       "[<selenium.webdriver.remote.webelement.WebElement (session=\"0f5464133e4c4bfa4095904d2ceb82ff\", element=\"08168913-1b1f-4d9c-92ef-4102ec55e82f\")>,\n",
       " <selenium.webdriver.remote.webelement.WebElement (session=\"0f5464133e4c4bfa4095904d2ceb82ff\", element=\"3b06e5bb-4072-41ad-a199-0dd82fa319a5\")>,\n",
       " <selenium.webdriver.remote.webelement.WebElement (session=\"0f5464133e4c4bfa4095904d2ceb82ff\", element=\"4f7feac0-8b27-48a9-8960-58fcdadfb1e3\")>,\n",
       " <selenium.webdriver.remote.webelement.WebElement (session=\"0f5464133e4c4bfa4095904d2ceb82ff\", element=\"38a57044-0579-4eba-adc1-f5bef6c63eb5\")>,\n",
       " <selenium.webdriver.remote.webelement.WebElement (session=\"0f5464133e4c4bfa4095904d2ceb82ff\", element=\"4f5f05d8-0d19-4ed5-b703-5b390255dceb\")>,\n",
       " <selenium.webdriver.remote.webelement.WebElement (session=\"0f5464133e4c4bfa4095904d2ceb82ff\", element=\"0d7b3597-762d-474f-a606-f4c94350c3b5\")>,\n",
       " <selenium.webdriver.remote.webelement.WebElement (session=\"0f5464133e4c4bfa4095904d2ceb82ff\", element=\"2d39739d-9dc7-4493-8ffc-7fcea525604c\")>,\n",
       " <selenium.webdriver.remote.webelement.WebElement (session=\"0f5464133e4c4bfa4095904d2ceb82ff\", element=\"fece216e-400b-48ab-8e2e-c77b5b2203ad\")>,\n",
       " <selenium.webdriver.remote.webelement.WebElement (session=\"0f5464133e4c4bfa4095904d2ceb82ff\", element=\"9b12d2d9-ab7b-47ab-92f9-de538a14f0a8\")>,\n",
       " <selenium.webdriver.remote.webelement.WebElement (session=\"0f5464133e4c4bfa4095904d2ceb82ff\", element=\"1d30e7c9-dd85-4439-99e9-8573a59ca8f4\")>]"
      ]
     },
     "execution_count": 60,
     "metadata": {},
     "output_type": "execute_result"
    }
   ],
   "source": [
    "#location tags\n",
    "location_tags=driver.find_elements_by_xpath('//li[@class=\"fleft grey-text br2 placeHolderLi location\"]/span[1]')\n",
    "location_tags[0:10]"
   ]
  },
  {
   "cell_type": "markdown",
   "id": "8bb5d202",
   "metadata": {},
   "source": [
    "now extracting the text from the location tags"
   ]
  },
  {
   "cell_type": "code",
   "execution_count": 61,
   "id": "983eb3e6",
   "metadata": {},
   "outputs": [
    {
     "ename": "NameError",
     "evalue": "name 'locations_tags' is not defined",
     "output_type": "error",
     "traceback": [
      "\u001b[0;31m---------------------------------------------------------------------------\u001b[0m",
      "\u001b[0;31mNameError\u001b[0m                                 Traceback (most recent call last)",
      "\u001b[0;32m<ipython-input-61-60a71599de54>\u001b[0m in \u001b[0;36m<module>\u001b[0;34m\u001b[0m\n\u001b[0;32m----> 1\u001b[0;31m \u001b[0;32mfor\u001b[0m \u001b[0mi\u001b[0m \u001b[0;32min\u001b[0m \u001b[0mlocations_tags\u001b[0m\u001b[0;34m:\u001b[0m\u001b[0;34m\u001b[0m\u001b[0;34m\u001b[0m\u001b[0m\n\u001b[0m\u001b[1;32m      2\u001b[0m     \u001b[0mlocation\u001b[0m\u001b[0;34m=\u001b[0m\u001b[0mi\u001b[0m\u001b[0;34m.\u001b[0m\u001b[0mtext\u001b[0m\u001b[0;34m\u001b[0m\u001b[0;34m\u001b[0m\u001b[0m\n\u001b[1;32m      3\u001b[0m     \u001b[0mlocations_list\u001b[0m\u001b[0;34m.\u001b[0m\u001b[0mappend\u001b[0m\u001b[0;34m(\u001b[0m\u001b[0mlocation\u001b[0m\u001b[0;34m)\u001b[0m\u001b[0;34m\u001b[0m\u001b[0;34m\u001b[0m\u001b[0m\n\u001b[1;32m      4\u001b[0m \u001b[0mlocations_list\u001b[0m\u001b[0;34m[\u001b[0m\u001b[0;36m0\u001b[0m\u001b[0;34m:\u001b[0m\u001b[0;36m10\u001b[0m\u001b[0;34m]\u001b[0m\u001b[0;34m\u001b[0m\u001b[0;34m\u001b[0m\u001b[0m\n\u001b[1;32m      5\u001b[0m \u001b[0;34m\u001b[0m\u001b[0m\n",
      "\u001b[0;31mNameError\u001b[0m: name 'locations_tags' is not defined"
     ]
    }
   ],
   "source": [
    "for i in locations_tags:\n",
    "    location=i.text\n",
    "    locations_list.append(location)\n",
    "locations_list[0:10]\n",
    "    "
   ]
  },
  {
   "cell_type": "markdown",
   "id": "f4b4a771",
   "metadata": {},
   "source": [
    "Quesion 2"
   ]
  },
  {
   "cell_type": "code",
   "execution_count": 60,
   "id": "b0057294",
   "metadata": {},
   "outputs": [],
   "source": [
    "driver.get('https://www.naukri.com/')"
   ]
  },
  {
   "cell_type": "code",
   "execution_count": 61,
   "id": "6042ca0f",
   "metadata": {},
   "outputs": [
    {
     "name": "stderr",
     "output_type": "stream",
     "text": [
      "<ipython-input-61-5cf750157b16>:2: DeprecationWarning: find_element_by_* commands are deprecated. Please use find_element() instead\n",
      "  search_job=driver.find_element_by_id('qsb-keyword-sugg')\n",
      "<ipython-input-61-5cf750157b16>:4: DeprecationWarning: find_element_by_* commands are deprecated. Please use find_element() instead\n",
      "  search_loc=driver.find_element_by_xpath('//input[@id=\"qsb-location-sugg\"]')\n"
     ]
    }
   ],
   "source": [
    "#finding element for job search\n",
    "search_job=driver.find_element_by_id('qsb-keyword-sugg')\n",
    "search_job.send_keys('Data Scientist')\n",
    "search_loc=driver.find_element_by_xpath('//input[@id=\"qsb-location-sugg\"]')\n",
    "search_loc.send_keys('Bangalore')"
   ]
  },
  {
   "cell_type": "code",
   "execution_count": 62,
   "id": "d19d5b08",
   "metadata": {},
   "outputs": [
    {
     "name": "stderr",
     "output_type": "stream",
     "text": [
      "<ipython-input-62-774f502b12cb>:1: DeprecationWarning: find_element_by_* commands are deprecated. Please use find_element() instead\n",
      "  search_button=driver.find_element_by_xpath('//div[@class=\"search-btn\"]/button')\n"
     ]
    }
   ],
   "source": [
    "search_button=driver.find_element_by_xpath('//div[@class=\"search-btn\"]/button')\n",
    "search_button.click()"
   ]
  },
  {
   "cell_type": "code",
   "execution_count": 88,
   "id": "23371293",
   "metadata": {},
   "outputs": [],
   "source": [
    "job_titles2=[]\n",
    "company_names2=[]\n",
    "locations_list2=[]\n",
    "experience_list2=[]"
   ]
  },
  {
   "cell_type": "code",
   "execution_count": 64,
   "id": "27c263a2",
   "metadata": {},
   "outputs": [
    {
     "name": "stderr",
     "output_type": "stream",
     "text": [
      "<ipython-input-64-b6290f0d416d>:2: DeprecationWarning: find_elements_by_* commands are deprecated. Please use find_elements() instead\n",
      "  titles_tags=driver.find_elements_by_xpath('//a[@class=\"title fw500 ellipsis\"]')\n"
     ]
    },
    {
     "data": {
      "text/plain": [
       "[<selenium.webdriver.remote.webelement.WebElement (session=\"abff1d8a471c2bfeca880512003c0648\", element=\"ea2e0aa4-37b0-4e8f-b1c2-3489103ede1e\")>,\n",
       " <selenium.webdriver.remote.webelement.WebElement (session=\"abff1d8a471c2bfeca880512003c0648\", element=\"363f95c8-70a4-48d7-ab03-9a266b0c1287\")>,\n",
       " <selenium.webdriver.remote.webelement.WebElement (session=\"abff1d8a471c2bfeca880512003c0648\", element=\"21e8ce99-a15d-4056-9a9e-1c610be285f7\")>,\n",
       " <selenium.webdriver.remote.webelement.WebElement (session=\"abff1d8a471c2bfeca880512003c0648\", element=\"d02f5576-a471-42df-bffc-b4b3f74bbc2c\")>,\n",
       " <selenium.webdriver.remote.webelement.WebElement (session=\"abff1d8a471c2bfeca880512003c0648\", element=\"76279131-b389-4397-adc8-a647c81e1c50\")>,\n",
       " <selenium.webdriver.remote.webelement.WebElement (session=\"abff1d8a471c2bfeca880512003c0648\", element=\"a65681c7-d20f-4b66-b5e6-cd69f8145ad5\")>,\n",
       " <selenium.webdriver.remote.webelement.WebElement (session=\"abff1d8a471c2bfeca880512003c0648\", element=\"2b10857c-704a-46a8-8518-256c5bc4665a\")>,\n",
       " <selenium.webdriver.remote.webelement.WebElement (session=\"abff1d8a471c2bfeca880512003c0648\", element=\"d0cf14e7-de44-4a3a-8cc8-78bc081a6c13\")>,\n",
       " <selenium.webdriver.remote.webelement.WebElement (session=\"abff1d8a471c2bfeca880512003c0648\", element=\"0620ae12-8f03-4f59-a1fe-a2f2e5ff8f79\")>,\n",
       " <selenium.webdriver.remote.webelement.WebElement (session=\"abff1d8a471c2bfeca880512003c0648\", element=\"74a78a26-9309-4e2d-8cf0-93c25ba3ad4a\")>]"
      ]
     },
     "execution_count": 64,
     "metadata": {},
     "output_type": "execute_result"
    }
   ],
   "source": [
    "#extracting all the tags with job titles\n",
    "titles_tags=driver.find_elements_by_xpath('//a[@class=\"title fw500 ellipsis\"]')\n",
    "titles_tags[0:10]"
   ]
  },
  {
   "cell_type": "markdown",
   "id": "544d595b",
   "metadata": {},
   "source": [
    "now wehave all the tags which have job titles,so lets extract text from these tags using for loop"
   ]
  },
  {
   "cell_type": "code",
   "execution_count": 83,
   "id": "04526e08",
   "metadata": {},
   "outputs": [
    {
     "data": {
      "text/plain": [
       "['Senior Data Scientist',\n",
       " 'Senior Data Scientist | Fortune 500 Supermarket Chain',\n",
       " 'Data Scientist',\n",
       " 'Data Scientist',\n",
       " 'Data Scientist',\n",
       " 'Senior Data Scientist | Fortune 500 Supermarket Chain',\n",
       " 'Senior Data Scientist',\n",
       " 'Lead Data Scientist, Presales',\n",
       " 'Senior Data Scientist',\n",
       " 'Senior / Lead Data Scientist']"
      ]
     },
     "execution_count": 83,
     "metadata": {},
     "output_type": "execute_result"
    }
   ],
   "source": [
    "for i in titles_tags:\n",
    "    title=i.text\n",
    "    job_titles2.append(title)\n",
    "job_titles2[0:10]"
   ]
  },
  {
   "cell_type": "code",
   "execution_count": 67,
   "id": "6e9ea277",
   "metadata": {},
   "outputs": [
    {
     "name": "stderr",
     "output_type": "stream",
     "text": [
      "<ipython-input-67-555fdded405f>:2: DeprecationWarning: find_elements_by_* commands are deprecated. Please use find_elements() instead\n",
      "  companies_tags=driver.find_elements_by_xpath('//a[@class=\"subTitle ellipsis fleft\"]')\n"
     ]
    },
    {
     "data": {
      "text/plain": [
       "[<selenium.webdriver.remote.webelement.WebElement (session=\"abff1d8a471c2bfeca880512003c0648\", element=\"7189586d-b272-4b45-9f47-e4145611baa7\")>,\n",
       " <selenium.webdriver.remote.webelement.WebElement (session=\"abff1d8a471c2bfeca880512003c0648\", element=\"dee574ce-a729-46df-bc55-2abee2cfc1d9\")>,\n",
       " <selenium.webdriver.remote.webelement.WebElement (session=\"abff1d8a471c2bfeca880512003c0648\", element=\"9bb6053c-89ee-402c-b7af-b752332113e4\")>,\n",
       " <selenium.webdriver.remote.webelement.WebElement (session=\"abff1d8a471c2bfeca880512003c0648\", element=\"94f9fe1d-8bba-4c37-be06-ac53f00f796d\")>,\n",
       " <selenium.webdriver.remote.webelement.WebElement (session=\"abff1d8a471c2bfeca880512003c0648\", element=\"30ed23bd-0767-49a6-8e23-8ffc397f3bd2\")>,\n",
       " <selenium.webdriver.remote.webelement.WebElement (session=\"abff1d8a471c2bfeca880512003c0648\", element=\"c0bdc384-f1a5-44e6-9f30-f56bbe5903e7\")>,\n",
       " <selenium.webdriver.remote.webelement.WebElement (session=\"abff1d8a471c2bfeca880512003c0648\", element=\"04d04a67-1c02-49a1-a057-040bc958d043\")>,\n",
       " <selenium.webdriver.remote.webelement.WebElement (session=\"abff1d8a471c2bfeca880512003c0648\", element=\"92c5adb9-8be1-4fbe-8e23-2c525be89dcf\")>,\n",
       " <selenium.webdriver.remote.webelement.WebElement (session=\"abff1d8a471c2bfeca880512003c0648\", element=\"d80954cd-3437-4b1f-9000-75b155398491\")>,\n",
       " <selenium.webdriver.remote.webelement.WebElement (session=\"abff1d8a471c2bfeca880512003c0648\", element=\"242409e2-18c7-4e02-a879-e88aefe52ee3\")>]"
      ]
     },
     "execution_count": 67,
     "metadata": {},
     "output_type": "execute_result"
    }
   ],
   "source": [
    "#extracting all the tags with company names\n",
    "companies_tags=driver.find_elements_by_xpath('//a[@class=\"subTitle ellipsis fleft\"]')\n",
    "companies_tags[0:10]"
   ]
  },
  {
   "cell_type": "markdown",
   "id": "0b93a93b",
   "metadata": {},
   "source": [
    "now we have the tags having company names,so lets extract the text using for loop"
   ]
  },
  {
   "cell_type": "code",
   "execution_count": 85,
   "id": "6e09e7f1",
   "metadata": {},
   "outputs": [
    {
     "data": {
      "text/plain": [
       "['Convergence Infotech Ltd',\n",
       " 'TALENT500 TECH (INDIA) PRIVATE LIMITED',\n",
       " 'Oracle India Pvt. Ltd.',\n",
       " 'Alstom Transport India Ltd.',\n",
       " 'Amazon',\n",
       " 'TALENT500 TECH (INDIA) PRIVATE LIMITED',\n",
       " 'Santechture',\n",
       " 'Moveworks',\n",
       " 'Easy Recruit',\n",
       " 'Bukuwarung']"
      ]
     },
     "execution_count": 85,
     "metadata": {},
     "output_type": "execute_result"
    }
   ],
   "source": [
    "for i in companies_tags:\n",
    "    company_name=i.text\n",
    "    company_names2.append(company_name)\n",
    "company_names2[0:10]"
   ]
  },
  {
   "cell_type": "code",
   "execution_count": 69,
   "id": "2c83145a",
   "metadata": {},
   "outputs": [
    {
     "name": "stderr",
     "output_type": "stream",
     "text": [
      "<ipython-input-69-b08062b59ca0>:2: DeprecationWarning: find_elements_by_* commands are deprecated. Please use find_elements() instead\n",
      "  experience_tags=driver.find_elements_by_xpath('//li[@class=\"fleft grey-text br2 placeHolderLi experience\"]/span[1]')\n"
     ]
    },
    {
     "data": {
      "text/plain": [
       "[<selenium.webdriver.remote.webelement.WebElement (session=\"abff1d8a471c2bfeca880512003c0648\", element=\"830b4ac5-174d-4c97-af06-a83e9db3b7b1\")>,\n",
       " <selenium.webdriver.remote.webelement.WebElement (session=\"abff1d8a471c2bfeca880512003c0648\", element=\"d4818ea3-bf03-4184-a162-b67d092ceee7\")>,\n",
       " <selenium.webdriver.remote.webelement.WebElement (session=\"abff1d8a471c2bfeca880512003c0648\", element=\"e217a91a-48d1-40d3-bbd9-3ec4a9612adf\")>,\n",
       " <selenium.webdriver.remote.webelement.WebElement (session=\"abff1d8a471c2bfeca880512003c0648\", element=\"21400f3f-c136-4ce5-950c-13988e653dca\")>,\n",
       " <selenium.webdriver.remote.webelement.WebElement (session=\"abff1d8a471c2bfeca880512003c0648\", element=\"63a01d8a-6cb9-4744-8ac5-350224c49cc1\")>,\n",
       " <selenium.webdriver.remote.webelement.WebElement (session=\"abff1d8a471c2bfeca880512003c0648\", element=\"a5f67832-45d0-4404-9606-6432d737f03e\")>,\n",
       " <selenium.webdriver.remote.webelement.WebElement (session=\"abff1d8a471c2bfeca880512003c0648\", element=\"75b6e59a-ea0f-4b1f-b515-91f7c0f861d1\")>,\n",
       " <selenium.webdriver.remote.webelement.WebElement (session=\"abff1d8a471c2bfeca880512003c0648\", element=\"759a9c9b-de3f-4d83-9f6c-411d83de985a\")>,\n",
       " <selenium.webdriver.remote.webelement.WebElement (session=\"abff1d8a471c2bfeca880512003c0648\", element=\"0c825d18-7140-48ca-9b24-d277ee1cfa5a\")>,\n",
       " <selenium.webdriver.remote.webelement.WebElement (session=\"abff1d8a471c2bfeca880512003c0648\", element=\"a525ac48-66af-4ac2-85e5-cd8324a509de\")>]"
      ]
     },
     "execution_count": 69,
     "metadata": {},
     "output_type": "execute_result"
    }
   ],
   "source": [
    "#extracting all the tags having the experience required data\n",
    "experience_tags=driver.find_elements_by_xpath('//li[@class=\"fleft grey-text br2 placeHolderLi experience\"]/span[1]')\n",
    "experience_tags[0:10]"
   ]
  },
  {
   "cell_type": "markdown",
   "id": "fc8ce9c3",
   "metadata": {},
   "source": [
    "now lets extract the text from the above experience tags using for loop\n"
   ]
  },
  {
   "cell_type": "code",
   "execution_count": 87,
   "id": "e39d46c0",
   "metadata": {},
   "outputs": [
    {
     "data": {
      "text/plain": [
       "['8-12 Yrs',\n",
       " '7-10 Yrs',\n",
       " '6-10 Yrs',\n",
       " '5-10 Yrs',\n",
       " '7-11 Yrs',\n",
       " '7-10 Yrs',\n",
       " '7-12 Yrs',\n",
       " '7-12 Yrs',\n",
       " '8-11 Yrs',\n",
       " '5-10 Yrs']"
      ]
     },
     "execution_count": 87,
     "metadata": {},
     "output_type": "execute_result"
    }
   ],
   "source": [
    "for i in experience_tags:\n",
    "    experience=i.text\n",
    "    experience_list2.append(experience)\n",
    "experience_list2[0:10]"
   ]
  },
  {
   "cell_type": "code",
   "execution_count": 73,
   "id": "a6d06e10",
   "metadata": {},
   "outputs": [
    {
     "name": "stderr",
     "output_type": "stream",
     "text": [
      "<ipython-input-73-c18cae5f54ae>:2: DeprecationWarning: find_elements_by_* commands are deprecated. Please use find_elements() instead\n",
      "  locations_tags=driver.find_elements_by_xpath('//li[@class=\"fleft grey-text br2 placeHolderLi location\"]/span')\n"
     ]
    },
    {
     "data": {
      "text/plain": [
       "[<selenium.webdriver.remote.webelement.WebElement (session=\"abff1d8a471c2bfeca880512003c0648\", element=\"43fbea6b-604b-4d1d-b226-ac923ae58356\")>,\n",
       " <selenium.webdriver.remote.webelement.WebElement (session=\"abff1d8a471c2bfeca880512003c0648\", element=\"1f120d2c-45e7-40a7-825f-db87b42958b4\")>,\n",
       " <selenium.webdriver.remote.webelement.WebElement (session=\"abff1d8a471c2bfeca880512003c0648\", element=\"f855af83-c0ba-4919-9335-606622091cb7\")>,\n",
       " <selenium.webdriver.remote.webelement.WebElement (session=\"abff1d8a471c2bfeca880512003c0648\", element=\"3e48e7b9-654a-44bc-9dfa-4483addd4fc7\")>,\n",
       " <selenium.webdriver.remote.webelement.WebElement (session=\"abff1d8a471c2bfeca880512003c0648\", element=\"95a86914-95ac-489c-8ce7-72b7bbda69ed\")>,\n",
       " <selenium.webdriver.remote.webelement.WebElement (session=\"abff1d8a471c2bfeca880512003c0648\", element=\"5a530ff0-720a-48f6-a652-8ea151f90028\")>,\n",
       " <selenium.webdriver.remote.webelement.WebElement (session=\"abff1d8a471c2bfeca880512003c0648\", element=\"0d810d7a-3cdd-4c1c-bb58-4cae518bf969\")>,\n",
       " <selenium.webdriver.remote.webelement.WebElement (session=\"abff1d8a471c2bfeca880512003c0648\", element=\"e5d02316-e8a0-46bb-9f4a-43a1f17092db\")>,\n",
       " <selenium.webdriver.remote.webelement.WebElement (session=\"abff1d8a471c2bfeca880512003c0648\", element=\"d21ac071-27c5-4c8d-b874-8e9fdfa451bd\")>,\n",
       " <selenium.webdriver.remote.webelement.WebElement (session=\"abff1d8a471c2bfeca880512003c0648\", element=\"7f7f4ac4-bb15-49fe-be6e-705c22452f11\")>]"
      ]
     },
     "execution_count": 73,
     "metadata": {},
     "output_type": "execute_result"
    }
   ],
   "source": [
    "#letsextract all the tags where we have the location of data\n",
    "locations_tags=driver.find_elements_by_xpath('//li[@class=\"fleft grey-text br2 placeHolderLi location\"]/span')\n",
    "locations_tags[0:10]"
   ]
  },
  {
   "cell_type": "markdown",
   "id": "858ed6b0",
   "metadata": {},
   "source": [
    "now we have all the tags having the location data,lets extract the text using for loop"
   ]
  },
  {
   "cell_type": "code",
   "execution_count": 89,
   "id": "0cd6426b",
   "metadata": {},
   "outputs": [
    {
     "data": {
      "text/plain": [
       "['Bangalore/Bengaluru(Sadashiva Nagar)',\n",
       " '(WFH during Covid)',\n",
       " 'Bangalore/Bengaluru',\n",
       " 'Bangalore/Bengaluru',\n",
       " 'Bangalore/Bengaluru',\n",
       " 'Hyderabad/Secunderabad, Pune, Bangalore/Bengaluru',\n",
       " 'Bangalore/Bengaluru',\n",
       " 'Hyderabad/Secunderabad, Chennai, Bangalore/Bengaluru',\n",
       " 'Bangalore/Bengaluru',\n",
       " 'Bangalore/Bengaluru']"
      ]
     },
     "execution_count": 89,
     "metadata": {},
     "output_type": "execute_result"
    }
   ],
   "source": [
    "for i in locations_tags:\n",
    "    location=i.text\n",
    "    locations_list2.append(location)\n",
    "locations_list2[0:10]"
   ]
  },
  {
   "cell_type": "code",
   "execution_count": 91,
   "id": "79d51b1f",
   "metadata": {},
   "outputs": [
    {
     "name": "stdout",
     "output_type": "stream",
     "text": [
      "0 0 0 24\n"
     ]
    }
   ],
   "source": [
    "print(len(job_titles2),len(company_names2),len(experience_list2),len(locations_list2))"
   ]
  },
  {
   "cell_type": "code",
   "execution_count": 93,
   "id": "ef66c556",
   "metadata": {},
   "outputs": [],
   "source": [
    "#dataframe"
   ]
  },
  {
   "cell_type": "markdown",
   "id": "5a6e9122",
   "metadata": {},
   "source": [
    "Question 3"
   ]
  },
  {
   "cell_type": "code",
   "execution_count": 119,
   "id": "19433095",
   "metadata": {},
   "outputs": [],
   "source": [
    "driver.get('https://www.naukri.com/')"
   ]
  },
  {
   "cell_type": "code",
   "execution_count": 121,
   "id": "ad8b1ac4",
   "metadata": {},
   "outputs": [
    {
     "name": "stderr",
     "output_type": "stream",
     "text": [
      "<ipython-input-121-53558136f19c>:2: DeprecationWarning: find_element_by_* commands are deprecated. Please use find_element() instead\n",
      "  search_job=driver.find_element_by_id('qsb-keyword-sugg')\n",
      "<ipython-input-121-53558136f19c>:4: DeprecationWarning: find_element_by_* commands are deprecated. Please use find_element() instead\n",
      "  search_loc=driver.find_element_by_xpath('//input[@id=\"qsb-location-sugg\"]')\n"
     ]
    }
   ],
   "source": [
    "#finding element for job search\n",
    "search_job=driver.find_element_by_id('qsb-keyword-sugg')\n",
    "search_job.send_keys('Data Scientist')\n",
    "search_loc=driver.find_element_by_xpath('//input[@id=\"qsb-location-sugg\"]')\n",
    "search_loc.send_keys('Delhi/Ncr')\n"
   ]
  },
  {
   "cell_type": "code",
   "execution_count": 122,
   "id": "4cc240e4",
   "metadata": {},
   "outputs": [],
   "source": [
    "job_titles3=[]\n",
    "company_names3=[]\n",
    "locations_list3=[]\n",
    "experience_list3=[]"
   ]
  },
  {
   "cell_type": "code",
   "execution_count": 123,
   "id": "861e848f",
   "metadata": {},
   "outputs": [
    {
     "name": "stderr",
     "output_type": "stream",
     "text": [
      "<ipython-input-123-a5c37ad4febf>:2: DeprecationWarning: find_elements_by_* commands are deprecated. Please use find_elements() instead\n",
      "  titles_tags=driver.find_elements_by_xpath('//a[@class=\"title fw500 ellipsis\"]')\n"
     ]
    },
    {
     "data": {
      "text/plain": [
       "[<selenium.webdriver.remote.webelement.WebElement (session=\"3929163cf868c3a7c596f61cde116804\", element=\"2f96d7ce-6fdd-4df2-821d-28e1951ea137\")>,\n",
       " <selenium.webdriver.remote.webelement.WebElement (session=\"3929163cf868c3a7c596f61cde116804\", element=\"bcebc0e6-6b04-4f4b-a875-207206e92bdb\")>,\n",
       " <selenium.webdriver.remote.webelement.WebElement (session=\"3929163cf868c3a7c596f61cde116804\", element=\"a4df98ca-1750-44bd-a86f-2b7e63c8718d\")>,\n",
       " <selenium.webdriver.remote.webelement.WebElement (session=\"3929163cf868c3a7c596f61cde116804\", element=\"45c1ab52-28d3-4076-811a-62a949d5caa2\")>,\n",
       " <selenium.webdriver.remote.webelement.WebElement (session=\"3929163cf868c3a7c596f61cde116804\", element=\"c3684761-0f0b-4edf-8ee2-374bacb07013\")>,\n",
       " <selenium.webdriver.remote.webelement.WebElement (session=\"3929163cf868c3a7c596f61cde116804\", element=\"786e7e5a-6e6a-42b9-9597-1f30e1b3dc19\")>,\n",
       " <selenium.webdriver.remote.webelement.WebElement (session=\"3929163cf868c3a7c596f61cde116804\", element=\"6ab01e96-19b1-41a1-9f0d-130011230d11\")>,\n",
       " <selenium.webdriver.remote.webelement.WebElement (session=\"3929163cf868c3a7c596f61cde116804\", element=\"ebb86748-e953-47f3-8759-ea5af726ead5\")>,\n",
       " <selenium.webdriver.remote.webelement.WebElement (session=\"3929163cf868c3a7c596f61cde116804\", element=\"d39baed7-566a-463c-9f5c-d5d6d98eaed1\")>,\n",
       " <selenium.webdriver.remote.webelement.WebElement (session=\"3929163cf868c3a7c596f61cde116804\", element=\"6b64dcf6-79a5-4e17-a028-24e8c995ffd0\")>]"
      ]
     },
     "execution_count": 123,
     "metadata": {},
     "output_type": "execute_result"
    }
   ],
   "source": [
    "#extracting tags having job titles\n",
    "titles_tags=driver.find_elements_by_xpath('//a[@class=\"title fw500 ellipsis\"]')\n",
    "titles_tags[0:10]"
   ]
  },
  {
   "cell_type": "markdown",
   "id": "afc0d083",
   "metadata": {},
   "source": [
    "now we have togetthe text from the extracted job titles using for loop"
   ]
  },
  {
   "cell_type": "code",
   "execution_count": 124,
   "id": "e9b358da",
   "metadata": {},
   "outputs": [
    {
     "data": {
      "text/plain": [
       "['Data Scientist',\n",
       " 'Data Scientist',\n",
       " 'Urgent Hiring || Data Scientist || Delhi',\n",
       " 'Data Scientist',\n",
       " 'Job Opportunity || Data Scientist || HCL Technologies',\n",
       " 'Data Scientist',\n",
       " 'Data Scientist',\n",
       " 'Data Analyst/Scientist',\n",
       " 'Academic Counsellor - Data Scientist',\n",
       " 'Data Scientist']"
      ]
     },
     "execution_count": 124,
     "metadata": {},
     "output_type": "execute_result"
    }
   ],
   "source": [
    "for i in titles_tags:\n",
    "    title=i.text\n",
    "    job_titles3.append(title)\n",
    "job_titles3[0:10]"
   ]
  },
  {
   "cell_type": "code",
   "execution_count": 126,
   "id": "8b54e150",
   "metadata": {},
   "outputs": [
    {
     "name": "stderr",
     "output_type": "stream",
     "text": [
      "<ipython-input-126-555fdded405f>:2: DeprecationWarning: find_elements_by_* commands are deprecated. Please use find_elements() instead\n",
      "  companies_tags=driver.find_elements_by_xpath('//a[@class=\"subTitle ellipsis fleft\"]')\n"
     ]
    },
    {
     "data": {
      "text/plain": [
       "[<selenium.webdriver.remote.webelement.WebElement (session=\"3929163cf868c3a7c596f61cde116804\", element=\"4a7568ed-21c2-40ce-8258-6e7c7346170e\")>,\n",
       " <selenium.webdriver.remote.webelement.WebElement (session=\"3929163cf868c3a7c596f61cde116804\", element=\"a1739509-8cf7-469b-9c9b-c0da20f284a4\")>,\n",
       " <selenium.webdriver.remote.webelement.WebElement (session=\"3929163cf868c3a7c596f61cde116804\", element=\"74ecf281-ab20-451a-880e-e9bd62b739f7\")>,\n",
       " <selenium.webdriver.remote.webelement.WebElement (session=\"3929163cf868c3a7c596f61cde116804\", element=\"a40d2aa2-b97d-4b5d-89ca-fe0120d527ea\")>,\n",
       " <selenium.webdriver.remote.webelement.WebElement (session=\"3929163cf868c3a7c596f61cde116804\", element=\"2d1ab81e-5bf3-46f6-9e3d-3cda78aacac7\")>,\n",
       " <selenium.webdriver.remote.webelement.WebElement (session=\"3929163cf868c3a7c596f61cde116804\", element=\"06ada4c5-1531-444b-8de0-49042bfebe34\")>,\n",
       " <selenium.webdriver.remote.webelement.WebElement (session=\"3929163cf868c3a7c596f61cde116804\", element=\"5c1a10a4-7895-4e7e-9791-bc587600369a\")>,\n",
       " <selenium.webdriver.remote.webelement.WebElement (session=\"3929163cf868c3a7c596f61cde116804\", element=\"4e2a477f-ba1f-4a67-8b06-7793cf0a0064\")>,\n",
       " <selenium.webdriver.remote.webelement.WebElement (session=\"3929163cf868c3a7c596f61cde116804\", element=\"7790667a-5c1f-4864-9d97-8e077b79973d\")>,\n",
       " <selenium.webdriver.remote.webelement.WebElement (session=\"3929163cf868c3a7c596f61cde116804\", element=\"34dbf48e-d60c-4113-bcf4-452825ee6f40\")>]"
      ]
     },
     "execution_count": 126,
     "metadata": {},
     "output_type": "execute_result"
    }
   ],
   "source": [
    "#extracting all the tags with company names\n",
    "companies_tags=driver.find_elements_by_xpath('//a[@class=\"subTitle ellipsis fleft\"]')\n",
    "companies_tags[0:10]"
   ]
  },
  {
   "cell_type": "markdown",
   "id": "4d9aa080",
   "metadata": {},
   "source": [
    "now we have the tags having company names,so lets extract the text using for loop"
   ]
  },
  {
   "cell_type": "code",
   "execution_count": 127,
   "id": "cd1daea3",
   "metadata": {},
   "outputs": [
    {
     "data": {
      "text/plain": [
       "['MoMagic Technologies Pvt. Ltd.',\n",
       " 'MoMagic Technologies Pvt. Ltd.',\n",
       " 'Shriram Automall India Limited',\n",
       " 'Think i',\n",
       " 'HCL Technologies',\n",
       " 'SVK Global Solutions Private Limited',\n",
       " 'Optum Global Solutions (India) Private Limited',\n",
       " 'itForte Staffing Services Private Ltd.',\n",
       " 'GreatLearning',\n",
       " 'itForte Staffing Services Private Ltd.']"
      ]
     },
     "execution_count": 127,
     "metadata": {},
     "output_type": "execute_result"
    }
   ],
   "source": [
    "for i in companies_tags:\n",
    "    company_name=i.text\n",
    "    company_names3.append(company_name)\n",
    "company_names3[0:10]"
   ]
  },
  {
   "cell_type": "code",
   "execution_count": 128,
   "id": "b13e2c9c",
   "metadata": {},
   "outputs": [
    {
     "name": "stderr",
     "output_type": "stream",
     "text": [
      "<ipython-input-128-b08062b59ca0>:2: DeprecationWarning: find_elements_by_* commands are deprecated. Please use find_elements() instead\n",
      "  experience_tags=driver.find_elements_by_xpath('//li[@class=\"fleft grey-text br2 placeHolderLi experience\"]/span[1]')\n"
     ]
    },
    {
     "data": {
      "text/plain": [
       "[<selenium.webdriver.remote.webelement.WebElement (session=\"3929163cf868c3a7c596f61cde116804\", element=\"d56e3efe-1a14-440c-8b69-5ddbf69ff37a\")>,\n",
       " <selenium.webdriver.remote.webelement.WebElement (session=\"3929163cf868c3a7c596f61cde116804\", element=\"1ef039ee-3bce-4614-9718-331641ae96aa\")>,\n",
       " <selenium.webdriver.remote.webelement.WebElement (session=\"3929163cf868c3a7c596f61cde116804\", element=\"6d904acd-3884-403d-a4c4-254769605be7\")>,\n",
       " <selenium.webdriver.remote.webelement.WebElement (session=\"3929163cf868c3a7c596f61cde116804\", element=\"3de4f756-9516-4b27-a0ed-2a6aff857318\")>,\n",
       " <selenium.webdriver.remote.webelement.WebElement (session=\"3929163cf868c3a7c596f61cde116804\", element=\"e5ad02d5-fb2b-4cc8-ae06-4631a6048236\")>,\n",
       " <selenium.webdriver.remote.webelement.WebElement (session=\"3929163cf868c3a7c596f61cde116804\", element=\"b69394a2-c8a9-44e4-9c96-a56f5f5c4f64\")>,\n",
       " <selenium.webdriver.remote.webelement.WebElement (session=\"3929163cf868c3a7c596f61cde116804\", element=\"e6cd7521-60c5-45d7-96eb-74a6877df5a1\")>,\n",
       " <selenium.webdriver.remote.webelement.WebElement (session=\"3929163cf868c3a7c596f61cde116804\", element=\"d50d7514-1bc5-467a-8173-7b5d725b1425\")>,\n",
       " <selenium.webdriver.remote.webelement.WebElement (session=\"3929163cf868c3a7c596f61cde116804\", element=\"12dc6ab2-ed52-43af-8e03-0993b46537c0\")>,\n",
       " <selenium.webdriver.remote.webelement.WebElement (session=\"3929163cf868c3a7c596f61cde116804\", element=\"78d50832-49fb-4589-b409-ba7647cf7d22\")>]"
      ]
     },
     "execution_count": 128,
     "metadata": {},
     "output_type": "execute_result"
    }
   ],
   "source": [
    "#extracting all the tags having the experience required data\n",
    "experience_tags=driver.find_elements_by_xpath('//li[@class=\"fleft grey-text br2 placeHolderLi experience\"]/span[1]')\n",
    "experience_tags[0:10]"
   ]
  },
  {
   "cell_type": "markdown",
   "id": "0c759ce0",
   "metadata": {},
   "source": [
    "now lets extract the text from the above experience tags using for loop\n"
   ]
  },
  {
   "cell_type": "code",
   "execution_count": 129,
   "id": "2d8b6ac3",
   "metadata": {},
   "outputs": [
    {
     "data": {
      "text/plain": [
       "['4-6 Yrs',\n",
       " '4-6 Yrs',\n",
       " '2-7 Yrs',\n",
       " '0-2 Yrs',\n",
       " '4-7 Yrs',\n",
       " '6-10 Yrs',\n",
       " '2-6 Yrs',\n",
       " '3-7 Yrs',\n",
       " '1-4 Yrs',\n",
       " '3-8 Yrs']"
      ]
     },
     "execution_count": 129,
     "metadata": {},
     "output_type": "execute_result"
    }
   ],
   "source": [
    "for i in experience_tags:\n",
    "    experience=i.text\n",
    "    experience_list3.append(experience)\n",
    "experience_list3[0:10]"
   ]
  },
  {
   "cell_type": "code",
   "execution_count": 130,
   "id": "e3cf3b02",
   "metadata": {},
   "outputs": [
    {
     "name": "stderr",
     "output_type": "stream",
     "text": [
      "<ipython-input-130-c18cae5f54ae>:2: DeprecationWarning: find_elements_by_* commands are deprecated. Please use find_elements() instead\n",
      "  locations_tags=driver.find_elements_by_xpath('//li[@class=\"fleft grey-text br2 placeHolderLi location\"]/span')\n"
     ]
    },
    {
     "data": {
      "text/plain": [
       "[<selenium.webdriver.remote.webelement.WebElement (session=\"3929163cf868c3a7c596f61cde116804\", element=\"df4872dc-6d08-4c1e-8bfc-14dbd27742e4\")>,\n",
       " <selenium.webdriver.remote.webelement.WebElement (session=\"3929163cf868c3a7c596f61cde116804\", element=\"19583c4f-7cad-4826-8a50-4ed4b44ff9df\")>,\n",
       " <selenium.webdriver.remote.webelement.WebElement (session=\"3929163cf868c3a7c596f61cde116804\", element=\"08117db7-0e55-4e76-a70c-4ccaa633ae21\")>,\n",
       " <selenium.webdriver.remote.webelement.WebElement (session=\"3929163cf868c3a7c596f61cde116804\", element=\"41e9bbea-25c9-4326-bfc7-622aa9eaaee9\")>,\n",
       " <selenium.webdriver.remote.webelement.WebElement (session=\"3929163cf868c3a7c596f61cde116804\", element=\"c63ca556-7674-49b7-9af0-7a063fe1363b\")>,\n",
       " <selenium.webdriver.remote.webelement.WebElement (session=\"3929163cf868c3a7c596f61cde116804\", element=\"98a5b6e2-6d8b-4291-a5c1-bbdcadcb5dfa\")>,\n",
       " <selenium.webdriver.remote.webelement.WebElement (session=\"3929163cf868c3a7c596f61cde116804\", element=\"54a2144f-3c47-43b7-8007-032fc7226993\")>,\n",
       " <selenium.webdriver.remote.webelement.WebElement (session=\"3929163cf868c3a7c596f61cde116804\", element=\"a7be66a1-c5aa-4a66-8e36-6cc18a10e972\")>,\n",
       " <selenium.webdriver.remote.webelement.WebElement (session=\"3929163cf868c3a7c596f61cde116804\", element=\"08515cdb-b9e7-402a-b552-e859b5f641bb\")>,\n",
       " <selenium.webdriver.remote.webelement.WebElement (session=\"3929163cf868c3a7c596f61cde116804\", element=\"9b91ec3d-be96-4e90-a4b9-6a428cbfc06e\")>]"
      ]
     },
     "execution_count": 130,
     "metadata": {},
     "output_type": "execute_result"
    }
   ],
   "source": [
    "#letsextract all the tags where we have the location of data\n",
    "locations_tags=driver.find_elements_by_xpath('//li[@class=\"fleft grey-text br2 placeHolderLi location\"]/span')\n",
    "locations_tags[0:10]"
   ]
  },
  {
   "cell_type": "markdown",
   "id": "8b33829f",
   "metadata": {},
   "source": [
    "now we have all the tags having the location data,lets extract the text using for loop"
   ]
  },
  {
   "cell_type": "code",
   "execution_count": 131,
   "id": "d63bb10a",
   "metadata": {},
   "outputs": [
    {
     "data": {
      "text/plain": [
       "['Noida(Sector-126 Noida)',\n",
       " 'Noida(Sector-126 Noida)',\n",
       " 'Delhi / NCR(Netaji Subhash Place)',\n",
       " 'Kochi/Cochin, Kolkata, Hyderabad/Secunderabad, Pune, Ahmedabad, Chennai, Bangalore/Bengaluru, Delhi / NCR, Mumbai (All Areas)',\n",
       " 'Delhi / NCR',\n",
       " 'Noida',\n",
       " 'Noida, Gurgaon/Gurugram',\n",
       " 'Gurgaon',\n",
       " 'Gurgaon/Gurugram, Bangalore/Bengaluru',\n",
       " 'Gurgaon']"
      ]
     },
     "execution_count": 131,
     "metadata": {},
     "output_type": "execute_result"
    }
   ],
   "source": [
    "for i in locations_tags:\n",
    "    location=i.text\n",
    "    locations_list3.append(location)\n",
    "locations_list3[0:10]"
   ]
  },
  {
   "cell_type": "markdown",
   "id": "dd1d5b0b",
   "metadata": {},
   "source": [
    "Quesion 4"
   ]
  },
  {
   "cell_type": "code",
   "execution_count": 105,
   "id": "d1fe31b1",
   "metadata": {},
   "outputs": [],
   "source": [
    "driver.get(' https://www.flipkart.com/')"
   ]
  },
  {
   "cell_type": "code",
   "execution_count": 106,
   "id": "af01abab",
   "metadata": {},
   "outputs": [
    {
     "name": "stderr",
     "output_type": "stream",
     "text": [
      "<ipython-input-106-2470638218e2>:2: DeprecationWarning: find_element_by_* commands are deprecated. Please use find_element() instead\n",
      "  search_bar=driver.find_element_by_class_name(\"_3704LK\")\n"
     ]
    }
   ],
   "source": [
    "#finding element for job search\n",
    "search_bar=driver.find_element_by_class_name(\"_3704LK\")\n",
    "search_bar.send_keys('Sunglass')"
   ]
  },
  {
   "cell_type": "code",
   "execution_count": 107,
   "id": "45dab3ed",
   "metadata": {},
   "outputs": [
    {
     "name": "stderr",
     "output_type": "stream",
     "text": [
      "<ipython-input-107-38902f87446c>:1: DeprecationWarning: find_element_by_* commands are deprecated. Please use find_element() instead\n",
      "  search_button=driver.find_element_by_class_name(\"_3OO5Xc\")\n"
     ]
    },
    {
     "data": {
      "text/plain": [
       "<bound method WebElement.click of <selenium.webdriver.remote.webelement.WebElement (session=\"c42b095a83bb711a33b9582b5dcd5737\", element=\"1a6eeabf-856e-4da7-9d00-144f0647b835\")>>"
      ]
     },
     "execution_count": 107,
     "metadata": {},
     "output_type": "execute_result"
    }
   ],
   "source": [
    "search_button=driver.find_element_by_class_name(\"_3OO5Xc\")\n",
    "search_button.click"
   ]
  },
  {
   "cell_type": "code",
   "execution_count": 108,
   "id": "812c12f5",
   "metadata": {},
   "outputs": [],
   "source": [
    "brand=[]\n",
    "specification=[]\n",
    "price=[]"
   ]
  },
  {
   "cell_type": "code",
   "execution_count": 109,
   "id": "87e31a1f",
   "metadata": {},
   "outputs": [
    {
     "name": "stderr",
     "output_type": "stream",
     "text": [
      "<ipython-input-109-4370b5657ab0>:1: DeprecationWarning: find_elements_by_* commands are deprecated. Please use find_elements() instead\n",
      "  brands=driver.find_elements_by_class_name(\"_2WkVRV\")\n"
     ]
    },
    {
     "data": {
      "text/plain": [
       "[]"
      ]
     },
     "execution_count": 109,
     "metadata": {},
     "output_type": "execute_result"
    }
   ],
   "source": [
    "brands=driver.find_elements_by_class_name(\"_2WkVRV\")\n",
    "brands\n"
   ]
  },
  {
   "cell_type": "code",
   "execution_count": 110,
   "id": "7dd97d86",
   "metadata": {},
   "outputs": [
    {
     "data": {
      "text/plain": [
       "[]"
      ]
     },
     "execution_count": 110,
     "metadata": {},
     "output_type": "execute_result"
    }
   ],
   "source": [
    "for i in brands:\n",
    "    brand.append(i.text)\n",
    "brand"
   ]
  },
  {
   "cell_type": "code",
   "execution_count": 95,
   "id": "238777e0",
   "metadata": {},
   "outputs": [
    {
     "ename": "SyntaxError",
     "evalue": "invalid syntax (<ipython-input-95-c7fc7de63882>, line 2)",
     "output_type": "error",
     "traceback": [
      "\u001b[0;36m  File \u001b[0;32m\"<ipython-input-95-c7fc7de63882>\"\u001b[0;36m, line \u001b[0;32m2\u001b[0m\n\u001b[0;31m    nxt_button==driver.find_elements_by_xpath('//a[@class='_1LKTO3']')\u001b[0m\n\u001b[0m                                                           ^\u001b[0m\n\u001b[0;31mSyntaxError\u001b[0m\u001b[0;31m:\u001b[0m invalid syntax\n"
     ]
    }
   ],
   "source": [
    "#getting the link from the list of next page\n",
    "nxt_button==driver.find_elements_by_xpath('//a[@class='_1LKTO3']')\n",
    "driver.get(nxt_button[1].get_attribute('href'))\n",
    "except:\n",
    "    driver.get(nxt_button[0].get_attribute('href'))\n",
    "    "
   ]
  },
  {
   "cell_type": "code",
   "execution_count": 91,
   "id": "e5ac0b4c",
   "metadata": {},
   "outputs": [
    {
     "name": "stderr",
     "output_type": "stream",
     "text": [
      "<ipython-input-91-f8c7e40276f3>:1: DeprecationWarning: find_elements_by_* commands are deprecated. Please use find_elements() instead\n",
      "  specification=driver.find_elements_by_class_name(\"rcweVK\")\n"
     ]
    }
   ],
   "source": [
    "specification=driver.find_elements_by_class_name(\"rcweVK\")\n"
   ]
  },
  {
   "cell_type": "code",
   "execution_count": null,
   "id": "5bb92095",
   "metadata": {},
   "outputs": [],
   "source": []
  }
 ],
 "metadata": {
  "kernelspec": {
   "display_name": "Python 3",
   "language": "python",
   "name": "python3"
  },
  "language_info": {
   "codemirror_mode": {
    "name": "ipython",
    "version": 3
   },
   "file_extension": ".py",
   "mimetype": "text/x-python",
   "name": "python",
   "nbconvert_exporter": "python",
   "pygments_lexer": "ipython3",
   "version": "3.8.8"
  }
 },
 "nbformat": 4,
 "nbformat_minor": 5
}
