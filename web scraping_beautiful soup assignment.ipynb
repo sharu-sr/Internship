{
 "cells": [
  {
   "cell_type": "markdown",
   "id": "f57261bf",
   "metadata": {},
   "source": [
    "# Beautiful soup"
   ]
  },
  {
   "cell_type": "code",
   "execution_count": 154,
   "id": "b033dae0",
   "metadata": {},
   "outputs": [],
   "source": [
    "#firstly install libararies"
   ]
  },
  {
   "cell_type": "code",
   "execution_count": 155,
   "id": "a5b24290",
   "metadata": {},
   "outputs": [
    {
     "name": "stdout",
     "output_type": "stream",
     "text": [
      "Requirement already satisfied: bs4 in ./opt/anaconda3/lib/python3.8/site-packages (0.0.1)\n",
      "Requirement already satisfied: beautifulsoup4 in ./opt/anaconda3/lib/python3.8/site-packages (from bs4) (4.9.3)\n",
      "Requirement already satisfied: soupsieve>1.2 in ./opt/anaconda3/lib/python3.8/site-packages (from beautifulsoup4->bs4) (2.2.1)\n",
      "Requirement already satisfied: requests in ./opt/anaconda3/lib/python3.8/site-packages (2.25.1)\n",
      "Requirement already satisfied: urllib3<1.27,>=1.21.1 in ./opt/anaconda3/lib/python3.8/site-packages (from requests) (1.26.4)\n",
      "Requirement already satisfied: certifi>=2017.4.17 in ./opt/anaconda3/lib/python3.8/site-packages (from requests) (2020.12.5)\n",
      "Requirement already satisfied: idna<3,>=2.5 in ./opt/anaconda3/lib/python3.8/site-packages (from requests) (2.10)\n",
      "Requirement already satisfied: chardet<5,>=3.0.2 in ./opt/anaconda3/lib/python3.8/site-packages (from requests) (4.0.0)\n"
     ]
    }
   ],
   "source": [
    "!pip install bs4\n",
    "!pip install requests"
   ]
  },
  {
   "cell_type": "code",
   "execution_count": 156,
   "id": "0b49b1eb",
   "metadata": {},
   "outputs": [],
   "source": [
    "#import required libraries"
   ]
  },
  {
   "cell_type": "code",
   "execution_count": 157,
   "id": "f4a05b99",
   "metadata": {},
   "outputs": [],
   "source": [
    "from bs4 import BeautifulSoup\n",
    "import requests"
   ]
  },
  {
   "cell_type": "markdown",
   "id": "34c2b0a0",
   "metadata": {},
   "source": [
    "Question 1"
   ]
  },
  {
   "cell_type": "code",
   "execution_count": 158,
   "id": "34c10221",
   "metadata": {},
   "outputs": [],
   "source": [
    "#to display all the header tags from ‘en.wikipedia.org/wiki/Main_Page’."
   ]
  },
  {
   "cell_type": "code",
   "execution_count": 159,
   "id": "2effcda9",
   "metadata": {},
   "outputs": [],
   "source": [
    "page = requests.get('https://en.wikipedia.org/wiki/Main_Page')"
   ]
  },
  {
   "cell_type": "code",
   "execution_count": 160,
   "id": "a5843974",
   "metadata": {},
   "outputs": [
    {
     "data": {
      "text/plain": [
       "<Response [200]>"
      ]
     },
     "execution_count": 160,
     "metadata": {},
     "output_type": "execute_result"
    }
   ],
   "source": [
    "page"
   ]
  },
  {
   "cell_type": "code",
   "execution_count": 161,
   "id": "0b69cacf",
   "metadata": {},
   "outputs": [],
   "source": [
    "soup = BeautifulSoup(page.content)"
   ]
  },
  {
   "cell_type": "code",
   "execution_count": 162,
   "id": "f710e8c0",
   "metadata": {},
   "outputs": [
    {
     "data": {
      "text/plain": [
       "[\"From today's featured article\",\n",
       " 'Did you know\\xa0...',\n",
       " 'In the news',\n",
       " 'On this day',\n",
       " \"Today's featured picture\",\n",
       " 'Other areas of Wikipedia',\n",
       " \"Wikipedia's sister projects\",\n",
       " 'Wikipedia languages']"
      ]
     },
     "execution_count": 162,
     "metadata": {},
     "output_type": "execute_result"
    }
   ],
   "source": [
    "titles =[]\n",
    "\n",
    "for i in soup.find_all('span',class_=\"mw-headline\"):\n",
    "    titles.append(i.text)\n",
    "\n",
    "\n",
    "titles"
   ]
  },
  {
   "cell_type": "markdown",
   "id": "7a891918",
   "metadata": {},
   "source": [
    "Question 2"
   ]
  },
  {
   "cell_type": "code",
   "execution_count": 163,
   "id": "1eee6780",
   "metadata": {},
   "outputs": [],
   "source": [
    "#To display IMDB's top rated 100 movies data "
   ]
  },
  {
   "cell_type": "code",
   "execution_count": 164,
   "id": "7312be2f",
   "metadata": {},
   "outputs": [],
   "source": [
    "page = requests.get('https://www.imdb.com/search/title/?groups=top_100&sort=user_rating,desc')"
   ]
  },
  {
   "cell_type": "code",
   "execution_count": 165,
   "id": "dca2129b",
   "metadata": {},
   "outputs": [
    {
     "data": {
      "text/plain": [
       "<Response [200]>"
      ]
     },
     "execution_count": 165,
     "metadata": {},
     "output_type": "execute_result"
    }
   ],
   "source": [
    "page"
   ]
  },
  {
   "cell_type": "code",
   "execution_count": 166,
   "id": "f7a06911",
   "metadata": {},
   "outputs": [],
   "source": [
    "soup = BeautifulSoup(page.content)"
   ]
  },
  {
   "cell_type": "code",
   "execution_count": 167,
   "id": "864bdb5e",
   "metadata": {},
   "outputs": [
    {
     "data": {
      "text/plain": [
       "['1.The Shawshank Redemption(1994)',\n",
       " '2.The Godfather(1972)',\n",
       " '3.The Dark Knight(2008)',\n",
       " '4.The Godfather: Part II(1974)',\n",
       " '5.12 Angry Men(1957)',\n",
       " '6.The Lord of the Rings: The Return of the King(2003)',\n",
       " '7.Pulp Fiction(1994)',\n",
       " \"8.Schindler's List(1993)\",\n",
       " '9.Inception(2010)',\n",
       " '10.Fight Club(1999)',\n",
       " '11.The Lord of the Rings: The Fellowship of the Ring(2001)',\n",
       " '12.Forrest Gump(1994)',\n",
       " '13.Il buono, il brutto, il cattivo(1966)',\n",
       " '14.The Lord of the Rings: The Two Towers(2002)',\n",
       " '15.The Matrix(1999)',\n",
       " '16.Goodfellas(1990)',\n",
       " '17.Star Wars: Episode V - The Empire Strikes Back(1980)',\n",
       " \"18.One Flew Over the Cuckoo's Nest(1975)\",\n",
       " '19.Gisaengchung(2019)',\n",
       " '20.Interstellar(2014)',\n",
       " '21.Cidade de Deus(2002)',\n",
       " '22.Sen to Chihiro no kamikakushi(2001)',\n",
       " '23.Saving Private Ryan(1998)',\n",
       " '24.The Green Mile(1999)',\n",
       " '25.La vita è bella(1997)',\n",
       " '26.Se7en(1995)',\n",
       " '27.The Silence of the Lambs(1991)',\n",
       " '28.Star Wars(1977)',\n",
       " '29.Seppuku(1962)',\n",
       " '30.Shichinin no samurai(1954)',\n",
       " \"31.It's a Wonderful Life(1946)\",\n",
       " '32.Whiplash(2014)',\n",
       " '33.The Intouchables(2011)',\n",
       " '34.The Prestige(2006)',\n",
       " '35.The Departed(2006)',\n",
       " '36.The Pianist(2002)',\n",
       " '37.Gladiator(2000)',\n",
       " '38.American History X(1998)',\n",
       " '39.The Usual Suspects(1995)',\n",
       " '40.Léon(1994)',\n",
       " '41.The Lion King(1994)',\n",
       " '42.Terminator 2: Judgment Day(1991)',\n",
       " '43.Nuovo Cinema Paradiso(1988)',\n",
       " '44.Hotaru no haka(1988)',\n",
       " '45.Back to the Future(1985)',\n",
       " '46.Once Upon a Time in the West(1968)',\n",
       " '47.Psycho(1960)',\n",
       " '48.Rear Window(1954)',\n",
       " '49.Casablanca(1942)',\n",
       " '50.Modern Times(1936)']"
      ]
     },
     "execution_count": 167,
     "metadata": {},
     "output_type": "execute_result"
    }
   ],
   "source": [
    "name=soup.find_all('h3',class_='lister-item-header')\n",
    "movie_names=[]\n",
    "for i in range(0,50):\n",
    "    movie_names.append(name[i].get_text().replace(\"\\n\",\"\"))\n",
    "\n",
    "movie_names\n",
    "\n",
    "\n",
    "\n",
    "\n"
   ]
  },
  {
   "cell_type": "code",
   "execution_count": 168,
   "id": "03f4976a",
   "metadata": {},
   "outputs": [],
   "source": [
    "#IMDB rating"
   ]
  },
  {
   "cell_type": "code",
   "execution_count": 169,
   "id": "5b0bfc53",
   "metadata": {},
   "outputs": [
    {
     "data": {
      "text/plain": [
       "[<div class=\"inline-block ratings-imdb-rating\" data-value=\"9.3\" name=\"ir\">\n",
       " <span class=\"global-sprite rating-star imdb-rating\"></span>\n",
       " <strong>9.3</strong>\n",
       " </div>,\n",
       " <div class=\"inline-block ratings-imdb-rating\" data-value=\"9.2\" name=\"ir\">\n",
       " <span class=\"global-sprite rating-star imdb-rating\"></span>\n",
       " <strong>9.2</strong>\n",
       " </div>,\n",
       " <div class=\"inline-block ratings-imdb-rating\" data-value=\"9\" name=\"ir\">\n",
       " <span class=\"global-sprite rating-star imdb-rating\"></span>\n",
       " <strong>9.0</strong>\n",
       " </div>,\n",
       " <div class=\"inline-block ratings-imdb-rating\" data-value=\"9\" name=\"ir\">\n",
       " <span class=\"global-sprite rating-star imdb-rating\"></span>\n",
       " <strong>9.0</strong>\n",
       " </div>,\n",
       " <div class=\"inline-block ratings-imdb-rating\" data-value=\"9\" name=\"ir\">\n",
       " <span class=\"global-sprite rating-star imdb-rating\"></span>\n",
       " <strong>9.0</strong>\n",
       " </div>,\n",
       " <div class=\"inline-block ratings-imdb-rating\" data-value=\"8.9\" name=\"ir\">\n",
       " <span class=\"global-sprite rating-star imdb-rating\"></span>\n",
       " <strong>8.9</strong>\n",
       " </div>,\n",
       " <div class=\"inline-block ratings-imdb-rating\" data-value=\"8.9\" name=\"ir\">\n",
       " <span class=\"global-sprite rating-star imdb-rating\"></span>\n",
       " <strong>8.9</strong>\n",
       " </div>,\n",
       " <div class=\"inline-block ratings-imdb-rating\" data-value=\"8.9\" name=\"ir\">\n",
       " <span class=\"global-sprite rating-star imdb-rating\"></span>\n",
       " <strong>8.9</strong>\n",
       " </div>,\n",
       " <div class=\"inline-block ratings-imdb-rating\" data-value=\"8.8\" name=\"ir\">\n",
       " <span class=\"global-sprite rating-star imdb-rating\"></span>\n",
       " <strong>8.8</strong>\n",
       " </div>,\n",
       " <div class=\"inline-block ratings-imdb-rating\" data-value=\"8.8\" name=\"ir\">\n",
       " <span class=\"global-sprite rating-star imdb-rating\"></span>\n",
       " <strong>8.8</strong>\n",
       " </div>,\n",
       " <div class=\"inline-block ratings-imdb-rating\" data-value=\"8.8\" name=\"ir\">\n",
       " <span class=\"global-sprite rating-star imdb-rating\"></span>\n",
       " <strong>8.8</strong>\n",
       " </div>,\n",
       " <div class=\"inline-block ratings-imdb-rating\" data-value=\"8.8\" name=\"ir\">\n",
       " <span class=\"global-sprite rating-star imdb-rating\"></span>\n",
       " <strong>8.8</strong>\n",
       " </div>,\n",
       " <div class=\"inline-block ratings-imdb-rating\" data-value=\"8.8\" name=\"ir\">\n",
       " <span class=\"global-sprite rating-star imdb-rating\"></span>\n",
       " <strong>8.8</strong>\n",
       " </div>,\n",
       " <div class=\"inline-block ratings-imdb-rating\" data-value=\"8.7\" name=\"ir\">\n",
       " <span class=\"global-sprite rating-star imdb-rating\"></span>\n",
       " <strong>8.7</strong>\n",
       " </div>,\n",
       " <div class=\"inline-block ratings-imdb-rating\" data-value=\"8.7\" name=\"ir\">\n",
       " <span class=\"global-sprite rating-star imdb-rating\"></span>\n",
       " <strong>8.7</strong>\n",
       " </div>,\n",
       " <div class=\"inline-block ratings-imdb-rating\" data-value=\"8.7\" name=\"ir\">\n",
       " <span class=\"global-sprite rating-star imdb-rating\"></span>\n",
       " <strong>8.7</strong>\n",
       " </div>,\n",
       " <div class=\"inline-block ratings-imdb-rating\" data-value=\"8.7\" name=\"ir\">\n",
       " <span class=\"global-sprite rating-star imdb-rating\"></span>\n",
       " <strong>8.7</strong>\n",
       " </div>,\n",
       " <div class=\"inline-block ratings-imdb-rating\" data-value=\"8.7\" name=\"ir\">\n",
       " <span class=\"global-sprite rating-star imdb-rating\"></span>\n",
       " <strong>8.7</strong>\n",
       " </div>,\n",
       " <div class=\"inline-block ratings-imdb-rating\" data-value=\"8.6\" name=\"ir\">\n",
       " <span class=\"global-sprite rating-star imdb-rating\"></span>\n",
       " <strong>8.6</strong>\n",
       " </div>,\n",
       " <div class=\"inline-block ratings-imdb-rating\" data-value=\"8.6\" name=\"ir\">\n",
       " <span class=\"global-sprite rating-star imdb-rating\"></span>\n",
       " <strong>8.6</strong>\n",
       " </div>,\n",
       " <div class=\"inline-block ratings-imdb-rating\" data-value=\"8.6\" name=\"ir\">\n",
       " <span class=\"global-sprite rating-star imdb-rating\"></span>\n",
       " <strong>8.6</strong>\n",
       " </div>,\n",
       " <div class=\"inline-block ratings-imdb-rating\" data-value=\"8.6\" name=\"ir\">\n",
       " <span class=\"global-sprite rating-star imdb-rating\"></span>\n",
       " <strong>8.6</strong>\n",
       " </div>,\n",
       " <div class=\"inline-block ratings-imdb-rating\" data-value=\"8.6\" name=\"ir\">\n",
       " <span class=\"global-sprite rating-star imdb-rating\"></span>\n",
       " <strong>8.6</strong>\n",
       " </div>,\n",
       " <div class=\"inline-block ratings-imdb-rating\" data-value=\"8.6\" name=\"ir\">\n",
       " <span class=\"global-sprite rating-star imdb-rating\"></span>\n",
       " <strong>8.6</strong>\n",
       " </div>,\n",
       " <div class=\"inline-block ratings-imdb-rating\" data-value=\"8.6\" name=\"ir\">\n",
       " <span class=\"global-sprite rating-star imdb-rating\"></span>\n",
       " <strong>8.6</strong>\n",
       " </div>,\n",
       " <div class=\"inline-block ratings-imdb-rating\" data-value=\"8.6\" name=\"ir\">\n",
       " <span class=\"global-sprite rating-star imdb-rating\"></span>\n",
       " <strong>8.6</strong>\n",
       " </div>,\n",
       " <div class=\"inline-block ratings-imdb-rating\" data-value=\"8.6\" name=\"ir\">\n",
       " <span class=\"global-sprite rating-star imdb-rating\"></span>\n",
       " <strong>8.6</strong>\n",
       " </div>,\n",
       " <div class=\"inline-block ratings-imdb-rating\" data-value=\"8.6\" name=\"ir\">\n",
       " <span class=\"global-sprite rating-star imdb-rating\"></span>\n",
       " <strong>8.6</strong>\n",
       " </div>,\n",
       " <div class=\"inline-block ratings-imdb-rating\" data-value=\"8.6\" name=\"ir\">\n",
       " <span class=\"global-sprite rating-star imdb-rating\"></span>\n",
       " <strong>8.6</strong>\n",
       " </div>,\n",
       " <div class=\"inline-block ratings-imdb-rating\" data-value=\"8.6\" name=\"ir\">\n",
       " <span class=\"global-sprite rating-star imdb-rating\"></span>\n",
       " <strong>8.6</strong>\n",
       " </div>,\n",
       " <div class=\"inline-block ratings-imdb-rating\" data-value=\"8.6\" name=\"ir\">\n",
       " <span class=\"global-sprite rating-star imdb-rating\"></span>\n",
       " <strong>8.6</strong>\n",
       " </div>,\n",
       " <div class=\"inline-block ratings-imdb-rating\" data-value=\"8.5\" name=\"ir\">\n",
       " <span class=\"global-sprite rating-star imdb-rating\"></span>\n",
       " <strong>8.5</strong>\n",
       " </div>,\n",
       " <div class=\"inline-block ratings-imdb-rating\" data-value=\"8.5\" name=\"ir\">\n",
       " <span class=\"global-sprite rating-star imdb-rating\"></span>\n",
       " <strong>8.5</strong>\n",
       " </div>,\n",
       " <div class=\"inline-block ratings-imdb-rating\" data-value=\"8.5\" name=\"ir\">\n",
       " <span class=\"global-sprite rating-star imdb-rating\"></span>\n",
       " <strong>8.5</strong>\n",
       " </div>,\n",
       " <div class=\"inline-block ratings-imdb-rating\" data-value=\"8.5\" name=\"ir\">\n",
       " <span class=\"global-sprite rating-star imdb-rating\"></span>\n",
       " <strong>8.5</strong>\n",
       " </div>,\n",
       " <div class=\"inline-block ratings-imdb-rating\" data-value=\"8.5\" name=\"ir\">\n",
       " <span class=\"global-sprite rating-star imdb-rating\"></span>\n",
       " <strong>8.5</strong>\n",
       " </div>,\n",
       " <div class=\"inline-block ratings-imdb-rating\" data-value=\"8.5\" name=\"ir\">\n",
       " <span class=\"global-sprite rating-star imdb-rating\"></span>\n",
       " <strong>8.5</strong>\n",
       " </div>,\n",
       " <div class=\"inline-block ratings-imdb-rating\" data-value=\"8.5\" name=\"ir\">\n",
       " <span class=\"global-sprite rating-star imdb-rating\"></span>\n",
       " <strong>8.5</strong>\n",
       " </div>,\n",
       " <div class=\"inline-block ratings-imdb-rating\" data-value=\"8.5\" name=\"ir\">\n",
       " <span class=\"global-sprite rating-star imdb-rating\"></span>\n",
       " <strong>8.5</strong>\n",
       " </div>,\n",
       " <div class=\"inline-block ratings-imdb-rating\" data-value=\"8.5\" name=\"ir\">\n",
       " <span class=\"global-sprite rating-star imdb-rating\"></span>\n",
       " <strong>8.5</strong>\n",
       " </div>,\n",
       " <div class=\"inline-block ratings-imdb-rating\" data-value=\"8.5\" name=\"ir\">\n",
       " <span class=\"global-sprite rating-star imdb-rating\"></span>\n",
       " <strong>8.5</strong>\n",
       " </div>,\n",
       " <div class=\"inline-block ratings-imdb-rating\" data-value=\"8.5\" name=\"ir\">\n",
       " <span class=\"global-sprite rating-star imdb-rating\"></span>\n",
       " <strong>8.5</strong>\n",
       " </div>,\n",
       " <div class=\"inline-block ratings-imdb-rating\" data-value=\"8.5\" name=\"ir\">\n",
       " <span class=\"global-sprite rating-star imdb-rating\"></span>\n",
       " <strong>8.5</strong>\n",
       " </div>,\n",
       " <div class=\"inline-block ratings-imdb-rating\" data-value=\"8.5\" name=\"ir\">\n",
       " <span class=\"global-sprite rating-star imdb-rating\"></span>\n",
       " <strong>8.5</strong>\n",
       " </div>,\n",
       " <div class=\"inline-block ratings-imdb-rating\" data-value=\"8.5\" name=\"ir\">\n",
       " <span class=\"global-sprite rating-star imdb-rating\"></span>\n",
       " <strong>8.5</strong>\n",
       " </div>,\n",
       " <div class=\"inline-block ratings-imdb-rating\" data-value=\"8.5\" name=\"ir\">\n",
       " <span class=\"global-sprite rating-star imdb-rating\"></span>\n",
       " <strong>8.5</strong>\n",
       " </div>,\n",
       " <div class=\"inline-block ratings-imdb-rating\" data-value=\"8.5\" name=\"ir\">\n",
       " <span class=\"global-sprite rating-star imdb-rating\"></span>\n",
       " <strong>8.5</strong>\n",
       " </div>,\n",
       " <div class=\"inline-block ratings-imdb-rating\" data-value=\"8.5\" name=\"ir\">\n",
       " <span class=\"global-sprite rating-star imdb-rating\"></span>\n",
       " <strong>8.5</strong>\n",
       " </div>,\n",
       " <div class=\"inline-block ratings-imdb-rating\" data-value=\"8.5\" name=\"ir\">\n",
       " <span class=\"global-sprite rating-star imdb-rating\"></span>\n",
       " <strong>8.5</strong>\n",
       " </div>,\n",
       " <div class=\"inline-block ratings-imdb-rating\" data-value=\"8.5\" name=\"ir\">\n",
       " <span class=\"global-sprite rating-star imdb-rating\"></span>\n",
       " <strong>8.5</strong>\n",
       " </div>]"
      ]
     },
     "execution_count": 169,
     "metadata": {},
     "output_type": "execute_result"
    }
   ],
   "source": [
    "rating=soup.find_all('span',class_='global-sprite rating-star imdb-rating')\n",
    "\n",
    "movie_rating=[]\n",
    "for i in range(0,50):\n",
    "    movie_rating.append(rating[i].get_text())\n",
    "    \n",
    "ratings"
   ]
  },
  {
   "cell_type": "code",
   "execution_count": 170,
   "id": "58139316",
   "metadata": {},
   "outputs": [],
   "source": [
    "#date of release"
   ]
  },
  {
   "cell_type": "code",
   "execution_count": 171,
   "id": "1bce11c4",
   "metadata": {},
   "outputs": [
    {
     "data": {
      "text/plain": [
       "['(1994)',\n",
       " '(1972)',\n",
       " '(2008)',\n",
       " '(1974)',\n",
       " '(1957)',\n",
       " '(2003)',\n",
       " '(1994)',\n",
       " '(1993)',\n",
       " '(2010)',\n",
       " '(1999)',\n",
       " '(2001)',\n",
       " '(1994)',\n",
       " '(1966)',\n",
       " '(2002)',\n",
       " '(1999)',\n",
       " '(1990)',\n",
       " '(1980)',\n",
       " '(1975)',\n",
       " '(2019)',\n",
       " '(2014)',\n",
       " '(2002)',\n",
       " '(2001)',\n",
       " '(1998)',\n",
       " '(1999)',\n",
       " '(1997)',\n",
       " '(1995)',\n",
       " '(1991)',\n",
       " '(1977)',\n",
       " '(1962)',\n",
       " '(1954)',\n",
       " '(1946)',\n",
       " '(2014)',\n",
       " '(2011)',\n",
       " '(2006)',\n",
       " '(2006)',\n",
       " '(2002)',\n",
       " '(2000)',\n",
       " '(1998)',\n",
       " '(1995)',\n",
       " '(1994)',\n",
       " '(1994)',\n",
       " '(1991)',\n",
       " '(1988)',\n",
       " '(1988)',\n",
       " '(1985)',\n",
       " '(1968)',\n",
       " '(1960)',\n",
       " '(1954)',\n",
       " '(1942)',\n",
       " '(1936)']"
      ]
     },
     "execution_count": 171,
     "metadata": {},
     "output_type": "execute_result"
    }
   ],
   "source": [
    "date=[]\n",
    "\n",
    "for i in soup.find_all('span',class_='lister-item-year text-muted unbold'):\n",
    "    date.append(i.text)\n",
    "date"
   ]
  },
  {
   "cell_type": "code",
   "execution_count": 172,
   "id": "9a4d0b95",
   "metadata": {},
   "outputs": [
    {
     "data": {
      "text/html": [
       "<div>\n",
       "<style scoped>\n",
       "    .dataframe tbody tr th:only-of-type {\n",
       "        vertical-align: middle;\n",
       "    }\n",
       "\n",
       "    .dataframe tbody tr th {\n",
       "        vertical-align: top;\n",
       "    }\n",
       "\n",
       "    .dataframe thead th {\n",
       "        text-align: right;\n",
       "    }\n",
       "</style>\n",
       "<table border=\"1\" class=\"dataframe\">\n",
       "  <thead>\n",
       "    <tr style=\"text-align: right;\">\n",
       "      <th></th>\n",
       "      <th>Names</th>\n",
       "      <th>Ratings</th>\n",
       "      <th>dates</th>\n",
       "    </tr>\n",
       "  </thead>\n",
       "  <tbody>\n",
       "    <tr>\n",
       "      <th>0</th>\n",
       "      <td>1.The Shawshank Redemption(1994)</td>\n",
       "      <td>[\\n, [], \\n, [9.3], \\n]</td>\n",
       "      <td>(1994)</td>\n",
       "    </tr>\n",
       "    <tr>\n",
       "      <th>1</th>\n",
       "      <td>2.The Godfather(1972)</td>\n",
       "      <td>[\\n, [], \\n, [9.2], \\n]</td>\n",
       "      <td>(1972)</td>\n",
       "    </tr>\n",
       "    <tr>\n",
       "      <th>2</th>\n",
       "      <td>3.The Dark Knight(2008)</td>\n",
       "      <td>[\\n, [], \\n, [9.0], \\n]</td>\n",
       "      <td>(2008)</td>\n",
       "    </tr>\n",
       "    <tr>\n",
       "      <th>3</th>\n",
       "      <td>4.The Godfather: Part II(1974)</td>\n",
       "      <td>[\\n, [], \\n, [9.0], \\n]</td>\n",
       "      <td>(1974)</td>\n",
       "    </tr>\n",
       "    <tr>\n",
       "      <th>4</th>\n",
       "      <td>5.12 Angry Men(1957)</td>\n",
       "      <td>[\\n, [], \\n, [9.0], \\n]</td>\n",
       "      <td>(1957)</td>\n",
       "    </tr>\n",
       "    <tr>\n",
       "      <th>5</th>\n",
       "      <td>6.The Lord of the Rings: The Return of the Kin...</td>\n",
       "      <td>[\\n, [], \\n, [8.9], \\n]</td>\n",
       "      <td>(2003)</td>\n",
       "    </tr>\n",
       "    <tr>\n",
       "      <th>6</th>\n",
       "      <td>7.Pulp Fiction(1994)</td>\n",
       "      <td>[\\n, [], \\n, [8.9], \\n]</td>\n",
       "      <td>(1994)</td>\n",
       "    </tr>\n",
       "    <tr>\n",
       "      <th>7</th>\n",
       "      <td>8.Schindler's List(1993)</td>\n",
       "      <td>[\\n, [], \\n, [8.9], \\n]</td>\n",
       "      <td>(1993)</td>\n",
       "    </tr>\n",
       "    <tr>\n",
       "      <th>8</th>\n",
       "      <td>9.Inception(2010)</td>\n",
       "      <td>[\\n, [], \\n, [8.8], \\n]</td>\n",
       "      <td>(2010)</td>\n",
       "    </tr>\n",
       "    <tr>\n",
       "      <th>9</th>\n",
       "      <td>10.Fight Club(1999)</td>\n",
       "      <td>[\\n, [], \\n, [8.8], \\n]</td>\n",
       "      <td>(1999)</td>\n",
       "    </tr>\n",
       "    <tr>\n",
       "      <th>10</th>\n",
       "      <td>11.The Lord of the Rings: The Fellowship of th...</td>\n",
       "      <td>[\\n, [], \\n, [8.8], \\n]</td>\n",
       "      <td>(2001)</td>\n",
       "    </tr>\n",
       "    <tr>\n",
       "      <th>11</th>\n",
       "      <td>12.Forrest Gump(1994)</td>\n",
       "      <td>[\\n, [], \\n, [8.8], \\n]</td>\n",
       "      <td>(1994)</td>\n",
       "    </tr>\n",
       "    <tr>\n",
       "      <th>12</th>\n",
       "      <td>13.Il buono, il brutto, il cattivo(1966)</td>\n",
       "      <td>[\\n, [], \\n, [8.8], \\n]</td>\n",
       "      <td>(1966)</td>\n",
       "    </tr>\n",
       "    <tr>\n",
       "      <th>13</th>\n",
       "      <td>14.The Lord of the Rings: The Two Towers(2002)</td>\n",
       "      <td>[\\n, [], \\n, [8.7], \\n]</td>\n",
       "      <td>(2002)</td>\n",
       "    </tr>\n",
       "    <tr>\n",
       "      <th>14</th>\n",
       "      <td>15.The Matrix(1999)</td>\n",
       "      <td>[\\n, [], \\n, [8.7], \\n]</td>\n",
       "      <td>(1999)</td>\n",
       "    </tr>\n",
       "    <tr>\n",
       "      <th>15</th>\n",
       "      <td>16.Goodfellas(1990)</td>\n",
       "      <td>[\\n, [], \\n, [8.7], \\n]</td>\n",
       "      <td>(1990)</td>\n",
       "    </tr>\n",
       "    <tr>\n",
       "      <th>16</th>\n",
       "      <td>17.Star Wars: Episode V - The Empire Strikes B...</td>\n",
       "      <td>[\\n, [], \\n, [8.7], \\n]</td>\n",
       "      <td>(1980)</td>\n",
       "    </tr>\n",
       "    <tr>\n",
       "      <th>17</th>\n",
       "      <td>18.One Flew Over the Cuckoo's Nest(1975)</td>\n",
       "      <td>[\\n, [], \\n, [8.7], \\n]</td>\n",
       "      <td>(1975)</td>\n",
       "    </tr>\n",
       "    <tr>\n",
       "      <th>18</th>\n",
       "      <td>19.Gisaengchung(2019)</td>\n",
       "      <td>[\\n, [], \\n, [8.6], \\n]</td>\n",
       "      <td>(2019)</td>\n",
       "    </tr>\n",
       "    <tr>\n",
       "      <th>19</th>\n",
       "      <td>20.Interstellar(2014)</td>\n",
       "      <td>[\\n, [], \\n, [8.6], \\n]</td>\n",
       "      <td>(2014)</td>\n",
       "    </tr>\n",
       "    <tr>\n",
       "      <th>20</th>\n",
       "      <td>21.Cidade de Deus(2002)</td>\n",
       "      <td>[\\n, [], \\n, [8.6], \\n]</td>\n",
       "      <td>(2002)</td>\n",
       "    </tr>\n",
       "    <tr>\n",
       "      <th>21</th>\n",
       "      <td>22.Sen to Chihiro no kamikakushi(2001)</td>\n",
       "      <td>[\\n, [], \\n, [8.6], \\n]</td>\n",
       "      <td>(2001)</td>\n",
       "    </tr>\n",
       "    <tr>\n",
       "      <th>22</th>\n",
       "      <td>23.Saving Private Ryan(1998)</td>\n",
       "      <td>[\\n, [], \\n, [8.6], \\n]</td>\n",
       "      <td>(1998)</td>\n",
       "    </tr>\n",
       "    <tr>\n",
       "      <th>23</th>\n",
       "      <td>24.The Green Mile(1999)</td>\n",
       "      <td>[\\n, [], \\n, [8.6], \\n]</td>\n",
       "      <td>(1999)</td>\n",
       "    </tr>\n",
       "    <tr>\n",
       "      <th>24</th>\n",
       "      <td>25.La vita è bella(1997)</td>\n",
       "      <td>[\\n, [], \\n, [8.6], \\n]</td>\n",
       "      <td>(1997)</td>\n",
       "    </tr>\n",
       "    <tr>\n",
       "      <th>25</th>\n",
       "      <td>26.Se7en(1995)</td>\n",
       "      <td>[\\n, [], \\n, [8.6], \\n]</td>\n",
       "      <td>(1995)</td>\n",
       "    </tr>\n",
       "    <tr>\n",
       "      <th>26</th>\n",
       "      <td>27.The Silence of the Lambs(1991)</td>\n",
       "      <td>[\\n, [], \\n, [8.6], \\n]</td>\n",
       "      <td>(1991)</td>\n",
       "    </tr>\n",
       "    <tr>\n",
       "      <th>27</th>\n",
       "      <td>28.Star Wars(1977)</td>\n",
       "      <td>[\\n, [], \\n, [8.6], \\n]</td>\n",
       "      <td>(1977)</td>\n",
       "    </tr>\n",
       "    <tr>\n",
       "      <th>28</th>\n",
       "      <td>29.Seppuku(1962)</td>\n",
       "      <td>[\\n, [], \\n, [8.6], \\n]</td>\n",
       "      <td>(1962)</td>\n",
       "    </tr>\n",
       "    <tr>\n",
       "      <th>29</th>\n",
       "      <td>30.Shichinin no samurai(1954)</td>\n",
       "      <td>[\\n, [], \\n, [8.6], \\n]</td>\n",
       "      <td>(1954)</td>\n",
       "    </tr>\n",
       "    <tr>\n",
       "      <th>30</th>\n",
       "      <td>31.It's a Wonderful Life(1946)</td>\n",
       "      <td>[\\n, [], \\n, [8.6], \\n]</td>\n",
       "      <td>(1946)</td>\n",
       "    </tr>\n",
       "    <tr>\n",
       "      <th>31</th>\n",
       "      <td>32.Whiplash(2014)</td>\n",
       "      <td>[\\n, [], \\n, [8.5], \\n]</td>\n",
       "      <td>(2014)</td>\n",
       "    </tr>\n",
       "    <tr>\n",
       "      <th>32</th>\n",
       "      <td>33.The Intouchables(2011)</td>\n",
       "      <td>[\\n, [], \\n, [8.5], \\n]</td>\n",
       "      <td>(2011)</td>\n",
       "    </tr>\n",
       "    <tr>\n",
       "      <th>33</th>\n",
       "      <td>34.The Prestige(2006)</td>\n",
       "      <td>[\\n, [], \\n, [8.5], \\n]</td>\n",
       "      <td>(2006)</td>\n",
       "    </tr>\n",
       "    <tr>\n",
       "      <th>34</th>\n",
       "      <td>35.The Departed(2006)</td>\n",
       "      <td>[\\n, [], \\n, [8.5], \\n]</td>\n",
       "      <td>(2006)</td>\n",
       "    </tr>\n",
       "    <tr>\n",
       "      <th>35</th>\n",
       "      <td>36.The Pianist(2002)</td>\n",
       "      <td>[\\n, [], \\n, [8.5], \\n]</td>\n",
       "      <td>(2002)</td>\n",
       "    </tr>\n",
       "    <tr>\n",
       "      <th>36</th>\n",
       "      <td>37.Gladiator(2000)</td>\n",
       "      <td>[\\n, [], \\n, [8.5], \\n]</td>\n",
       "      <td>(2000)</td>\n",
       "    </tr>\n",
       "    <tr>\n",
       "      <th>37</th>\n",
       "      <td>38.American History X(1998)</td>\n",
       "      <td>[\\n, [], \\n, [8.5], \\n]</td>\n",
       "      <td>(1998)</td>\n",
       "    </tr>\n",
       "    <tr>\n",
       "      <th>38</th>\n",
       "      <td>39.The Usual Suspects(1995)</td>\n",
       "      <td>[\\n, [], \\n, [8.5], \\n]</td>\n",
       "      <td>(1995)</td>\n",
       "    </tr>\n",
       "    <tr>\n",
       "      <th>39</th>\n",
       "      <td>40.Léon(1994)</td>\n",
       "      <td>[\\n, [], \\n, [8.5], \\n]</td>\n",
       "      <td>(1994)</td>\n",
       "    </tr>\n",
       "    <tr>\n",
       "      <th>40</th>\n",
       "      <td>41.The Lion King(1994)</td>\n",
       "      <td>[\\n, [], \\n, [8.5], \\n]</td>\n",
       "      <td>(1994)</td>\n",
       "    </tr>\n",
       "    <tr>\n",
       "      <th>41</th>\n",
       "      <td>42.Terminator 2: Judgment Day(1991)</td>\n",
       "      <td>[\\n, [], \\n, [8.5], \\n]</td>\n",
       "      <td>(1991)</td>\n",
       "    </tr>\n",
       "    <tr>\n",
       "      <th>42</th>\n",
       "      <td>43.Nuovo Cinema Paradiso(1988)</td>\n",
       "      <td>[\\n, [], \\n, [8.5], \\n]</td>\n",
       "      <td>(1988)</td>\n",
       "    </tr>\n",
       "    <tr>\n",
       "      <th>43</th>\n",
       "      <td>44.Hotaru no haka(1988)</td>\n",
       "      <td>[\\n, [], \\n, [8.5], \\n]</td>\n",
       "      <td>(1988)</td>\n",
       "    </tr>\n",
       "    <tr>\n",
       "      <th>44</th>\n",
       "      <td>45.Back to the Future(1985)</td>\n",
       "      <td>[\\n, [], \\n, [8.5], \\n]</td>\n",
       "      <td>(1985)</td>\n",
       "    </tr>\n",
       "    <tr>\n",
       "      <th>45</th>\n",
       "      <td>46.Once Upon a Time in the West(1968)</td>\n",
       "      <td>[\\n, [], \\n, [8.5], \\n]</td>\n",
       "      <td>(1968)</td>\n",
       "    </tr>\n",
       "    <tr>\n",
       "      <th>46</th>\n",
       "      <td>47.Psycho(1960)</td>\n",
       "      <td>[\\n, [], \\n, [8.5], \\n]</td>\n",
       "      <td>(1960)</td>\n",
       "    </tr>\n",
       "    <tr>\n",
       "      <th>47</th>\n",
       "      <td>48.Rear Window(1954)</td>\n",
       "      <td>[\\n, [], \\n, [8.5], \\n]</td>\n",
       "      <td>(1954)</td>\n",
       "    </tr>\n",
       "    <tr>\n",
       "      <th>48</th>\n",
       "      <td>49.Casablanca(1942)</td>\n",
       "      <td>[\\n, [], \\n, [8.5], \\n]</td>\n",
       "      <td>(1942)</td>\n",
       "    </tr>\n",
       "    <tr>\n",
       "      <th>49</th>\n",
       "      <td>50.Modern Times(1936)</td>\n",
       "      <td>[\\n, [], \\n, [8.5], \\n]</td>\n",
       "      <td>(1936)</td>\n",
       "    </tr>\n",
       "  </tbody>\n",
       "</table>\n",
       "</div>"
      ],
      "text/plain": [
       "                                                Names  \\\n",
       "0                    1.The Shawshank Redemption(1994)   \n",
       "1                               2.The Godfather(1972)   \n",
       "2                             3.The Dark Knight(2008)   \n",
       "3                      4.The Godfather: Part II(1974)   \n",
       "4                                5.12 Angry Men(1957)   \n",
       "5   6.The Lord of the Rings: The Return of the Kin...   \n",
       "6                                7.Pulp Fiction(1994)   \n",
       "7                            8.Schindler's List(1993)   \n",
       "8                                   9.Inception(2010)   \n",
       "9                                 10.Fight Club(1999)   \n",
       "10  11.The Lord of the Rings: The Fellowship of th...   \n",
       "11                              12.Forrest Gump(1994)   \n",
       "12           13.Il buono, il brutto, il cattivo(1966)   \n",
       "13     14.The Lord of the Rings: The Two Towers(2002)   \n",
       "14                                15.The Matrix(1999)   \n",
       "15                                16.Goodfellas(1990)   \n",
       "16  17.Star Wars: Episode V - The Empire Strikes B...   \n",
       "17           18.One Flew Over the Cuckoo's Nest(1975)   \n",
       "18                              19.Gisaengchung(2019)   \n",
       "19                              20.Interstellar(2014)   \n",
       "20                            21.Cidade de Deus(2002)   \n",
       "21             22.Sen to Chihiro no kamikakushi(2001)   \n",
       "22                       23.Saving Private Ryan(1998)   \n",
       "23                            24.The Green Mile(1999)   \n",
       "24                           25.La vita è bella(1997)   \n",
       "25                                     26.Se7en(1995)   \n",
       "26                  27.The Silence of the Lambs(1991)   \n",
       "27                                 28.Star Wars(1977)   \n",
       "28                                   29.Seppuku(1962)   \n",
       "29                      30.Shichinin no samurai(1954)   \n",
       "30                     31.It's a Wonderful Life(1946)   \n",
       "31                                  32.Whiplash(2014)   \n",
       "32                          33.The Intouchables(2011)   \n",
       "33                              34.The Prestige(2006)   \n",
       "34                              35.The Departed(2006)   \n",
       "35                               36.The Pianist(2002)   \n",
       "36                                 37.Gladiator(2000)   \n",
       "37                        38.American History X(1998)   \n",
       "38                        39.The Usual Suspects(1995)   \n",
       "39                                      40.Léon(1994)   \n",
       "40                             41.The Lion King(1994)   \n",
       "41                42.Terminator 2: Judgment Day(1991)   \n",
       "42                     43.Nuovo Cinema Paradiso(1988)   \n",
       "43                            44.Hotaru no haka(1988)   \n",
       "44                        45.Back to the Future(1985)   \n",
       "45              46.Once Upon a Time in the West(1968)   \n",
       "46                                    47.Psycho(1960)   \n",
       "47                               48.Rear Window(1954)   \n",
       "48                                49.Casablanca(1942)   \n",
       "49                              50.Modern Times(1936)   \n",
       "\n",
       "                    Ratings   dates  \n",
       "0   [\\n, [], \\n, [9.3], \\n]  (1994)  \n",
       "1   [\\n, [], \\n, [9.2], \\n]  (1972)  \n",
       "2   [\\n, [], \\n, [9.0], \\n]  (2008)  \n",
       "3   [\\n, [], \\n, [9.0], \\n]  (1974)  \n",
       "4   [\\n, [], \\n, [9.0], \\n]  (1957)  \n",
       "5   [\\n, [], \\n, [8.9], \\n]  (2003)  \n",
       "6   [\\n, [], \\n, [8.9], \\n]  (1994)  \n",
       "7   [\\n, [], \\n, [8.9], \\n]  (1993)  \n",
       "8   [\\n, [], \\n, [8.8], \\n]  (2010)  \n",
       "9   [\\n, [], \\n, [8.8], \\n]  (1999)  \n",
       "10  [\\n, [], \\n, [8.8], \\n]  (2001)  \n",
       "11  [\\n, [], \\n, [8.8], \\n]  (1994)  \n",
       "12  [\\n, [], \\n, [8.8], \\n]  (1966)  \n",
       "13  [\\n, [], \\n, [8.7], \\n]  (2002)  \n",
       "14  [\\n, [], \\n, [8.7], \\n]  (1999)  \n",
       "15  [\\n, [], \\n, [8.7], \\n]  (1990)  \n",
       "16  [\\n, [], \\n, [8.7], \\n]  (1980)  \n",
       "17  [\\n, [], \\n, [8.7], \\n]  (1975)  \n",
       "18  [\\n, [], \\n, [8.6], \\n]  (2019)  \n",
       "19  [\\n, [], \\n, [8.6], \\n]  (2014)  \n",
       "20  [\\n, [], \\n, [8.6], \\n]  (2002)  \n",
       "21  [\\n, [], \\n, [8.6], \\n]  (2001)  \n",
       "22  [\\n, [], \\n, [8.6], \\n]  (1998)  \n",
       "23  [\\n, [], \\n, [8.6], \\n]  (1999)  \n",
       "24  [\\n, [], \\n, [8.6], \\n]  (1997)  \n",
       "25  [\\n, [], \\n, [8.6], \\n]  (1995)  \n",
       "26  [\\n, [], \\n, [8.6], \\n]  (1991)  \n",
       "27  [\\n, [], \\n, [8.6], \\n]  (1977)  \n",
       "28  [\\n, [], \\n, [8.6], \\n]  (1962)  \n",
       "29  [\\n, [], \\n, [8.6], \\n]  (1954)  \n",
       "30  [\\n, [], \\n, [8.6], \\n]  (1946)  \n",
       "31  [\\n, [], \\n, [8.5], \\n]  (2014)  \n",
       "32  [\\n, [], \\n, [8.5], \\n]  (2011)  \n",
       "33  [\\n, [], \\n, [8.5], \\n]  (2006)  \n",
       "34  [\\n, [], \\n, [8.5], \\n]  (2006)  \n",
       "35  [\\n, [], \\n, [8.5], \\n]  (2002)  \n",
       "36  [\\n, [], \\n, [8.5], \\n]  (2000)  \n",
       "37  [\\n, [], \\n, [8.5], \\n]  (1998)  \n",
       "38  [\\n, [], \\n, [8.5], \\n]  (1995)  \n",
       "39  [\\n, [], \\n, [8.5], \\n]  (1994)  \n",
       "40  [\\n, [], \\n, [8.5], \\n]  (1994)  \n",
       "41  [\\n, [], \\n, [8.5], \\n]  (1991)  \n",
       "42  [\\n, [], \\n, [8.5], \\n]  (1988)  \n",
       "43  [\\n, [], \\n, [8.5], \\n]  (1988)  \n",
       "44  [\\n, [], \\n, [8.5], \\n]  (1985)  \n",
       "45  [\\n, [], \\n, [8.5], \\n]  (1968)  \n",
       "46  [\\n, [], \\n, [8.5], \\n]  (1960)  \n",
       "47  [\\n, [], \\n, [8.5], \\n]  (1954)  \n",
       "48  [\\n, [], \\n, [8.5], \\n]  (1942)  \n",
       "49  [\\n, [], \\n, [8.5], \\n]  (1936)  "
      ]
     },
     "execution_count": 172,
     "metadata": {},
     "output_type": "execute_result"
    }
   ],
   "source": [
    "#making data frame\n",
    "import pandas as pd\n",
    "df=pd.DataFrame({'Names':movie_names,'Ratings':ratings,'dates':date})\n",
    "df"
   ]
  },
  {
   "cell_type": "markdown",
   "id": "b138496c",
   "metadata": {},
   "source": [
    "Question 3"
   ]
  },
  {
   "cell_type": "code",
   "execution_count": 178,
   "id": "86f4c11a",
   "metadata": {},
   "outputs": [],
   "source": [
    "#to display IMDB's top rated 100 indian movies data"
   ]
  },
  {
   "cell_type": "code",
   "execution_count": 179,
   "id": "0d1e335b",
   "metadata": {},
   "outputs": [],
   "source": [
    "#names"
   ]
  },
  {
   "cell_type": "code",
   "execution_count": 180,
   "id": "8e08f0b1",
   "metadata": {},
   "outputs": [],
   "source": [
    "page = requests.get('https://www.imdb.com/india/top-rated-indian-movies/')"
   ]
  },
  {
   "cell_type": "code",
   "execution_count": 181,
   "id": "681e87a6",
   "metadata": {},
   "outputs": [
    {
     "data": {
      "text/plain": [
       "<Response [200]>"
      ]
     },
     "execution_count": 181,
     "metadata": {},
     "output_type": "execute_result"
    }
   ],
   "source": [
    "page"
   ]
  },
  {
   "cell_type": "code",
   "execution_count": 177,
   "id": "0a9fcf1b",
   "metadata": {},
   "outputs": [],
   "source": [
    "soup =BeautifulSoup(page.content)"
   ]
  },
  {
   "cell_type": "code",
   "execution_count": 184,
   "id": "526be7b1",
   "metadata": {},
   "outputs": [
    {
     "data": {
      "text/plain": [
       "['      1.      Sardar Udham(2021)',\n",
       " '      2.      Nayakan(1987)',\n",
       " '      3.      Anbe Sivam(2003)',\n",
       " '      4.      Pariyerum Perumal(2018)',\n",
       " '      5.      C/o Kancharapalem(2018)',\n",
       " '      6.      Manichitrathazhu(1993)',\n",
       " '      7.      Golmaal(1979)',\n",
       " '      8.      Kireedam(1989)',\n",
       " '      9.      Apur Sansar(1959)',\n",
       " '      10.      Natsamrat(2016)',\n",
       " '      11.      96(2018)',\n",
       " '      12.      Thevar Magan(1992)',\n",
       " '      13.      Kumbalangi Nights(2019)',\n",
       " '      14.      Black Friday(2004)',\n",
       " '      15.      Pather Panchali(1955)',\n",
       " '      16.      #Home(2021)',\n",
       " '      17.      Soorarai Pottru(2020)',\n",
       " '      18.      Visaaranai(2015)',\n",
       " '      19.      3 Idiots(2009)',\n",
       " '      20.      Jersey(2019)',\n",
       " '      21.      Taare Zameen Par(2007)',\n",
       " '      22.      Asuran(2019)',\n",
       " '      23.      Thalapathi(1991)',\n",
       " '      24.      Drishyam 2(2021)',\n",
       " '      25.      Kaithi(2019)',\n",
       " '      26.      Sarpatta Parambarai(2021)',\n",
       " '      27.      Dangal(2016)',\n",
       " '      28.      Devasuram(1993)',\n",
       " '      29.      Aparajito(1956)',\n",
       " '      30.      Jaane Bhi Do Yaaro(1983)',\n",
       " '      31.      Peranbu(2018)',\n",
       " '      32.      Pyaasa(1957)',\n",
       " '      33.      Vada Chennai(2018)',\n",
       " '      34.      Ratsasan(2018)',\n",
       " '      35.      Guide(1965)',\n",
       " '      36.      Thani Oruvan(2015)',\n",
       " '      37.      Kannathil Muthamittal(2002)',\n",
       " '      38.      Spadikam(1995)',\n",
       " '      39.      Iruvar(1997)',\n",
       " '      40.      Agent Sai Srinivasa Athreya(2019)',\n",
       " '      41.      Chupke Chupke(1975)',\n",
       " '      42.      Super Deluxe(2019)',\n",
       " '      43.      Mahanati(2018)',\n",
       " '      44.      Aruvi(2016)',\n",
       " '      45.      Khosla Ka Ghosla!(2006)',\n",
       " '      46.      Pudhu Pettai(2006)',\n",
       " '      47.      Drishyam(2013)',\n",
       " '      48.      Tumbbad(2018)',\n",
       " '      49.      Anniyan(2005)',\n",
       " '      50.      Premam(2015)',\n",
       " '      51.      Mudhalvan(1999)',\n",
       " '      52.      Kaakkaa Muttai(2014)',\n",
       " '      53.      Bangalore Days(2014)',\n",
       " '      54.      Vikram Vedha(2017)',\n",
       " '      55.      Satya(1998)',\n",
       " '      56.      Angoor(1982)',\n",
       " '      57.      Papanasam(2015)',\n",
       " '      58.      Soodhu Kavvum(2013)',\n",
       " '      59.      Andhadhun(2018)',\n",
       " '      60.      Dhuruvangal Pathinaaru(2016)',\n",
       " '      61.      Shahid(2012)',\n",
       " '      62.      Mandela(2021)',\n",
       " '      63.      Pithamagan(2003)',\n",
       " '      64.      Jigarthanda(2014)',\n",
       " '      65.      Anand(1971)',\n",
       " '      66.      Gangs of Wasseypur(2012)',\n",
       " '      67.      Paan Singh Tomar(2012)',\n",
       " '      68.      Sairat(2016)',\n",
       " '      69.      Bhaag Milkha Bhaag(2013)',\n",
       " '      70.      Maheshinte Prathikaaram(2016)',\n",
       " '      71.      Hera Pheri(2000)',\n",
       " '      72.      Sholay(1975)',\n",
       " '      73.      Swades: We, the People(2004)',\n",
       " '      74.      Chak De! India(2007)',\n",
       " '      75.      Talvar(2015)',\n",
       " '      76.      Ustad Hotel(2012)',\n",
       " '      77.      Mughal-E-Azam(1960)',\n",
       " '      78.      Black(2005)',\n",
       " '      79.      Zindagi Na Milegi Dobara(2011)',\n",
       " '      80.      Jo Jeeta Wohi Sikandar(1992)',\n",
       " '      81.      Chhichhore(2019)',\n",
       " '      82.      Theeran Adhigaaram Ondru(2017)',\n",
       " '      83.      Nil Battey Sannata(2015)',\n",
       " '      84.      Article 15(2019)',\n",
       " '      85.      Charulata(1964)',\n",
       " '      86.      Drishyam(2015)',\n",
       " '      87.      Udaan(2010)',\n",
       " '      88.      Baasha(1995)',\n",
       " '      89.      A Wednesday(2008)',\n",
       " '      90.      Alai Payuthey(2000)',\n",
       " '      91.      Masaan(2015)',\n",
       " '      92.      Munna Bhai M.B.B.S.(2003)',\n",
       " '      93.      Virumandi(2004)',\n",
       " '      94.      Sarfarosh(1999)',\n",
       " '      95.      Queen(2013)',\n",
       " '      96.      Roja(1992)',\n",
       " '      97.      Dil Chahta Hai(2001)',\n",
       " '      98.      Rang De Basanti(2006)',\n",
       " '      99.      OMG: Oh My God!(2012)',\n",
       " '      100.      Uri: The Surgical Strike(2019)']"
      ]
     },
     "execution_count": 184,
     "metadata": {},
     "output_type": "execute_result"
    }
   ],
   "source": [
    "names=soup.find_all('td',class_='titleColumn')\n",
    "movie_names=[]\n",
    "for i in range(0,100):\n",
    "    movie_names.append(names[i].get_text().replace(\"\\n\",\"\"))\n",
    "movie_names\n",
    "\n",
    "\n",
    "    \n",
    "\n"
   ]
  },
  {
   "cell_type": "code",
   "execution_count": 25,
   "id": "d33832e4",
   "metadata": {},
   "outputs": [],
   "source": [
    "#Imdb rating"
   ]
  },
  {
   "cell_type": "code",
   "execution_count": 186,
   "id": "34259f4f",
   "metadata": {},
   "outputs": [
    {
     "data": {
      "text/plain": [
       "['8.6',\n",
       " '8.5',\n",
       " '8.5',\n",
       " '8.5',\n",
       " '8.5',\n",
       " '8.5',\n",
       " '8.5',\n",
       " '8.5',\n",
       " '8.5',\n",
       " '8.4',\n",
       " '8.4',\n",
       " '8.4',\n",
       " '8.4',\n",
       " '8.4',\n",
       " '8.4',\n",
       " '8.4',\n",
       " '8.4',\n",
       " '8.4',\n",
       " '8.4',\n",
       " '8.3',\n",
       " '8.3',\n",
       " '8.3',\n",
       " '8.3',\n",
       " '8.3',\n",
       " '8.3',\n",
       " '8.3',\n",
       " '8.3',\n",
       " '8.3',\n",
       " '8.3',\n",
       " '8.3',\n",
       " '8.3',\n",
       " '8.3',\n",
       " '8.3',\n",
       " '8.3',\n",
       " '8.3',\n",
       " '8.3',\n",
       " '8.2',\n",
       " '8.2',\n",
       " '8.2',\n",
       " '8.2',\n",
       " '8.2',\n",
       " '8.2',\n",
       " '8.2',\n",
       " '8.2',\n",
       " '8.2',\n",
       " '8.2',\n",
       " '8.2',\n",
       " '8.2',\n",
       " '8.2',\n",
       " '8.2',\n",
       " '8.2',\n",
       " '8.2',\n",
       " '8.2',\n",
       " '8.2',\n",
       " '8.2',\n",
       " '8.2',\n",
       " '8.2',\n",
       " '8.2',\n",
       " '8.2',\n",
       " '8.2',\n",
       " '8.2',\n",
       " '8.2',\n",
       " '8.2',\n",
       " '8.2',\n",
       " '8.1',\n",
       " '8.1',\n",
       " '8.1',\n",
       " '8.1',\n",
       " '8.1',\n",
       " '8.1',\n",
       " '8.1',\n",
       " '8.1',\n",
       " '8.1',\n",
       " '8.1',\n",
       " '8.1',\n",
       " '8.1',\n",
       " '8.1',\n",
       " '8.1',\n",
       " '8.1',\n",
       " '8.1',\n",
       " '8.1',\n",
       " '8.1',\n",
       " '8.1',\n",
       " '8.1',\n",
       " '8.1',\n",
       " '8.1',\n",
       " '8.1',\n",
       " '8.1',\n",
       " '8.1',\n",
       " '8.1',\n",
       " '8.1',\n",
       " '8.1',\n",
       " '8.1',\n",
       " '8.1',\n",
       " '8.1',\n",
       " '8.1',\n",
       " '8.1',\n",
       " '8.1',\n",
       " '8.1',\n",
       " '8.1']"
      ]
     },
     "execution_count": 186,
     "metadata": {},
     "output_type": "execute_result"
    }
   ],
   "source": [
    "ratings=soup.find_all('td',class_='ratingColumn imdbRating')\n",
    "movie_rating=[]\n",
    "for i in range(0,100):\n",
    "    movie_rating.append(ratings[i].get_text().replace(\"\\n\",\"\"))\n",
    "movie_rating"
   ]
  },
  {
   "cell_type": "code",
   "execution_count": 27,
   "id": "5baac571",
   "metadata": {},
   "outputs": [],
   "source": [
    "#year of release"
   ]
  },
  {
   "cell_type": "code",
   "execution_count": 187,
   "id": "687fa362",
   "metadata": {},
   "outputs": [
    {
     "data": {
      "text/plain": [
       "['(2021)',\n",
       " '(1987)',\n",
       " '(2003)',\n",
       " '(2018)',\n",
       " '(2018)',\n",
       " '(1993)',\n",
       " '(1979)',\n",
       " '(1989)',\n",
       " '(1959)',\n",
       " '(2016)',\n",
       " '(2018)',\n",
       " '(1992)',\n",
       " '(2019)',\n",
       " '(2004)',\n",
       " '(1955)',\n",
       " '(2021)',\n",
       " '(2020)',\n",
       " '(2015)',\n",
       " '(2009)',\n",
       " '(2019)',\n",
       " '(2007)',\n",
       " '(2019)',\n",
       " '(1991)',\n",
       " '(2021)',\n",
       " '(2019)',\n",
       " '(2021)',\n",
       " '(2016)',\n",
       " '(1993)',\n",
       " '(1956)',\n",
       " '(1983)',\n",
       " '(2018)',\n",
       " '(1957)',\n",
       " '(2018)',\n",
       " '(2018)',\n",
       " '(1965)',\n",
       " '(2015)',\n",
       " '(2002)',\n",
       " '(1995)',\n",
       " '(1997)',\n",
       " '(2019)',\n",
       " '(1975)',\n",
       " '(2019)',\n",
       " '(2018)',\n",
       " '(2016)',\n",
       " '(2006)',\n",
       " '(2006)',\n",
       " '(2013)',\n",
       " '(2018)',\n",
       " '(2005)',\n",
       " '(2015)',\n",
       " '(1999)',\n",
       " '(2014)',\n",
       " '(2014)',\n",
       " '(2017)',\n",
       " '(1998)',\n",
       " '(1982)',\n",
       " '(2015)',\n",
       " '(2013)',\n",
       " '(2018)',\n",
       " '(2016)',\n",
       " '(2012)',\n",
       " '(2021)',\n",
       " '(2003)',\n",
       " '(2014)',\n",
       " '(1971)',\n",
       " '(2012)',\n",
       " '(2012)',\n",
       " '(2016)',\n",
       " '(2013)',\n",
       " '(2016)',\n",
       " '(2000)',\n",
       " '(1975)',\n",
       " '(2004)',\n",
       " '(2007)',\n",
       " '(2015)',\n",
       " '(2012)',\n",
       " '(1960)',\n",
       " '(2005)',\n",
       " '(2011)',\n",
       " '(1992)',\n",
       " '(2019)',\n",
       " '(2017)',\n",
       " '(2015)',\n",
       " '(2019)',\n",
       " '(1964)',\n",
       " '(2015)',\n",
       " '(2010)',\n",
       " '(1995)',\n",
       " '(2008)',\n",
       " '(2000)',\n",
       " '(2015)',\n",
       " '(2003)',\n",
       " '(2004)',\n",
       " '(1999)',\n",
       " '(2013)',\n",
       " '(1992)',\n",
       " '(2001)',\n",
       " '(2006)',\n",
       " '(2012)',\n",
       " '(2019)']"
      ]
     },
     "execution_count": 187,
     "metadata": {},
     "output_type": "execute_result"
    }
   ],
   "source": [
    "year=soup.find_all('span',class_=\"secondaryInfo\")\n",
    "movie_year=[]\n",
    "for i in range(0,100):\n",
    "    movie_year.append(year[i].get_text())\n",
    "movie_year\n"
   ]
  },
  {
   "cell_type": "code",
   "execution_count": 190,
   "id": "1d1e3675",
   "metadata": {},
   "outputs": [
    {
     "name": "stdout",
     "output_type": "stream",
     "text": [
      "100 100 100\n"
     ]
    }
   ],
   "source": [
    "print(len(movie_names),len(movie_rating),len(movie_year))"
   ]
  },
  {
   "cell_type": "code",
   "execution_count": 191,
   "id": "6cb1c5af",
   "metadata": {},
   "outputs": [
    {
     "data": {
      "text/html": [
       "<div>\n",
       "<style scoped>\n",
       "    .dataframe tbody tr th:only-of-type {\n",
       "        vertical-align: middle;\n",
       "    }\n",
       "\n",
       "    .dataframe tbody tr th {\n",
       "        vertical-align: top;\n",
       "    }\n",
       "\n",
       "    .dataframe thead th {\n",
       "        text-align: right;\n",
       "    }\n",
       "</style>\n",
       "<table border=\"1\" class=\"dataframe\">\n",
       "  <thead>\n",
       "    <tr style=\"text-align: right;\">\n",
       "      <th></th>\n",
       "      <th>Names</th>\n",
       "      <th>Ratings</th>\n",
       "      <th>Year</th>\n",
       "    </tr>\n",
       "  </thead>\n",
       "  <tbody>\n",
       "    <tr>\n",
       "      <th>0</th>\n",
       "      <td>1.      Sardar Udham(2021)</td>\n",
       "      <td>8.6</td>\n",
       "      <td>(2021)</td>\n",
       "    </tr>\n",
       "    <tr>\n",
       "      <th>1</th>\n",
       "      <td>2.      Nayakan(1987)</td>\n",
       "      <td>8.5</td>\n",
       "      <td>(1987)</td>\n",
       "    </tr>\n",
       "    <tr>\n",
       "      <th>2</th>\n",
       "      <td>3.      Anbe Sivam(2003)</td>\n",
       "      <td>8.5</td>\n",
       "      <td>(2003)</td>\n",
       "    </tr>\n",
       "    <tr>\n",
       "      <th>3</th>\n",
       "      <td>4.      Pariyerum Perumal(2018)</td>\n",
       "      <td>8.5</td>\n",
       "      <td>(2018)</td>\n",
       "    </tr>\n",
       "    <tr>\n",
       "      <th>4</th>\n",
       "      <td>5.      C/o Kancharapalem(2018)</td>\n",
       "      <td>8.5</td>\n",
       "      <td>(2018)</td>\n",
       "    </tr>\n",
       "    <tr>\n",
       "      <th>...</th>\n",
       "      <td>...</td>\n",
       "      <td>...</td>\n",
       "      <td>...</td>\n",
       "    </tr>\n",
       "    <tr>\n",
       "      <th>95</th>\n",
       "      <td>96.      Roja(1992)</td>\n",
       "      <td>8.1</td>\n",
       "      <td>(1992)</td>\n",
       "    </tr>\n",
       "    <tr>\n",
       "      <th>96</th>\n",
       "      <td>97.      Dil Chahta Hai(2001)</td>\n",
       "      <td>8.1</td>\n",
       "      <td>(2001)</td>\n",
       "    </tr>\n",
       "    <tr>\n",
       "      <th>97</th>\n",
       "      <td>98.      Rang De Basanti(2006)</td>\n",
       "      <td>8.1</td>\n",
       "      <td>(2006)</td>\n",
       "    </tr>\n",
       "    <tr>\n",
       "      <th>98</th>\n",
       "      <td>99.      OMG: Oh My God!(2012)</td>\n",
       "      <td>8.1</td>\n",
       "      <td>(2012)</td>\n",
       "    </tr>\n",
       "    <tr>\n",
       "      <th>99</th>\n",
       "      <td>100.      Uri: The Surgical Strike(2019)</td>\n",
       "      <td>8.1</td>\n",
       "      <td>(2019)</td>\n",
       "    </tr>\n",
       "  </tbody>\n",
       "</table>\n",
       "<p>100 rows × 3 columns</p>\n",
       "</div>"
      ],
      "text/plain": [
       "                                             Names Ratings    Year\n",
       "0                       1.      Sardar Udham(2021)     8.6  (2021)\n",
       "1                            2.      Nayakan(1987)     8.5  (1987)\n",
       "2                         3.      Anbe Sivam(2003)     8.5  (2003)\n",
       "3                  4.      Pariyerum Perumal(2018)     8.5  (2018)\n",
       "4                  5.      C/o Kancharapalem(2018)     8.5  (2018)\n",
       "..                                             ...     ...     ...\n",
       "95                             96.      Roja(1992)     8.1  (1992)\n",
       "96                   97.      Dil Chahta Hai(2001)     8.1  (2001)\n",
       "97                  98.      Rang De Basanti(2006)     8.1  (2006)\n",
       "98                  99.      OMG: Oh My God!(2012)     8.1  (2012)\n",
       "99        100.      Uri: The Surgical Strike(2019)     8.1  (2019)\n",
       "\n",
       "[100 rows x 3 columns]"
      ]
     },
     "execution_count": 191,
     "metadata": {},
     "output_type": "execute_result"
    }
   ],
   "source": [
    "df=pd.DataFrame({'Names':movie_names,'Ratings':movie_rating,'Year':movie_year})\n",
    "df"
   ]
  },
  {
   "cell_type": "markdown",
   "id": "13533084",
   "metadata": {},
   "source": [
    "Question 4"
   ]
  },
  {
   "cell_type": "code",
   "execution_count": 192,
   "id": "61be0037",
   "metadata": {},
   "outputs": [],
   "source": [
    "#to obtain indian cricket ratings"
   ]
  },
  {
   "cell_type": "code",
   "execution_count": 193,
   "id": "5ea013d1",
   "metadata": {},
   "outputs": [],
   "source": [
    "page = requests.get('https://www.icc-cricket.com/rankings/mens/team-rankings/odi')"
   ]
  },
  {
   "cell_type": "code",
   "execution_count": 194,
   "id": "b4c138dd",
   "metadata": {},
   "outputs": [
    {
     "data": {
      "text/plain": [
       "<Response [200]>"
      ]
     },
     "execution_count": 194,
     "metadata": {},
     "output_type": "execute_result"
    }
   ],
   "source": [
    "page"
   ]
  },
  {
   "cell_type": "code",
   "execution_count": 195,
   "id": "7e69abb8",
   "metadata": {},
   "outputs": [],
   "source": [
    "soup =BeautifulSoup(page.content)"
   ]
  },
  {
   "cell_type": "code",
   "execution_count": 196,
   "id": "db2d2777",
   "metadata": {},
   "outputs": [],
   "source": [
    "#top 10 ODI teams in mens cricket"
   ]
  },
  {
   "cell_type": "code",
   "execution_count": 36,
   "id": "57b8da94",
   "metadata": {},
   "outputs": [],
   "source": [
    "#top 10 odi_teams"
   ]
  },
  {
   "cell_type": "code",
   "execution_count": 37,
   "id": "3c6bc61f",
   "metadata": {},
   "outputs": [
    {
     "data": {
      "text/plain": [
       "['New Zealand',\n",
       " 'England',\n",
       " 'Australia',\n",
       " 'India',\n",
       " 'South Africa',\n",
       " 'Pakistan',\n",
       " 'Bangladesh',\n",
       " 'West Indies',\n",
       " 'Sri Lanka',\n",
       " 'Afghanistan']"
      ]
     },
     "execution_count": 37,
     "metadata": {},
     "output_type": "execute_result"
    }
   ],
   "source": [
    "team=soup.find_all('span',class_='u-hide-phablet')\n",
    "odi_team= []\n",
    "for i in range(0,10):\n",
    "    odi_team.append(team[i].get_text())\n",
    "odi_team\n"
   ]
  },
  {
   "cell_type": "code",
   "execution_count": 38,
   "id": "a064ab6d",
   "metadata": {},
   "outputs": [],
   "source": [
    "#top 10 odi_matches"
   ]
  },
  {
   "cell_type": "code",
   "execution_count": 39,
   "id": "c6cabdbb",
   "metadata": {},
   "outputs": [
    {
     "data": {
      "text/plain": [
       "[['32'], ['28'], ['32'], ['25'], ['27'], ['30'], ['30'], ['32'], ['17'], ['7']]"
      ]
     },
     "execution_count": 39,
     "metadata": {},
     "output_type": "execute_result"
    }
   ],
   "source": [
    "matches=soup.find_all('td',class_='table-body__cell u-center-text')\n",
    "odi_matches=[]\n",
    "for i in range(0,20,2):\n",
    "    odi_matches.append(matches[i].get_text().split('|'))\n",
    "    \n",
    "odi_matches"
   ]
  },
  {
   "cell_type": "code",
   "execution_count": 40,
   "id": "97d73823",
   "metadata": {},
   "outputs": [],
   "source": [
    "#top 10 odi_teams points"
   ]
  },
  {
   "cell_type": "code",
   "execution_count": 41,
   "id": "ad2caa89",
   "metadata": {
    "scrolled": true
   },
   "outputs": [
    {
     "data": {
      "text/plain": [
       "[['3,793'],\n",
       " ['3,244'],\n",
       " ['3,624'],\n",
       " ['2,459'],\n",
       " ['2,524'],\n",
       " ['2,740'],\n",
       " ['2,523'],\n",
       " ['2,657'],\n",
       " ['1,054'],\n",
       " ['336']]"
      ]
     },
     "execution_count": 41,
     "metadata": {},
     "output_type": "execute_result"
    }
   ],
   "source": [
    "points=soup.find_all('td',class_='table-body__cell u-center-text')\n",
    "odi_points=[]\n",
    "for i in range(1,20,2):\n",
    "    odi_points.append(points[i].get_text().split('|'))\n",
    "odi_points"
   ]
  },
  {
   "cell_type": "code",
   "execution_count": 42,
   "id": "cdf67e72",
   "metadata": {},
   "outputs": [],
   "source": [
    "#top ten odi ratings"
   ]
  },
  {
   "cell_type": "code",
   "execution_count": 43,
   "id": "8180255e",
   "metadata": {},
   "outputs": [
    {
     "data": {
      "text/plain": [
       "['119', '116', '113', '98', '93', '91', '84', '83', '62', '48']"
      ]
     },
     "execution_count": 43,
     "metadata": {},
     "output_type": "execute_result"
    }
   ],
   "source": [
    "rating=soup.find_all('td',class_='table-body__cell u-text-right rating')\n",
    "odi_ratings=[]\n",
    "for i in range(0,10):\n",
    "    odi_ratings.append(rating[i].get_text())\n",
    "    \n",
    "odi_ratings"
   ]
  },
  {
   "cell_type": "code",
   "execution_count": 44,
   "id": "8dbebc21",
   "metadata": {},
   "outputs": [],
   "source": [
    "df=pd.DataFrame({'ODI_teams':odi_team,'ODI_matches':odi_matches,'ODI_points':odi_points,'OdI_ratings':odi_ratings})"
   ]
  },
  {
   "cell_type": "code",
   "execution_count": 45,
   "id": "c6fe87eb",
   "metadata": {},
   "outputs": [
    {
     "data": {
      "text/html": [
       "<div>\n",
       "<style scoped>\n",
       "    .dataframe tbody tr th:only-of-type {\n",
       "        vertical-align: middle;\n",
       "    }\n",
       "\n",
       "    .dataframe tbody tr th {\n",
       "        vertical-align: top;\n",
       "    }\n",
       "\n",
       "    .dataframe thead th {\n",
       "        text-align: right;\n",
       "    }\n",
       "</style>\n",
       "<table border=\"1\" class=\"dataframe\">\n",
       "  <thead>\n",
       "    <tr style=\"text-align: right;\">\n",
       "      <th></th>\n",
       "      <th>ODI_teams</th>\n",
       "      <th>ODI_matches</th>\n",
       "      <th>ODI_points</th>\n",
       "      <th>OdI_ratings</th>\n",
       "    </tr>\n",
       "  </thead>\n",
       "  <tbody>\n",
       "    <tr>\n",
       "      <th>0</th>\n",
       "      <td>New Zealand</td>\n",
       "      <td>[32]</td>\n",
       "      <td>[3,793]</td>\n",
       "      <td>119</td>\n",
       "    </tr>\n",
       "    <tr>\n",
       "      <th>1</th>\n",
       "      <td>England</td>\n",
       "      <td>[28]</td>\n",
       "      <td>[3,244]</td>\n",
       "      <td>116</td>\n",
       "    </tr>\n",
       "    <tr>\n",
       "      <th>2</th>\n",
       "      <td>Australia</td>\n",
       "      <td>[32]</td>\n",
       "      <td>[3,624]</td>\n",
       "      <td>113</td>\n",
       "    </tr>\n",
       "    <tr>\n",
       "      <th>3</th>\n",
       "      <td>India</td>\n",
       "      <td>[25]</td>\n",
       "      <td>[2,459]</td>\n",
       "      <td>98</td>\n",
       "    </tr>\n",
       "    <tr>\n",
       "      <th>4</th>\n",
       "      <td>South Africa</td>\n",
       "      <td>[27]</td>\n",
       "      <td>[2,524]</td>\n",
       "      <td>93</td>\n",
       "    </tr>\n",
       "    <tr>\n",
       "      <th>5</th>\n",
       "      <td>Pakistan</td>\n",
       "      <td>[30]</td>\n",
       "      <td>[2,740]</td>\n",
       "      <td>91</td>\n",
       "    </tr>\n",
       "    <tr>\n",
       "      <th>6</th>\n",
       "      <td>Bangladesh</td>\n",
       "      <td>[30]</td>\n",
       "      <td>[2,523]</td>\n",
       "      <td>84</td>\n",
       "    </tr>\n",
       "    <tr>\n",
       "      <th>7</th>\n",
       "      <td>West Indies</td>\n",
       "      <td>[32]</td>\n",
       "      <td>[2,657]</td>\n",
       "      <td>83</td>\n",
       "    </tr>\n",
       "    <tr>\n",
       "      <th>8</th>\n",
       "      <td>Sri Lanka</td>\n",
       "      <td>[17]</td>\n",
       "      <td>[1,054]</td>\n",
       "      <td>62</td>\n",
       "    </tr>\n",
       "    <tr>\n",
       "      <th>9</th>\n",
       "      <td>Afghanistan</td>\n",
       "      <td>[7]</td>\n",
       "      <td>[336]</td>\n",
       "      <td>48</td>\n",
       "    </tr>\n",
       "  </tbody>\n",
       "</table>\n",
       "</div>"
      ],
      "text/plain": [
       "      ODI_teams ODI_matches ODI_points OdI_ratings\n",
       "0   New Zealand        [32]    [3,793]         119\n",
       "1       England        [28]    [3,244]         116\n",
       "2     Australia        [32]    [3,624]         113\n",
       "3         India        [25]    [2,459]          98\n",
       "4  South Africa        [27]    [2,524]          93\n",
       "5      Pakistan        [30]    [2,740]          91\n",
       "6    Bangladesh        [30]    [2,523]          84\n",
       "7   West Indies        [32]    [2,657]          83\n",
       "8     Sri Lanka        [17]    [1,054]          62\n",
       "9   Afghanistan         [7]      [336]          48"
      ]
     },
     "execution_count": 45,
     "metadata": {},
     "output_type": "execute_result"
    }
   ],
   "source": [
    "df"
   ]
  },
  {
   "cell_type": "code",
   "execution_count": 46,
   "id": "21140f9b",
   "metadata": {},
   "outputs": [],
   "source": [
    "#top 10 ODI batsmen "
   ]
  },
  {
   "cell_type": "code",
   "execution_count": 47,
   "id": "daa3f27c",
   "metadata": {},
   "outputs": [],
   "source": [
    "page = requests.get('https://www.icc-cricket.com/rankings/mens/player-rankings/odi')"
   ]
  },
  {
   "cell_type": "code",
   "execution_count": 48,
   "id": "1b808636",
   "metadata": {},
   "outputs": [
    {
     "data": {
      "text/plain": [
       "<Response [200]>"
      ]
     },
     "execution_count": 48,
     "metadata": {},
     "output_type": "execute_result"
    }
   ],
   "source": [
    "page"
   ]
  },
  {
   "cell_type": "code",
   "execution_count": 49,
   "id": "746693a3",
   "metadata": {},
   "outputs": [],
   "source": [
    "soup =BeautifulSoup(page.content)"
   ]
  },
  {
   "cell_type": "code",
   "execution_count": 50,
   "id": "7ae4fad0",
   "metadata": {},
   "outputs": [
    {
     "data": {
      "text/plain": [
       "['Virat Kohli',\n",
       " 'Rohit Sharma',\n",
       " 'Ross Taylor',\n",
       " 'Aaron Finch',\n",
       " 'Jonny Bairstow',\n",
       " 'David Warner',\n",
       " 'Shai Hope',\n",
       " 'Kane Williamson',\n",
       " 'Quinton de Kock',\n",
       " 'Josh Hazlewood']"
      ]
     },
     "execution_count": 50,
     "metadata": {},
     "output_type": "execute_result"
    }
   ],
   "source": [
    "names=soup.find_all('td',class_='table-body__cell name')\n",
    "batsmen_names=[]\n",
    "for i in range(0,10):\n",
    "    batsmen_names.append(names[i].get_text().replace(\"\\n\",\"\"))\n",
    "    \n",
    "batsmen_names"
   ]
  },
  {
   "cell_type": "code",
   "execution_count": 51,
   "id": "6c8116a6",
   "metadata": {},
   "outputs": [
    {
     "data": {
      "text/plain": [
       "['IND', 'IND', 'NZ', 'AUS', 'ENG', 'AUS', 'WI', 'NZ', 'SA', 'AUS']"
      ]
     },
     "execution_count": 51,
     "metadata": {},
     "output_type": "execute_result"
    }
   ],
   "source": [
    "team=soup.find_all('span',class_='table-body__logo-text')\n",
    "batsmen_team=[]\n",
    "for i in range(0,10):\n",
    "    batsmen_team.append(team[i].get_text())\n",
    "    \n",
    "batsmen_team"
   ]
  },
  {
   "cell_type": "code",
   "execution_count": 52,
   "id": "d87c00b8",
   "metadata": {},
   "outputs": [
    {
     "data": {
      "text/plain": [
       "['844', '813', '801', '779', '775', '762', '758', '754', '747', '709']"
      ]
     },
     "execution_count": 52,
     "metadata": {},
     "output_type": "execute_result"
    }
   ],
   "source": [
    "rating=soup.find_all('td',class_='table-body__cell u-text-right rating')\n",
    "batsmen_rating=[]\n",
    "for i in range(0,10):\n",
    "    batsmen_rating.append(rating[i].get_text())\n",
    "    \n",
    "batsmen_rating"
   ]
  },
  {
   "cell_type": "code",
   "execution_count": 53,
   "id": "2424942f",
   "metadata": {},
   "outputs": [
    {
     "data": {
      "text/html": [
       "<div>\n",
       "<style scoped>\n",
       "    .dataframe tbody tr th:only-of-type {\n",
       "        vertical-align: middle;\n",
       "    }\n",
       "\n",
       "    .dataframe tbody tr th {\n",
       "        vertical-align: top;\n",
       "    }\n",
       "\n",
       "    .dataframe thead th {\n",
       "        text-align: right;\n",
       "    }\n",
       "</style>\n",
       "<table border=\"1\" class=\"dataframe\">\n",
       "  <thead>\n",
       "    <tr style=\"text-align: right;\">\n",
       "      <th></th>\n",
       "      <th>Batsmen_names</th>\n",
       "      <th>Batsmen_team</th>\n",
       "      <th>Batsmen_ratings</th>\n",
       "    </tr>\n",
       "  </thead>\n",
       "  <tbody>\n",
       "    <tr>\n",
       "      <th>0</th>\n",
       "      <td>Virat Kohli</td>\n",
       "      <td>IND</td>\n",
       "      <td>844</td>\n",
       "    </tr>\n",
       "    <tr>\n",
       "      <th>1</th>\n",
       "      <td>Rohit Sharma</td>\n",
       "      <td>IND</td>\n",
       "      <td>813</td>\n",
       "    </tr>\n",
       "    <tr>\n",
       "      <th>2</th>\n",
       "      <td>Ross Taylor</td>\n",
       "      <td>NZ</td>\n",
       "      <td>801</td>\n",
       "    </tr>\n",
       "    <tr>\n",
       "      <th>3</th>\n",
       "      <td>Aaron Finch</td>\n",
       "      <td>AUS</td>\n",
       "      <td>779</td>\n",
       "    </tr>\n",
       "    <tr>\n",
       "      <th>4</th>\n",
       "      <td>Jonny Bairstow</td>\n",
       "      <td>ENG</td>\n",
       "      <td>775</td>\n",
       "    </tr>\n",
       "    <tr>\n",
       "      <th>5</th>\n",
       "      <td>David Warner</td>\n",
       "      <td>AUS</td>\n",
       "      <td>762</td>\n",
       "    </tr>\n",
       "    <tr>\n",
       "      <th>6</th>\n",
       "      <td>Shai Hope</td>\n",
       "      <td>WI</td>\n",
       "      <td>758</td>\n",
       "    </tr>\n",
       "    <tr>\n",
       "      <th>7</th>\n",
       "      <td>Kane Williamson</td>\n",
       "      <td>NZ</td>\n",
       "      <td>754</td>\n",
       "    </tr>\n",
       "    <tr>\n",
       "      <th>8</th>\n",
       "      <td>Quinton de Kock</td>\n",
       "      <td>SA</td>\n",
       "      <td>747</td>\n",
       "    </tr>\n",
       "    <tr>\n",
       "      <th>9</th>\n",
       "      <td>Josh Hazlewood</td>\n",
       "      <td>AUS</td>\n",
       "      <td>709</td>\n",
       "    </tr>\n",
       "  </tbody>\n",
       "</table>\n",
       "</div>"
      ],
      "text/plain": [
       "     Batsmen_names Batsmen_team Batsmen_ratings\n",
       "0      Virat Kohli          IND             844\n",
       "1     Rohit Sharma          IND             813\n",
       "2      Ross Taylor           NZ             801\n",
       "3      Aaron Finch          AUS             779\n",
       "4   Jonny Bairstow          ENG             775\n",
       "5     David Warner          AUS             762\n",
       "6        Shai Hope           WI             758\n",
       "7  Kane Williamson           NZ             754\n",
       "8  Quinton de Kock           SA             747\n",
       "9   Josh Hazlewood          AUS             709"
      ]
     },
     "execution_count": 53,
     "metadata": {},
     "output_type": "execute_result"
    }
   ],
   "source": [
    "df=pd.DataFrame({'Batsmen_names':batsmen_names,'Batsmen_team':batsmen_team,'Batsmen_ratings':batsmen_rating})\n",
    "df"
   ]
  },
  {
   "cell_type": "code",
   "execution_count": 54,
   "id": "19ebbe80",
   "metadata": {},
   "outputs": [],
   "source": [
    "#top 10 ODI bowlers"
   ]
  },
  {
   "cell_type": "code",
   "execution_count": 55,
   "id": "db7d42e3",
   "metadata": {},
   "outputs": [],
   "source": [
    "page = requests.get('https://www.icc-cricket.com/rankings/mens/player-rankings/odi/bowling')"
   ]
  },
  {
   "cell_type": "code",
   "execution_count": 56,
   "id": "e9f1b015",
   "metadata": {},
   "outputs": [
    {
     "data": {
      "text/plain": [
       "<Response [200]>"
      ]
     },
     "execution_count": 56,
     "metadata": {},
     "output_type": "execute_result"
    }
   ],
   "source": [
    "page"
   ]
  },
  {
   "cell_type": "code",
   "execution_count": 57,
   "id": "c87fe70b",
   "metadata": {},
   "outputs": [],
   "source": [
    "soup =BeautifulSoup(page.content)"
   ]
  },
  {
   "cell_type": "code",
   "execution_count": 58,
   "id": "d7c5ec8c",
   "metadata": {},
   "outputs": [
    {
     "data": {
      "text/plain": [
       "['Josh Hazlewood',\n",
       " 'Mujeeb Ur Rahman',\n",
       " 'Chris Woakes',\n",
       " 'Mehedi Hasan',\n",
       " 'Matt Henry',\n",
       " 'Jasprit Bumrah',\n",
       " 'Mitchell Starc',\n",
       " 'Shakib Al Hasan',\n",
       " 'Kagiso Rabada',\n",
       " 'Mustafizur Rahman']"
      ]
     },
     "execution_count": 58,
     "metadata": {},
     "output_type": "execute_result"
    }
   ],
   "source": [
    "names=soup.find_all('td',class_='table-body__cell rankings-table__name name')\n",
    "bowler_names=[]\n",
    "for i in range(0,10):\n",
    "    bowler_names.append(names[i].get_text().replace(\"\\n\",\"\"))\n",
    "\n",
    "bowler_names"
   ]
  },
  {
   "cell_type": "code",
   "execution_count": 59,
   "id": "083fa4a0",
   "metadata": {},
   "outputs": [
    {
     "data": {
      "text/plain": [
       "['AUS', 'AFG', 'ENG', 'BAN', 'NZ', 'IND', 'AUS', 'BAN', 'SA', 'BAN']"
      ]
     },
     "execution_count": 59,
     "metadata": {},
     "output_type": "execute_result"
    }
   ],
   "source": [
    "team=soup.find_all('span',class_='table-body__logo-text')\n",
    "bowler_team=[]\n",
    "for i in range(0,10):\n",
    "    bowler_team.append(team[i].get_text())\n",
    "\n",
    "bowler_team"
   ]
  },
  {
   "cell_type": "code",
   "execution_count": 60,
   "id": "4d69434b",
   "metadata": {},
   "outputs": [
    {
     "data": {
      "text/plain": [
       "['709', '708', '700', '692', '691', '679', '652', '650', '646', '640']"
      ]
     },
     "execution_count": 60,
     "metadata": {},
     "output_type": "execute_result"
    }
   ],
   "source": [
    "rating=soup.find_all('td',class_='table-body__cell rating')\n",
    "bowler_rating=[]\n",
    "for i in range(0,10):\n",
    "                     bowler_rating.append(rating[i].get_text())\n",
    "bowler_rating\n",
    "                     \n"
   ]
  },
  {
   "cell_type": "code",
   "execution_count": 61,
   "id": "b34394dd",
   "metadata": {},
   "outputs": [
    {
     "data": {
      "text/html": [
       "<div>\n",
       "<style scoped>\n",
       "    .dataframe tbody tr th:only-of-type {\n",
       "        vertical-align: middle;\n",
       "    }\n",
       "\n",
       "    .dataframe tbody tr th {\n",
       "        vertical-align: top;\n",
       "    }\n",
       "\n",
       "    .dataframe thead th {\n",
       "        text-align: right;\n",
       "    }\n",
       "</style>\n",
       "<table border=\"1\" class=\"dataframe\">\n",
       "  <thead>\n",
       "    <tr style=\"text-align: right;\">\n",
       "      <th></th>\n",
       "      <th>Bowler_names</th>\n",
       "      <th>Bowler_team</th>\n",
       "      <th>Bowler_ratings</th>\n",
       "    </tr>\n",
       "  </thead>\n",
       "  <tbody>\n",
       "    <tr>\n",
       "      <th>0</th>\n",
       "      <td>Josh Hazlewood</td>\n",
       "      <td>AUS</td>\n",
       "      <td>709</td>\n",
       "    </tr>\n",
       "    <tr>\n",
       "      <th>1</th>\n",
       "      <td>Mujeeb Ur Rahman</td>\n",
       "      <td>AFG</td>\n",
       "      <td>708</td>\n",
       "    </tr>\n",
       "    <tr>\n",
       "      <th>2</th>\n",
       "      <td>Chris Woakes</td>\n",
       "      <td>ENG</td>\n",
       "      <td>700</td>\n",
       "    </tr>\n",
       "    <tr>\n",
       "      <th>3</th>\n",
       "      <td>Mehedi Hasan</td>\n",
       "      <td>BAN</td>\n",
       "      <td>692</td>\n",
       "    </tr>\n",
       "    <tr>\n",
       "      <th>4</th>\n",
       "      <td>Matt Henry</td>\n",
       "      <td>NZ</td>\n",
       "      <td>691</td>\n",
       "    </tr>\n",
       "    <tr>\n",
       "      <th>5</th>\n",
       "      <td>Jasprit Bumrah</td>\n",
       "      <td>IND</td>\n",
       "      <td>679</td>\n",
       "    </tr>\n",
       "    <tr>\n",
       "      <th>6</th>\n",
       "      <td>Mitchell Starc</td>\n",
       "      <td>AUS</td>\n",
       "      <td>652</td>\n",
       "    </tr>\n",
       "    <tr>\n",
       "      <th>7</th>\n",
       "      <td>Shakib Al Hasan</td>\n",
       "      <td>BAN</td>\n",
       "      <td>650</td>\n",
       "    </tr>\n",
       "    <tr>\n",
       "      <th>8</th>\n",
       "      <td>Kagiso Rabada</td>\n",
       "      <td>SA</td>\n",
       "      <td>646</td>\n",
       "    </tr>\n",
       "    <tr>\n",
       "      <th>9</th>\n",
       "      <td>Mustafizur Rahman</td>\n",
       "      <td>BAN</td>\n",
       "      <td>640</td>\n",
       "    </tr>\n",
       "  </tbody>\n",
       "</table>\n",
       "</div>"
      ],
      "text/plain": [
       "        Bowler_names Bowler_team Bowler_ratings\n",
       "0     Josh Hazlewood         AUS            709\n",
       "1   Mujeeb Ur Rahman         AFG            708\n",
       "2       Chris Woakes         ENG            700\n",
       "3       Mehedi Hasan         BAN            692\n",
       "4         Matt Henry          NZ            691\n",
       "5     Jasprit Bumrah         IND            679\n",
       "6     Mitchell Starc         AUS            652\n",
       "7    Shakib Al Hasan         BAN            650\n",
       "8      Kagiso Rabada          SA            646\n",
       "9  Mustafizur Rahman         BAN            640"
      ]
     },
     "execution_count": 61,
     "metadata": {},
     "output_type": "execute_result"
    }
   ],
   "source": [
    "df=pd.DataFrame({'Bowler_names':bowler_names,'Bowler_team':bowler_team,'Bowler_ratings':bowler_rating})\n",
    "df"
   ]
  },
  {
   "cell_type": "markdown",
   "id": "0f25efd8",
   "metadata": {},
   "source": [
    "Question 5"
   ]
  },
  {
   "cell_type": "code",
   "execution_count": 62,
   "id": "9ae53174",
   "metadata": {},
   "outputs": [],
   "source": [
    "#to obtain data from womens indian cricket team"
   ]
  },
  {
   "cell_type": "code",
   "execution_count": 63,
   "id": "4da7970b",
   "metadata": {},
   "outputs": [],
   "source": [
    "#to obtain top 10 teams in womens "
   ]
  },
  {
   "cell_type": "code",
   "execution_count": 64,
   "id": "b1561a5a",
   "metadata": {},
   "outputs": [],
   "source": [
    "page=requests.get('https://www.icc-cricket.com/rankings/womens/team-rankings/odi')"
   ]
  },
  {
   "cell_type": "code",
   "execution_count": 65,
   "id": "a7d6997d",
   "metadata": {},
   "outputs": [
    {
     "data": {
      "text/plain": [
       "<Response [200]>"
      ]
     },
     "execution_count": 65,
     "metadata": {},
     "output_type": "execute_result"
    }
   ],
   "source": [
    "page"
   ]
  },
  {
   "cell_type": "code",
   "execution_count": 66,
   "id": "50e39c84",
   "metadata": {},
   "outputs": [],
   "source": [
    "soup=BeautifulSoup(page.content)"
   ]
  },
  {
   "cell_type": "code",
   "execution_count": 67,
   "id": "6b835e24",
   "metadata": {},
   "outputs": [
    {
     "data": {
      "text/plain": [
       "['Australia',\n",
       " 'England',\n",
       " 'South Africa',\n",
       " 'India',\n",
       " 'New Zealand',\n",
       " 'West Indies',\n",
       " 'Pakistan',\n",
       " 'Bangladesh',\n",
       " 'Sri Lanka']"
      ]
     },
     "execution_count": 67,
     "metadata": {},
     "output_type": "execute_result"
    }
   ],
   "source": [
    "#teams\n",
    "teams=soup.find_all('span',class_='u-hide-phablet')\n",
    "womens_team=[]\n",
    "for i in range(0,9):\n",
    "    womens_team.append(teams[i].get_text())\n",
    "womens_team"
   ]
  },
  {
   "cell_type": "code",
   "execution_count": 68,
   "id": "d71e0e5b",
   "metadata": {},
   "outputs": [
    {
     "data": {
      "text/plain": [
       "['25', '29', '26', '26', '22', '20', '5', '11', '2']"
      ]
     },
     "execution_count": 68,
     "metadata": {},
     "output_type": "execute_result"
    }
   ],
   "source": [
    "#matches\n",
    "matches=soup.find_all('td',class_='table-body__cell u-center-text')\n",
    "womens_team_matches=[]\n",
    "for i in range(0,18,2):\n",
    "    womens_team_matches.append(matches[i].get_text())\n",
    "\n",
    "womens_team_matches"
   ]
  },
  {
   "cell_type": "code",
   "execution_count": 69,
   "id": "096e65ef",
   "metadata": {},
   "outputs": [
    {
     "data": {
      "text/plain": [
       "['2,983', '3,390', '2,934', '2,392', '1,872', '1,496', '306', '519', '25']"
      ]
     },
     "execution_count": 69,
     "metadata": {},
     "output_type": "execute_result"
    }
   ],
   "source": [
    "#points\n",
    "points=soup.find_all('td',class_='table-body__cell u-center-text')\n",
    "womens_team_points=[]\n",
    "for i in range(1,18,2):\n",
    "    womens_team_points.append(points[i].get_text())\n",
    "    \n",
    "womens_team_points"
   ]
  },
  {
   "cell_type": "code",
   "execution_count": 70,
   "id": "713072b7",
   "metadata": {},
   "outputs": [
    {
     "data": {
      "text/plain": [
       "['119', '117', '113', '92', '85', '75', '61', '47', '13']"
      ]
     },
     "execution_count": 70,
     "metadata": {},
     "output_type": "execute_result"
    }
   ],
   "source": [
    "#ratings\n",
    "rating=soup.find_all('td',class_='table-body__cell u-text-right rating')\n",
    "team_rating=[]\n",
    "for i in range(0,9):\n",
    "    team_rating.append(rating[i].get_text())\n",
    "\n",
    "team_rating\n",
    "    \n",
    "            "
   ]
  },
  {
   "cell_type": "code",
   "execution_count": 71,
   "id": "a6841d97",
   "metadata": {},
   "outputs": [
    {
     "name": "stdout",
     "output_type": "stream",
     "text": [
      "9 9 9 9\n"
     ]
    }
   ],
   "source": [
    "print(len(womens_team),len(womens_team_matches),len(womens_team_points),len(team_rating))"
   ]
  },
  {
   "cell_type": "code",
   "execution_count": 72,
   "id": "a488c454",
   "metadata": {},
   "outputs": [
    {
     "data": {
      "text/html": [
       "<div>\n",
       "<style scoped>\n",
       "    .dataframe tbody tr th:only-of-type {\n",
       "        vertical-align: middle;\n",
       "    }\n",
       "\n",
       "    .dataframe tbody tr th {\n",
       "        vertical-align: top;\n",
       "    }\n",
       "\n",
       "    .dataframe thead th {\n",
       "        text-align: right;\n",
       "    }\n",
       "</style>\n",
       "<table border=\"1\" class=\"dataframe\">\n",
       "  <thead>\n",
       "    <tr style=\"text-align: right;\">\n",
       "      <th></th>\n",
       "      <th>Team</th>\n",
       "      <th>Matches</th>\n",
       "      <th>Points</th>\n",
       "      <th>Ratings</th>\n",
       "    </tr>\n",
       "  </thead>\n",
       "  <tbody>\n",
       "    <tr>\n",
       "      <th>0</th>\n",
       "      <td>Australia</td>\n",
       "      <td>25</td>\n",
       "      <td>2,983</td>\n",
       "      <td>119</td>\n",
       "    </tr>\n",
       "    <tr>\n",
       "      <th>1</th>\n",
       "      <td>England</td>\n",
       "      <td>29</td>\n",
       "      <td>3,390</td>\n",
       "      <td>117</td>\n",
       "    </tr>\n",
       "    <tr>\n",
       "      <th>2</th>\n",
       "      <td>South Africa</td>\n",
       "      <td>26</td>\n",
       "      <td>2,934</td>\n",
       "      <td>113</td>\n",
       "    </tr>\n",
       "    <tr>\n",
       "      <th>3</th>\n",
       "      <td>India</td>\n",
       "      <td>26</td>\n",
       "      <td>2,392</td>\n",
       "      <td>92</td>\n",
       "    </tr>\n",
       "    <tr>\n",
       "      <th>4</th>\n",
       "      <td>New Zealand</td>\n",
       "      <td>22</td>\n",
       "      <td>1,872</td>\n",
       "      <td>85</td>\n",
       "    </tr>\n",
       "    <tr>\n",
       "      <th>5</th>\n",
       "      <td>West Indies</td>\n",
       "      <td>20</td>\n",
       "      <td>1,496</td>\n",
       "      <td>75</td>\n",
       "    </tr>\n",
       "    <tr>\n",
       "      <th>6</th>\n",
       "      <td>Pakistan</td>\n",
       "      <td>5</td>\n",
       "      <td>306</td>\n",
       "      <td>61</td>\n",
       "    </tr>\n",
       "    <tr>\n",
       "      <th>7</th>\n",
       "      <td>Bangladesh</td>\n",
       "      <td>11</td>\n",
       "      <td>519</td>\n",
       "      <td>47</td>\n",
       "    </tr>\n",
       "    <tr>\n",
       "      <th>8</th>\n",
       "      <td>Sri Lanka</td>\n",
       "      <td>2</td>\n",
       "      <td>25</td>\n",
       "      <td>13</td>\n",
       "    </tr>\n",
       "  </tbody>\n",
       "</table>\n",
       "</div>"
      ],
      "text/plain": [
       "           Team Matches Points Ratings\n",
       "0     Australia      25  2,983     119\n",
       "1       England      29  3,390     117\n",
       "2  South Africa      26  2,934     113\n",
       "3         India      26  2,392      92\n",
       "4   New Zealand      22  1,872      85\n",
       "5   West Indies      20  1,496      75\n",
       "6      Pakistan       5    306      61\n",
       "7    Bangladesh      11    519      47\n",
       "8     Sri Lanka       2     25      13"
      ]
     },
     "execution_count": 72,
     "metadata": {},
     "output_type": "execute_result"
    }
   ],
   "source": [
    "df=pd.DataFrame({'Team':womens_team,'Matches':womens_team_matches,'Points':womens_team_points,'Ratings':team_rating})\n",
    "df"
   ]
  },
  {
   "cell_type": "markdown",
   "id": "661f6da0",
   "metadata": {},
   "source": [
    "was not able to scrap data for ten teams as data for one of the team was missing hence done it for nine teams"
   ]
  },
  {
   "cell_type": "code",
   "execution_count": 73,
   "id": "48fe89a2",
   "metadata": {},
   "outputs": [],
   "source": [
    "#top 10 odi players in womens cricket team"
   ]
  },
  {
   "cell_type": "code",
   "execution_count": 74,
   "id": "bfb97fd0",
   "metadata": {},
   "outputs": [],
   "source": [
    "page = requests.get('https://www.icc-cricket.com/rankings/womens/player-rankings/odi/batting')\n",
    "    "
   ]
  },
  {
   "cell_type": "code",
   "execution_count": 75,
   "id": "33787b20",
   "metadata": {},
   "outputs": [
    {
     "data": {
      "text/plain": [
       "<Response [200]>"
      ]
     },
     "execution_count": 75,
     "metadata": {},
     "output_type": "execute_result"
    }
   ],
   "source": [
    "page"
   ]
  },
  {
   "cell_type": "code",
   "execution_count": 76,
   "id": "40cf099f",
   "metadata": {},
   "outputs": [],
   "source": [
    "soup =BeautifulSoup(page.content)"
   ]
  },
  {
   "cell_type": "code",
   "execution_count": 77,
   "id": "6ad00fad",
   "metadata": {},
   "outputs": [
    {
     "data": {
      "text/plain": [
       "['Alyssa Healy',\n",
       " 'Mithali Raj',\n",
       " 'Tammy Beaumont',\n",
       " 'Amy Satterthwaite',\n",
       " 'Smriti Mandhana',\n",
       " 'Meg Lanning',\n",
       " 'Beth Mooney',\n",
       " 'Heather Knight',\n",
       " 'Laura Wolvaardt',\n",
       " 'Rachael Haynes']"
      ]
     },
     "execution_count": 77,
     "metadata": {},
     "output_type": "execute_result"
    }
   ],
   "source": [
    "names=soup.find_all('td',class_='table-body__cell rankings-table__name name')\n",
    "womens_names=[]\n",
    "for i in range(0,10):\n",
    "    womens_names.append(names[i].get_text().replace(\"\\n\",\"\"))\n",
    "                       \n",
    "womens_names"
   ]
  },
  {
   "cell_type": "code",
   "execution_count": 78,
   "id": "9c6b2c85",
   "metadata": {},
   "outputs": [
    {
     "data": {
      "text/plain": [
       "['AUS', 'IND', 'ENG', 'NZ', 'IND', 'AUS', 'AUS', 'ENG', 'SA', 'AUS']"
      ]
     },
     "execution_count": 78,
     "metadata": {},
     "output_type": "execute_result"
    }
   ],
   "source": [
    "team=soup.find_all('span',class_='table-body__logo-text')\n",
    "womens_team=[]\n",
    "for i in range(0,10):\n",
    "    womens_team.append(team[i].get_text())\n",
    "\n",
    "womens_team"
   ]
  },
  {
   "cell_type": "code",
   "execution_count": 79,
   "id": "ef5fb45f",
   "metadata": {},
   "outputs": [
    {
     "data": {
      "text/plain": [
       "['750', '738', '728', '717', '710', '699', '690', '674', '672', '668']"
      ]
     },
     "execution_count": 79,
     "metadata": {},
     "output_type": "execute_result"
    }
   ],
   "source": [
    "rating=soup.find_all('td',class_='table-body__cell rating')\n",
    "womens_team_rating=[]\n",
    "for i in range(0,10):\n",
    "    womens_team_rating.append(rating[i].get_text())\n",
    "\n",
    "womens_team_rating\n",
    " "
   ]
  },
  {
   "cell_type": "code",
   "execution_count": 80,
   "id": "c7a46616",
   "metadata": {},
   "outputs": [
    {
     "data": {
      "text/html": [
       "<div>\n",
       "<style scoped>\n",
       "    .dataframe tbody tr th:only-of-type {\n",
       "        vertical-align: middle;\n",
       "    }\n",
       "\n",
       "    .dataframe tbody tr th {\n",
       "        vertical-align: top;\n",
       "    }\n",
       "\n",
       "    .dataframe thead th {\n",
       "        text-align: right;\n",
       "    }\n",
       "</style>\n",
       "<table border=\"1\" class=\"dataframe\">\n",
       "  <thead>\n",
       "    <tr style=\"text-align: right;\">\n",
       "      <th></th>\n",
       "      <th>Names</th>\n",
       "      <th>Team</th>\n",
       "      <th>Rating</th>\n",
       "    </tr>\n",
       "  </thead>\n",
       "  <tbody>\n",
       "    <tr>\n",
       "      <th>0</th>\n",
       "      <td>Alyssa Healy</td>\n",
       "      <td>AUS</td>\n",
       "      <td>750</td>\n",
       "    </tr>\n",
       "    <tr>\n",
       "      <th>1</th>\n",
       "      <td>Mithali Raj</td>\n",
       "      <td>IND</td>\n",
       "      <td>738</td>\n",
       "    </tr>\n",
       "    <tr>\n",
       "      <th>2</th>\n",
       "      <td>Tammy Beaumont</td>\n",
       "      <td>ENG</td>\n",
       "      <td>728</td>\n",
       "    </tr>\n",
       "    <tr>\n",
       "      <th>3</th>\n",
       "      <td>Amy Satterthwaite</td>\n",
       "      <td>NZ</td>\n",
       "      <td>717</td>\n",
       "    </tr>\n",
       "    <tr>\n",
       "      <th>4</th>\n",
       "      <td>Smriti Mandhana</td>\n",
       "      <td>IND</td>\n",
       "      <td>710</td>\n",
       "    </tr>\n",
       "    <tr>\n",
       "      <th>5</th>\n",
       "      <td>Meg Lanning</td>\n",
       "      <td>AUS</td>\n",
       "      <td>699</td>\n",
       "    </tr>\n",
       "    <tr>\n",
       "      <th>6</th>\n",
       "      <td>Beth Mooney</td>\n",
       "      <td>AUS</td>\n",
       "      <td>690</td>\n",
       "    </tr>\n",
       "    <tr>\n",
       "      <th>7</th>\n",
       "      <td>Heather Knight</td>\n",
       "      <td>ENG</td>\n",
       "      <td>674</td>\n",
       "    </tr>\n",
       "    <tr>\n",
       "      <th>8</th>\n",
       "      <td>Laura Wolvaardt</td>\n",
       "      <td>SA</td>\n",
       "      <td>672</td>\n",
       "    </tr>\n",
       "    <tr>\n",
       "      <th>9</th>\n",
       "      <td>Rachael Haynes</td>\n",
       "      <td>AUS</td>\n",
       "      <td>668</td>\n",
       "    </tr>\n",
       "  </tbody>\n",
       "</table>\n",
       "</div>"
      ],
      "text/plain": [
       "               Names Team Rating\n",
       "0       Alyssa Healy  AUS    750\n",
       "1        Mithali Raj  IND    738\n",
       "2     Tammy Beaumont  ENG    728\n",
       "3  Amy Satterthwaite   NZ    717\n",
       "4    Smriti Mandhana  IND    710\n",
       "5        Meg Lanning  AUS    699\n",
       "6        Beth Mooney  AUS    690\n",
       "7     Heather Knight  ENG    674\n",
       "8    Laura Wolvaardt   SA    672\n",
       "9     Rachael Haynes  AUS    668"
      ]
     },
     "execution_count": 80,
     "metadata": {},
     "output_type": "execute_result"
    }
   ],
   "source": [
    "df=pd.DataFrame({'Names':womens_names,'Team':womens_team,'Rating':womens_team_rating})\n",
    "df"
   ]
  },
  {
   "cell_type": "code",
   "execution_count": 81,
   "id": "4718be6a",
   "metadata": {},
   "outputs": [],
   "source": [
    "#to obtain top 10 women odi all rounders"
   ]
  },
  {
   "cell_type": "code",
   "execution_count": 82,
   "id": "8c49daa4",
   "metadata": {},
   "outputs": [],
   "source": [
    "page=requests.get('https://www.icc-cricket.com/rankings/womens/player-rankings/odi/all-rounder')"
   ]
  },
  {
   "cell_type": "code",
   "execution_count": 83,
   "id": "9d622301",
   "metadata": {},
   "outputs": [
    {
     "data": {
      "text/plain": [
       "<Response [200]>"
      ]
     },
     "execution_count": 83,
     "metadata": {},
     "output_type": "execute_result"
    }
   ],
   "source": [
    "page"
   ]
  },
  {
   "cell_type": "code",
   "execution_count": 84,
   "id": "3da5df32",
   "metadata": {},
   "outputs": [],
   "source": [
    "soup=BeautifulSoup(page.content)"
   ]
  },
  {
   "cell_type": "code",
   "execution_count": 85,
   "id": "5ddb2193",
   "metadata": {},
   "outputs": [
    {
     "data": {
      "text/plain": [
       "['Natalie Sciver',\n",
       " 'Ellyse Perry',\n",
       " 'Stafanie Taylor',\n",
       " 'Deepti Sharma',\n",
       " 'Ashleigh Gardner',\n",
       " 'Dane van Niekerk',\n",
       " 'Jess Jonassen',\n",
       " 'Katherine Brunt',\n",
       " 'Jhulan Goswami',\n",
       " 'Sophie Devine']"
      ]
     },
     "execution_count": 85,
     "metadata": {},
     "output_type": "execute_result"
    }
   ],
   "source": [
    "names=soup.find_all('td',class_='table-body__cell rankings-table__name name')\n",
    "women_odi_runner_names=[]\n",
    "for i in range(0,10):\n",
    "    women_odi_runner_names.append(names[i].get_text().replace(\"\\n\",\"\"))\n",
    "\n",
    "\n",
    "women_odi_runner_names   "
   ]
  },
  {
   "cell_type": "code",
   "execution_count": 86,
   "id": "4b8dad7a",
   "metadata": {},
   "outputs": [
    {
     "data": {
      "text/plain": [
       "['ENG', 'AUS', 'WI', 'IND', 'AUS', 'SA', 'AUS', 'ENG', 'IND', 'NZ']"
      ]
     },
     "execution_count": 86,
     "metadata": {},
     "output_type": "execute_result"
    }
   ],
   "source": [
    "team=soup.find_all('span',class_='table-body__logo-text')\n",
    "women_odi_runner_team=[]\n",
    "for i in range(0,10):\n",
    "    women_odi_runner_team.append(team[i].get_text())\n",
    "    \n",
    "women_odi_runner_team"
   ]
  },
  {
   "cell_type": "code",
   "execution_count": 87,
   "id": "5a772f3a",
   "metadata": {},
   "outputs": [
    {
     "data": {
      "text/plain": [
       "['372', '365', '322', '299', '275', '274', '272', '272', '251', '248']"
      ]
     },
     "execution_count": 87,
     "metadata": {},
     "output_type": "execute_result"
    }
   ],
   "source": [
    "rating=soup.find_all('td',class_='table-body__cell rating')\n",
    "women_odi_runner_rating=[]\n",
    "for i in range(0,10):\n",
    "    women_odi_runner_rating.append(rating[i].get_text())\n",
    "    \n",
    "\n",
    "women_odi_runner_rating"
   ]
  },
  {
   "cell_type": "code",
   "execution_count": 88,
   "id": "68e044df",
   "metadata": {},
   "outputs": [
    {
     "data": {
      "text/html": [
       "<div>\n",
       "<style scoped>\n",
       "    .dataframe tbody tr th:only-of-type {\n",
       "        vertical-align: middle;\n",
       "    }\n",
       "\n",
       "    .dataframe tbody tr th {\n",
       "        vertical-align: top;\n",
       "    }\n",
       "\n",
       "    .dataframe thead th {\n",
       "        text-align: right;\n",
       "    }\n",
       "</style>\n",
       "<table border=\"1\" class=\"dataframe\">\n",
       "  <thead>\n",
       "    <tr style=\"text-align: right;\">\n",
       "      <th></th>\n",
       "      <th>Names</th>\n",
       "      <th>Team</th>\n",
       "      <th>Rating</th>\n",
       "    </tr>\n",
       "  </thead>\n",
       "  <tbody>\n",
       "    <tr>\n",
       "      <th>0</th>\n",
       "      <td>Natalie Sciver</td>\n",
       "      <td>ENG</td>\n",
       "      <td>372</td>\n",
       "    </tr>\n",
       "    <tr>\n",
       "      <th>1</th>\n",
       "      <td>Ellyse Perry</td>\n",
       "      <td>AUS</td>\n",
       "      <td>365</td>\n",
       "    </tr>\n",
       "    <tr>\n",
       "      <th>2</th>\n",
       "      <td>Stafanie Taylor</td>\n",
       "      <td>WI</td>\n",
       "      <td>322</td>\n",
       "    </tr>\n",
       "    <tr>\n",
       "      <th>3</th>\n",
       "      <td>Deepti Sharma</td>\n",
       "      <td>IND</td>\n",
       "      <td>299</td>\n",
       "    </tr>\n",
       "    <tr>\n",
       "      <th>4</th>\n",
       "      <td>Ashleigh Gardner</td>\n",
       "      <td>AUS</td>\n",
       "      <td>275</td>\n",
       "    </tr>\n",
       "    <tr>\n",
       "      <th>5</th>\n",
       "      <td>Dane van Niekerk</td>\n",
       "      <td>SA</td>\n",
       "      <td>274</td>\n",
       "    </tr>\n",
       "    <tr>\n",
       "      <th>6</th>\n",
       "      <td>Jess Jonassen</td>\n",
       "      <td>AUS</td>\n",
       "      <td>272</td>\n",
       "    </tr>\n",
       "    <tr>\n",
       "      <th>7</th>\n",
       "      <td>Katherine Brunt</td>\n",
       "      <td>ENG</td>\n",
       "      <td>272</td>\n",
       "    </tr>\n",
       "    <tr>\n",
       "      <th>8</th>\n",
       "      <td>Jhulan Goswami</td>\n",
       "      <td>IND</td>\n",
       "      <td>251</td>\n",
       "    </tr>\n",
       "    <tr>\n",
       "      <th>9</th>\n",
       "      <td>Sophie Devine</td>\n",
       "      <td>NZ</td>\n",
       "      <td>248</td>\n",
       "    </tr>\n",
       "  </tbody>\n",
       "</table>\n",
       "</div>"
      ],
      "text/plain": [
       "              Names Team Rating\n",
       "0    Natalie Sciver  ENG    372\n",
       "1      Ellyse Perry  AUS    365\n",
       "2   Stafanie Taylor   WI    322\n",
       "3     Deepti Sharma  IND    299\n",
       "4  Ashleigh Gardner  AUS    275\n",
       "5  Dane van Niekerk   SA    274\n",
       "6     Jess Jonassen  AUS    272\n",
       "7   Katherine Brunt  ENG    272\n",
       "8    Jhulan Goswami  IND    251\n",
       "9     Sophie Devine   NZ    248"
      ]
     },
     "execution_count": 88,
     "metadata": {},
     "output_type": "execute_result"
    }
   ],
   "source": [
    "df=pd.DataFrame({'Names':women_odi_runner_names,'Team':women_odi_runner_team,'Rating':women_odi_runner_rating})\n",
    "df"
   ]
  },
  {
   "cell_type": "markdown",
   "id": "dcb447fe",
   "metadata": {},
   "source": [
    "Question 6"
   ]
  },
  {
   "cell_type": "code",
   "execution_count": 89,
   "id": "25a28480",
   "metadata": {},
   "outputs": [],
   "source": [
    "#to scrap mobiles under 20,000 from amazon.in"
   ]
  },
  {
   "cell_type": "code",
   "execution_count": 90,
   "id": "25f4cbab",
   "metadata": {},
   "outputs": [],
   "source": [
    "page = requests.get('https://www.amazon.in/s?k=mobile+phonesunder+20000&ref=nb_sb_noss_2')"
   ]
  },
  {
   "cell_type": "code",
   "execution_count": 91,
   "id": "4a1e0178",
   "metadata": {},
   "outputs": [
    {
     "data": {
      "text/plain": [
       "<Response [503]>"
      ]
     },
     "execution_count": 91,
     "metadata": {},
     "output_type": "execute_result"
    }
   ],
   "source": [
    "page"
   ]
  },
  {
   "cell_type": "markdown",
   "id": "d2ad3bb1",
   "metadata": {},
   "source": [
    "not able to scrap data from amazon since response is 503"
   ]
  },
  {
   "cell_type": "markdown",
   "id": "eb07ce21",
   "metadata": {},
   "source": [
    "Question 7"
   ]
  },
  {
   "cell_type": "code",
   "execution_count": 209,
   "id": "bc988d1c",
   "metadata": {},
   "outputs": [],
   "source": [
    "#to scrap data from no broker.com"
   ]
  },
  {
   "cell_type": "code",
   "execution_count": 210,
   "id": "89ab8179",
   "metadata": {},
   "outputs": [],
   "source": [
    "page=requests.get('https://www.nobroker.in/property/sale/bangalore/Electronic%20City?type=BHK4&searchParam=W3sibGF0IjoxMi44NDUyMTQ1LCJsb24iOjc3LjY2MDE2OTUsInBsYWNlSWQiOiJDaElKdy1GUWQ0cHNyanNSSGZkYXpnXzhYRW8iLCJwbGFjZU5hbWUiOiJFbGVjdHJvbmljIENpdHk')"
   ]
  },
  {
   "cell_type": "code",
   "execution_count": 211,
   "id": "bc444317",
   "metadata": {},
   "outputs": [
    {
     "data": {
      "text/plain": [
       "<Response [200]>"
      ]
     },
     "execution_count": 211,
     "metadata": {},
     "output_type": "execute_result"
    }
   ],
   "source": [
    "page"
   ]
  },
  {
   "cell_type": "code",
   "execution_count": 212,
   "id": "65b26bd5",
   "metadata": {},
   "outputs": [],
   "source": [
    "soup=BeautifulSoup(page.content)"
   ]
  },
  {
   "cell_type": "code",
   "execution_count": 213,
   "id": "1edbe606",
   "metadata": {},
   "outputs": [],
   "source": [
    "#House title"
   ]
  },
  {
   "cell_type": "code",
   "execution_count": 214,
   "id": "f2ec79c2",
   "metadata": {},
   "outputs": [
    {
     "data": {
      "text/plain": [
       "[]"
      ]
     },
     "execution_count": 214,
     "metadata": {},
     "output_type": "execute_result"
    }
   ],
   "source": [
    "title=[]\n",
    "for i in soup.find_all('h2',class_='heading-6 font-semi-bold nb__1AShY'):\n",
    "    title.append(i.text)\n",
    "title\n"
   ]
  },
  {
   "cell_type": "code",
   "execution_count": 215,
   "id": "ee16ba06",
   "metadata": {},
   "outputs": [
    {
     "data": {
      "text/plain": [
       "[]"
      ]
     },
     "execution_count": 215,
     "metadata": {},
     "output_type": "execute_result"
    }
   ],
   "source": [
    "#location area\n",
    "location_area=[]\n",
    "for i in soup.find_all('div',class_='nb__35Ol7'):\n",
    "    location_area.append(i.text)\n",
    "    \n",
    "location_area\n",
    "    \n",
    "\n",
    "    "
   ]
  },
  {
   "cell_type": "code",
   "execution_count": 99,
   "id": "a0e0b21a",
   "metadata": {},
   "outputs": [
    {
     "data": {
      "text/plain": [
       "[]"
      ]
     },
     "execution_count": 99,
     "metadata": {},
     "output_type": "execute_result"
    }
   ],
   "source": [
    "#emi\n",
    "emi=[]\n",
    "for i in soup.find_all('div',class_='heading-6 nb__2tto'):\n",
    "    emi.append(i.text)\n",
    "    \n",
    "emi\n",
    "    "
   ]
  },
  {
   "cell_type": "code",
   "execution_count": 100,
   "id": "95c32297",
   "metadata": {},
   "outputs": [],
   "source": [
    "#price"
   ]
  },
  {
   "cell_type": "markdown",
   "id": "2debf7cf",
   "metadata": {},
   "source": [
    "Question 8"
   ]
  },
  {
   "cell_type": "code",
   "execution_count": 272,
   "id": "30a3d349",
   "metadata": {},
   "outputs": [],
   "source": [
    "#to scrap data from dineout.com"
   ]
  },
  {
   "cell_type": "code",
   "execution_count": 273,
   "id": "815e07e3",
   "metadata": {},
   "outputs": [],
   "source": [
    "page=requests.get('https://www.dineout.co.in/delhi-restaurants/buffet-special')"
   ]
  },
  {
   "cell_type": "code",
   "execution_count": 274,
   "id": "53b86b42",
   "metadata": {},
   "outputs": [
    {
     "data": {
      "text/plain": [
       "<Response [200]>"
      ]
     },
     "execution_count": 274,
     "metadata": {},
     "output_type": "execute_result"
    }
   ],
   "source": [
    "page"
   ]
  },
  {
   "cell_type": "code",
   "execution_count": 275,
   "id": "a4067125",
   "metadata": {},
   "outputs": [],
   "source": [
    "soup=BeautifulSoup(page.content)"
   ]
  },
  {
   "cell_type": "code",
   "execution_count": 276,
   "id": "e738b819",
   "metadata": {},
   "outputs": [],
   "source": [
    "#restraunt name"
   ]
  },
  {
   "cell_type": "code",
   "execution_count": 277,
   "id": "fa1b6ac3",
   "metadata": {},
   "outputs": [
    {
     "data": {
      "text/plain": [
       "<div class=\"restnt-info cursor\" data-gatype=\"RestaurantNameClick\"><a analytics-action=\"RestaurantCardClick\" analytics-label=\"86792_Castle Barbeque\" class=\"restnt-name ellipsis\" data-w-onclick=\"sendAnalyticsCommon|w1-restarant\" href=\"/delhi/castle-barbeque-connaught-place-central-delhi-86792\">Castle Barbeque</a><div class=\"restnt-loc ellipsis\" data-w-onclick=\"stopClickPropagation|w1-restarant\"><a data-name=\"Connaught Place\" data-type=\"LocalityClick\" href=\"/delhi-restaurants/central-delhi/connaught-place\">Connaught Place</a>, <a data-name=\"Central Delhi\" data-type=\"AreaClick\" href=\"/delhi-restaurants/central-delhi\">Central Delhi</a></div></div>"
      ]
     },
     "execution_count": 277,
     "metadata": {},
     "output_type": "execute_result"
    }
   ],
   "source": [
    "restraunt_name=soup.find('div',class_='restnt-info cursor')\n",
    "restraunt_name"
   ]
  },
  {
   "cell_type": "code",
   "execution_count": 278,
   "id": "8b3065de",
   "metadata": {},
   "outputs": [
    {
     "data": {
      "text/plain": [
       "'Castle BarbequeConnaught Place, Central Delhi'"
      ]
     },
     "execution_count": 278,
     "metadata": {},
     "output_type": "execute_result"
    }
   ],
   "source": [
    "restraunt_name.text"
   ]
  },
  {
   "cell_type": "code",
   "execution_count": 279,
   "id": "8d30f21e",
   "metadata": {},
   "outputs": [],
   "source": [
    "#cusine"
   ]
  },
  {
   "cell_type": "code",
   "execution_count": 280,
   "id": "67a9c96c",
   "metadata": {},
   "outputs": [
    {
     "data": {
      "text/plain": [
       "<span class=\"double-line-ellipsis\"><span>₹ 2,000 for 2 (approx)</span><span> | </span><a data-w-onclick=\"stopClickPropagation|w1-restarant\" href=\"/delhi-restaurants/chinese-cuisine\">Chinese</a><span>, </span><a data-w-onclick=\"stopClickPropagation|w1-restarant\" href=\"/delhi-restaurants/north-indian-cuisine\">North Indian</a></span>"
      ]
     },
     "execution_count": 280,
     "metadata": {},
     "output_type": "execute_result"
    }
   ],
   "source": [
    "cusine=soup.find('span',class_='double-line-ellipsis')\n",
    "cusine"
   ]
  },
  {
   "cell_type": "code",
   "execution_count": 281,
   "id": "960929f6",
   "metadata": {},
   "outputs": [
    {
     "data": {
      "text/plain": [
       "' Chinese, North Indian'"
      ]
     },
     "execution_count": 281,
     "metadata": {},
     "output_type": "execute_result"
    }
   ],
   "source": [
    "cusine.text.split('|')[1]"
   ]
  },
  {
   "cell_type": "code",
   "execution_count": 282,
   "id": "c67d657b",
   "metadata": {},
   "outputs": [],
   "source": [
    "#location"
   ]
  },
  {
   "cell_type": "code",
   "execution_count": 283,
   "id": "26b2b5e4",
   "metadata": {},
   "outputs": [
    {
     "data": {
      "text/plain": [
       "<div class=\"restnt-loc ellipsis\" data-w-onclick=\"stopClickPropagation|w1-restarant\"><a data-name=\"Connaught Place\" data-type=\"LocalityClick\" href=\"/delhi-restaurants/central-delhi/connaught-place\">Connaught Place</a>, <a data-name=\"Central Delhi\" data-type=\"AreaClick\" href=\"/delhi-restaurants/central-delhi\">Central Delhi</a></div>"
      ]
     },
     "execution_count": 283,
     "metadata": {},
     "output_type": "execute_result"
    }
   ],
   "source": [
    "location=soup.find('div',class_='restnt-loc ellipsis')\n",
    "location"
   ]
  },
  {
   "cell_type": "code",
   "execution_count": 284,
   "id": "86cd59c9",
   "metadata": {},
   "outputs": [
    {
     "data": {
      "text/plain": [
       "'Connaught Place, Central Delhi'"
      ]
     },
     "execution_count": 284,
     "metadata": {},
     "output_type": "execute_result"
    }
   ],
   "source": [
    "location.text"
   ]
  },
  {
   "cell_type": "code",
   "execution_count": 285,
   "id": "3da01018",
   "metadata": {},
   "outputs": [],
   "source": [
    "#ratings"
   ]
  },
  {
   "cell_type": "code",
   "execution_count": 286,
   "id": "27149c2f",
   "metadata": {},
   "outputs": [
    {
     "data": {
      "text/plain": [
       "<div class=\"restnt-rating rating-4\">3.9</div>"
      ]
     },
     "execution_count": 286,
     "metadata": {},
     "output_type": "execute_result"
    }
   ],
   "source": [
    "ratings=soup.find('div',class_='restnt-rating rating-4')\n",
    "ratings"
   ]
  },
  {
   "cell_type": "code",
   "execution_count": 287,
   "id": "3804d28d",
   "metadata": {},
   "outputs": [
    {
     "data": {
      "text/plain": [
       "'3.9'"
      ]
     },
     "execution_count": 287,
     "metadata": {},
     "output_type": "execute_result"
    }
   ],
   "source": [
    "ratings.text"
   ]
  },
  {
   "cell_type": "code",
   "execution_count": 288,
   "id": "632b937c",
   "metadata": {},
   "outputs": [],
   "source": [
    "#image url"
   ]
  },
  {
   "cell_type": "code",
   "execution_count": 290,
   "id": "1358d4d6",
   "metadata": {},
   "outputs": [
    {
     "data": {
      "text/plain": [
       "['https://im1.dineout.co.in/images/uploads/restaurant/sharpen/8/k/b/p86792-16062953735fbe1f4d3fb7e.jpg?tr=tr:n-medium',\n",
       " 'https://im1.dineout.co.in/images/uploads/restaurant/sharpen/5/a/k/p59633-16046474755fa4fa33c0e92.jpg?tr=tr:n-medium',\n",
       " 'https://im1.dineout.co.in/images/uploads/restaurant/sharpen/3/j/o/p38113-15959192065f1fcb666130c.jpg?tr=tr:n-medium',\n",
       " 'https://im1.dineout.co.in/images/uploads/restaurant/sharpen/7/q/d/p79307-16051787075fad15532bd7c.jpg?tr=tr:n-medium',\n",
       " 'https://im1.dineout.co.in/images/uploads/restaurant/sharpen/4/j/v/p406-163401663361651d79326d0.jpg?tr=tr:n-medium',\n",
       " 'https://im1.dineout.co.in/images/uploads/restaurant/sharpen/2/v/t/p2687-1482477169585cce712b90f.jpg?tr=tr:n-medium',\n",
       " 'https://im1.dineout.co.in/images/uploads/restaurant/sharpen/5/v/f/p52501-16006856545f68865616659.jpg?tr=tr:n-medium',\n",
       " 'https://im1.dineout.co.in/images/uploads/restaurant/sharpen/3/n/o/p34822-15599107305cfa594a13c24.jpg?tr=tr:n-medium',\n",
       " 'https://im1.dineout.co.in/images/uploads/restaurant/sharpen/1/p/y/p12366-1466935020576fa6ecdc359.jpg?tr=tr:n-medium',\n",
       " 'https://im1.dineout.co.in/images/uploads/restaurant/sharpen/5/y/y/p549-15143767525a438e30b3e19.jpg?tr=tr:n-medium',\n",
       " 'https://im1.dineout.co.in/images/uploads/restaurant/sharpen/4/j/e/p43488-15295778165b2b8158ceeef.jpg?tr=tr:n-medium',\n",
       " 'https://im1.dineout.co.in/images/uploads/restaurant/sharpen/5/w/r/p58842-15624171585d209806d9143.jpg?tr=tr:n-medium',\n",
       " 'https://im1.dineout.co.in/images/uploads/restaurant/sharpen/9/m/f/p9875-16057921085fb6716cc44f8.jpg?tr=tr:n-medium']"
      ]
     },
     "execution_count": 290,
     "metadata": {},
     "output_type": "execute_result"
    }
   ],
   "source": [
    "images=[]\n",
    "for i in soup.find_all('img',class_='no-img'):\n",
    "    images.append(i['data-src'])\n",
    "images"
   ]
  },
  {
   "cell_type": "markdown",
   "id": "b70e698c",
   "metadata": {},
   "source": [
    "Question 9"
   ]
  },
  {
   "cell_type": "code",
   "execution_count": 134,
   "id": "b90a5653",
   "metadata": {},
   "outputs": [],
   "source": [
    "#to scrap data regarding the weather"
   ]
  },
  {
   "cell_type": "code",
   "execution_count": 145,
   "id": "219cdd95",
   "metadata": {},
   "outputs": [],
   "source": [
    "page =requests.get('https://en.tutiempo.net/delhi.html?data=last-24-hours')"
   ]
  },
  {
   "cell_type": "code",
   "execution_count": 146,
   "id": "5fa1c974",
   "metadata": {},
   "outputs": [
    {
     "data": {
      "text/plain": [
       "<Response [200]>"
      ]
     },
     "execution_count": 146,
     "metadata": {},
     "output_type": "execute_result"
    }
   ],
   "source": [
    "page"
   ]
  },
  {
   "cell_type": "code",
   "execution_count": 147,
   "id": "e2e0f603",
   "metadata": {},
   "outputs": [],
   "source": [
    "soup=BeautifulSoup(page.content)"
   ]
  },
  {
   "cell_type": "code",
   "execution_count": 148,
   "id": "79e842b0",
   "metadata": {},
   "outputs": [],
   "source": [
    "#hour"
   ]
  },
  {
   "cell_type": "code",
   "execution_count": 149,
   "id": "ce455a02",
   "metadata": {},
   "outputs": [
    {
     "ename": "TypeError",
     "evalue": "list indices must be integers or slices, not tuple",
     "output_type": "error",
     "traceback": [
      "\u001b[0;31m---------------------------------------------------------------------------\u001b[0m",
      "\u001b[0;31mTypeError\u001b[0m                                 Traceback (most recent call last)",
      "\u001b[0;32m<ipython-input-149-395051c9d2b2>\u001b[0m in \u001b[0;36m<module>\u001b[0;34m\u001b[0m\n\u001b[1;32m      1\u001b[0m \u001b[0mhour\u001b[0m\u001b[0;34m=\u001b[0m\u001b[0;34m[\u001b[0m\u001b[0;34m]\u001b[0m\u001b[0;34m\u001b[0m\u001b[0;34m\u001b[0m\u001b[0m\n\u001b[0;32m----> 2\u001b[0;31m \u001b[0;32mfor\u001b[0m \u001b[0mi\u001b[0m \u001b[0;32min\u001b[0m \u001b[0msoup\u001b[0m\u001b[0;34m.\u001b[0m\u001b[0mfind_all\u001b[0m\u001b[0;34m(\u001b[0m\u001b[0;34m'td'\u001b[0m\u001b[0;34m,\u001b[0m\u001b[0mclass_\u001b[0m\u001b[0;34m=\u001b[0m\u001b[0;34m't Temp'\u001b[0m\u001b[0;34m)\u001b[0m\u001b[0;34m[\u001b[0m\u001b[0;36m0\u001b[0m\u001b[0;34m,\u001b[0m\u001b[0;36m24\u001b[0m\u001b[0;34m]\u001b[0m\u001b[0;34m:\u001b[0m\u001b[0;34m\u001b[0m\u001b[0;34m\u001b[0m\u001b[0m\n\u001b[0m\u001b[1;32m      3\u001b[0m     \u001b[0;32mif\u001b[0m \u001b[0mi\u001b[0m\u001b[0;34m.\u001b[0m\u001b[0mprevious_sibling\u001b[0m\u001b[0;34m.\u001b[0m\u001b[0mprevious_sibling\u001b[0m \u001b[0;32mis\u001b[0m \u001b[0;32mnot\u001b[0m \u001b[0;32mNone\u001b[0m\u001b[0;34m:\u001b[0m\u001b[0;34m\u001b[0m\u001b[0;34m\u001b[0m\u001b[0m\n\u001b[1;32m      4\u001b[0m         \u001b[0mhour\u001b[0m\u001b[0;34m.\u001b[0m\u001b[0mappend\u001b[0m\u001b[0;34m(\u001b[0m\u001b[0mi\u001b[0m\u001b[0;34m.\u001b[0m\u001b[0mprevious_sibling\u001b[0m\u001b[0;34m.\u001b[0m\u001b[0mprevious_sibling\u001b[0m\u001b[0;34m.\u001b[0m\u001b[0mtext\u001b[0m\u001b[0;34m)\u001b[0m\u001b[0;34m\u001b[0m\u001b[0;34m\u001b[0m\u001b[0m\n\u001b[1;32m      5\u001b[0m     \u001b[0;32melse\u001b[0m\u001b[0;34m:\u001b[0m\u001b[0;34m\u001b[0m\u001b[0;34m\u001b[0m\u001b[0m\n",
      "\u001b[0;31mTypeError\u001b[0m: list indices must be integers or slices, not tuple"
     ]
    }
   ],
   "source": [
    "hour=[]\n",
    "for i in soup.find_all('td',class_='t Temp')[0,24]:\n",
    "    if i.previous_sibling.previous_sibling is not None:\n",
    "        hour.append(i.previous_sibling.previous_sibling.text)\n",
    "    else:\n",
    "        hour.append(' ')\n"
   ]
  },
  {
   "cell_type": "code",
   "execution_count": 126,
   "id": "a65466bb",
   "metadata": {},
   "outputs": [],
   "source": [
    "#temperature"
   ]
  },
  {
   "cell_type": "code",
   "execution_count": 151,
   "id": "3993820b",
   "metadata": {},
   "outputs": [
    {
     "data": {
      "text/plain": [
       "['27°C',\n",
       " '28°C',\n",
       " '28°C',\n",
       " '28°C',\n",
       " '28°C',\n",
       " '28°C',\n",
       " '27°C',\n",
       " '27°C',\n",
       " '26°C',\n",
       " '25°C',\n",
       " '23°C',\n",
       " '23°C',\n",
       " '22°C',\n",
       " '22°C',\n",
       " '21°C',\n",
       " '20°C',\n",
       " '19°C',\n",
       " '19°C',\n",
       " '19°C',\n",
       " '19°C',\n",
       " '19°C',\n",
       " '19°C',\n",
       " '19°C',\n",
       " '19°C',\n",
       " '19°C',\n",
       " '19°C',\n",
       " '19°C',\n",
       " '19°C',\n",
       " '19°C',\n",
       " '19°C',\n",
       " '19°C',\n",
       " '20°C',\n",
       " '20°C',\n",
       " '20°C',\n",
       " '21°C',\n",
       " '21°C',\n",
       " '21°C',\n",
       " '22°C',\n",
       " '23°C',\n",
       " '23°C',\n",
       " '24°C',\n",
       " '25°C',\n",
       " '26°C',\n",
       " '26°C',\n",
       " '26°C',\n",
       " '27°C',\n",
       " '27°C',\n",
       " '27°C']"
      ]
     },
     "execution_count": 151,
     "metadata": {},
     "output_type": "execute_result"
    }
   ],
   "source": [
    "temperature=[]\n",
    "for i in soup.find_all('td',class_='t Temp'):\n",
    "    temperature.append(i.text)\n",
    "temperature"
   ]
  },
  {
   "cell_type": "code",
   "execution_count": 152,
   "id": "ee524c5e",
   "metadata": {},
   "outputs": [
    {
     "name": "stdout",
     "output_type": "stream",
     "text": [
      "48\n"
     ]
    }
   ],
   "source": [
    "print(len(temperature))"
   ]
  },
  {
   "cell_type": "code",
   "execution_count": 153,
   "id": "56a464c7",
   "metadata": {},
   "outputs": [],
   "source": [
    "#wind"
   ]
  },
  {
   "cell_type": "code",
   "execution_count": 129,
   "id": "5df6c2e3",
   "metadata": {},
   "outputs": [
    {
     "data": {
      "text/plain": [
       "['Calm',\n",
       " '6 km/h',\n",
       " '6 km/h',\n",
       " '6 km/h',\n",
       " '7 km/h',\n",
       " '11 km/h',\n",
       " '13 km/h',\n",
       " '13 km/h',\n",
       " '15 km/h',\n",
       " '15 km/h',\n",
       " '15 km/h',\n",
       " '15 km/h',\n",
       " '17 km/h',\n",
       " '15 km/h',\n",
       " '17 km/h',\n",
       " '13 km/h',\n",
       " '11 km/h',\n",
       " '11 km/h',\n",
       " '9 km/h',\n",
       " '7 km/h',\n",
       " '7 km/h',\n",
       " '7 km/h',\n",
       " '7 km/h',\n",
       " '6 km/h',\n",
       " '6 km/h',\n",
       " 'Calm',\n",
       " 'Calm',\n",
       " 'Calm',\n",
       " 'Calm',\n",
       " 'Calm',\n",
       " 'Calm',\n",
       " 'Calm',\n",
       " 'Calm',\n",
       " 'Calm',\n",
       " 'Calm',\n",
       " 'Calm',\n",
       " 'Calm',\n",
       " 'Calm',\n",
       " '6 km/h',\n",
       " 'Calm',\n",
       " '9 km/h',\n",
       " 'Calm',\n",
       " 'Calm',\n",
       " 'Calm',\n",
       " 'Calm',\n",
       " 'Calm',\n",
       " 'Calm',\n",
       " 'Calm',\n",
       " 'Calm',\n",
       " 'Calm']"
      ]
     },
     "execution_count": 129,
     "metadata": {},
     "output_type": "execute_result"
    }
   ],
   "source": [
    "wind=[]\n",
    "for i in soup.find_all('td',class_='wind'):\n",
    "    wind.append(i.text)\n",
    "wind"
   ]
  },
  {
   "cell_type": "code",
   "execution_count": 130,
   "id": "cb7ebfd6",
   "metadata": {},
   "outputs": [],
   "source": [
    "#weather condition"
   ]
  },
  {
   "cell_type": "code",
   "execution_count": 131,
   "id": "2a0c33fd",
   "metadata": {},
   "outputs": [
    {
     "data": {
      "text/plain": [
       "[]"
      ]
     },
     "execution_count": 131,
     "metadata": {},
     "output_type": "execute_result"
    }
   ],
   "source": [
    "weather_condition=[]\n",
    "for i in soup.find_all('span',class_='thhip ico i0530 u3022'):\n",
    "    weather_condition.append(i.text)\n",
    "weather_condition"
   ]
  },
  {
   "cell_type": "code",
   "execution_count": 132,
   "id": "79dc8c0d",
   "metadata": {},
   "outputs": [],
   "source": [
    "#humidity"
   ]
  },
  {
   "cell_type": "code",
   "execution_count": 133,
   "id": "6abe34cf",
   "metadata": {},
   "outputs": [
    {
     "data": {
      "text/plain": [
       "['54%',\n",
       " '48%',\n",
       " '45%',\n",
       " '42%',\n",
       " '37%',\n",
       " '37%',\n",
       " '37%',\n",
       " '37%',\n",
       " '35%',\n",
       " '37%',\n",
       " '40%',\n",
       " '48%',\n",
       " '48%',\n",
       " '48%',\n",
       " '51%',\n",
       " '51%',\n",
       " '50%',\n",
       " '50%',\n",
       " '53%',\n",
       " '57%',\n",
       " '64%',\n",
       " '68%',\n",
       " '78%',\n",
       " '77%',\n",
       " '88%',\n",
       " '88%',\n",
       " '83%',\n",
       " '83%',\n",
       " '83%',\n",
       " '88%',\n",
       " '83%',\n",
       " '83%',\n",
       " '83%',\n",
       " '78%',\n",
       " '78%',\n",
       " '78%',\n",
       " '78%',\n",
       " '73%',\n",
       " '73%',\n",
       " '69%',\n",
       " '73%',\n",
       " '69%',\n",
       " '64%',\n",
       " '64%',\n",
       " '61%',\n",
       " '57%',\n",
       " '54%',\n",
       " '57%',\n",
       " '61%',\n",
       " '61%']"
      ]
     },
     "execution_count": 133,
     "metadata": {},
     "output_type": "execute_result"
    }
   ],
   "source": [
    "humidity=[]\n",
    "for i in soup.find_all('td',class_='hr'):\n",
    "    humidity.append(i.text)\n",
    "humidity"
   ]
  },
  {
   "cell_type": "code",
   "execution_count": 134,
   "id": "397c95ef",
   "metadata": {},
   "outputs": [],
   "source": [
    "#pressure"
   ]
  },
  {
   "cell_type": "code",
   "execution_count": 135,
   "id": "93557fb0",
   "metadata": {},
   "outputs": [
    {
     "data": {
      "text/plain": [
       "['1015 hPa',\n",
       " '1015 hPa',\n",
       " '1015 hPa',\n",
       " '1015 hPa',\n",
       " '1015 hPa',\n",
       " '1015 hPa',\n",
       " '1015 hPa',\n",
       " '1015 hPa',\n",
       " '1015 hPa',\n",
       " '1015 hPa',\n",
       " '1015 hPa',\n",
       " '1016 hPa',\n",
       " '1016 hPa',\n",
       " '1017 hPa',\n",
       " '1018 hPa',\n",
       " '1018 hPa',\n",
       " '1019 hPa',\n",
       " '1019 hPa',\n",
       " '1020 hPa',\n",
       " '1020 hPa',\n",
       " '1020 hPa',\n",
       " '1019 hPa',\n",
       " '1019 hPa',\n",
       " '1019 hPa',\n",
       " '1018 hPa',\n",
       " '1018 hPa',\n",
       " '1018 hPa',\n",
       " '1018 hPa',\n",
       " '1017 hPa',\n",
       " '1017 hPa',\n",
       " '1017 hPa',\n",
       " '1017 hPa',\n",
       " '1017 hPa',\n",
       " '1017 hPa',\n",
       " '1017 hPa',\n",
       " '1017 hPa',\n",
       " '1017 hPa',\n",
       " '1018 hPa',\n",
       " '1018 hPa',\n",
       " '1018 hPa',\n",
       " '1018 hPa',\n",
       " '1018 hPa',\n",
       " '1018 hPa',\n",
       " '1018 hPa',\n",
       " '1018 hPa',\n",
       " '1018 hPa',\n",
       " '1018 hPa',\n",
       " '1018 hPa',\n",
       " '1017 hPa',\n",
       " '1017 hPa']"
      ]
     },
     "execution_count": 135,
     "metadata": {},
     "output_type": "execute_result"
    }
   ],
   "source": [
    "pressure=[]\n",
    "for i in soup.find_all('td',class_='prob'):\n",
    "    pressure.append(i.text)\n",
    "pressure"
   ]
  },
  {
   "cell_type": "markdown",
   "id": "a94c1537",
   "metadata": {},
   "source": [
    "Question 10"
   ]
  },
  {
   "cell_type": "code",
   "execution_count": 115,
   "id": "a880138e",
   "metadata": {},
   "outputs": [],
   "source": [
    "#to scrap data regarding monuments"
   ]
  },
  {
   "cell_type": "code",
   "execution_count": 116,
   "id": "344d95b4",
   "metadata": {},
   "outputs": [],
   "source": [
    "page=requests.get('https://www.puredestinations.co.uk/top-10-famous-monuments-to-visit-in-india/')"
   ]
  },
  {
   "cell_type": "code",
   "execution_count": 117,
   "id": "dcb93060",
   "metadata": {},
   "outputs": [
    {
     "data": {
      "text/plain": [
       "<Response [200]>"
      ]
     },
     "execution_count": 117,
     "metadata": {},
     "output_type": "execute_result"
    }
   ],
   "source": [
    "page"
   ]
  },
  {
   "cell_type": "code",
   "execution_count": 118,
   "id": "8aa1af8c",
   "metadata": {},
   "outputs": [],
   "source": [
    "soup=BeautifulSoup(page.content)"
   ]
  },
  {
   "cell_type": "code",
   "execution_count": 119,
   "id": "362b9425",
   "metadata": {},
   "outputs": [],
   "source": [
    "#monument name"
   ]
  },
  {
   "cell_type": "code",
   "execution_count": 120,
   "id": "1928b272",
   "metadata": {},
   "outputs": [],
   "source": [
    "monument_name=[]\n",
    "data=soup.find_all('div',class_='blog--single__content column--3-4 u-spacing-third')\n",
    "temp=[]\n",
    "for i in data:\n",
    "    for j in i.find_all('p'):\n",
    "        t=j.text.replace('\\n','')\n",
    "        temp.append(t)\n",
    "    \n",
    "    "
   ]
  },
  {
   "cell_type": "code",
   "execution_count": 121,
   "id": "f9a6a295",
   "metadata": {},
   "outputs": [],
   "source": [
    "name=[]\n",
    "desc=[]\n",
    "for i in range( 1,30,3):\n",
    "    name.append(temp[i])\n",
    "for i in range(2,30,3):\n",
    "    desc.append(temp[i])"
   ]
  },
  {
   "cell_type": "code",
   "execution_count": 122,
   "id": "08cf6439",
   "metadata": {},
   "outputs": [
    {
     "data": {
      "text/plain": [
       "['Taj Mahal, Agra',\n",
       " 'Golden Temple (Harmandir Sahib), Amritsar ',\n",
       " 'Meenakshi Temple, Madurai',\n",
       " 'Mysore Palace, Mysore',\n",
       " 'Gateway of India, Mumbai',\n",
       " 'Red Fort, New Delhi',\n",
       " 'Hawa Mahal, Jaipur',\n",
       " 'Qutub Minar, New Delhi',\n",
       " 'Sanchi Stupa, Sanchi',\n",
       " 'Charminar, Hyderabad']"
      ]
     },
     "execution_count": 122,
     "metadata": {},
     "output_type": "execute_result"
    }
   ],
   "source": [
    "name"
   ]
  },
  {
   "cell_type": "code",
   "execution_count": 123,
   "id": "a3b6959f",
   "metadata": {},
   "outputs": [
    {
     "data": {
      "text/plain": [
       "['Enlisted in the Seven Wonders of the World, The Taj Mahal is one of the most beautiful and famous buildings located in the city of Agra. This white marble monument was built by a Mughal Emperor called Shahajahan in memory of his beloved wife. Due to its amazing architecture and the history behind it, this world heritage site has become very popular to visit by all travellers and romantics from all over the world.',\n",
       " 'The holiest shrine and pilgrimage place located in Amritsar is The Golden Temple known as the Harmandir Sahib. This is the most famous and sacred Sikh Gurdwara in Punjab, India, adorned with rich history and gold gilded exterior. If you are interested in culture and history, be sure to visit this popular attraction in India.',\n",
       " 'Meenakshi Temple is situated on the Southern banks of Vaigai River in the temple city Madurai. This temple is dedicated to Parvati and her consort, Shiva and is visited by most Hindu and Tamil devotees and architectural lovers throughout the world. It is believed that this shrine houses 33,000 sculptures in its 14 gopurams. It’s no doubt one place to visit if you are impressed with art and cultural history.',\n",
       " 'The Mysore Palace is a famous historical monument in the city of Mysore in Karnataka. Commonly described as the City of Palaces, this is the most famous tourist attraction in India after the Taj Mahal. It is a sight not be missed with its spacious halls, lovely art paintings and Indo-Saracenic style architecture. Best time to visit is at night due to the astonishing illuminated lights covering the whole monument.',\n",
       " 'Even though Mumbai is famous for its Bollywood actors and movies, the most famous attraction in Mumbai is The Gateway of India. It is a popular gathering spot for locals, travellers, street vendors and photographers and is known as the Taj Mahal of Mumbai. The majestic monument was built to commemorate the visit of King George V and Queen Mary to Bombay. With so much fun and excitement this place is not to be missed with family or on your tour of India.',\n",
       " 'Declared as the UNESCO’s World Heritage Site, Red Fort is located in the centre of beautiful Delhi. If you love learning about history and culture then this famous historic monument is a must see place to visit. Built by the Mughal Emperor, Shah Jahan in 1648, and housing a number of museums, its walls are built of red sandstone. The best time to visit is on Independence Day where the Prime Minister of India hoists the national flag at the Red Fort. End the day by heading to an Indian restaurant and enjoy the varieties of wonderful cuisines.',\n",
       " 'Explore a blend of beauty and Rajasthan culture, the Hawa Mahal also known as Palace of Winds is situated in the capital of Rajasthan, Jaipur. Built from red and pink sandstones by the Maharaja Sawi Pratap Singh in 1799, this unique five storey structure is one of the most prominent tourist attractions in the Jaipur city.',\n",
       " 'Discover one of the tallest towers in the world and the second tallest Minar of India standing elegantly in the Capital city, New Delhi. Standing at 72.5 metres and consisting of around 379 stairs, this famous monument represents the rich architecture of India. As it is a UNESCO World Heritage Site made of red sandstone and decorated with Arabic and Brahmi inscriptions, travellers from around the world come to view this most famous tower in India.',\n",
       " 'The beautiful and massive dome, Sanchi Stupa also known as the Great Stupa is a world renowned Buddhist monument in Sanchi, India. It was constructed by Emperor Ashoka, and is one of the oldest stone structures in the heart of India. Experience the Indian culture by visiting these major attractions in Sanchi including a number of Buddhist Stupas, monasteries and temples.',\n",
       " 'No visit to Hyderabad should be complete without visiting the most famous and majestic monument known as the Charminar. This magnificent and striking mosque constructed in 1591 has four minarets and is the most recognisable symbol in the city of Hyderabad.']"
      ]
     },
     "execution_count": 123,
     "metadata": {},
     "output_type": "execute_result"
    }
   ],
   "source": [
    "desc"
   ]
  },
  {
   "cell_type": "code",
   "execution_count": 144,
   "id": "c0752226",
   "metadata": {},
   "outputs": [],
   "source": [
    "#image url"
   ]
  },
  {
   "cell_type": "code",
   "execution_count": 131,
   "id": "617d32a9",
   "metadata": {},
   "outputs": [
    {
     "name": "stdout",
     "output_type": "stream",
     "text": [
      "https://www.facebook.com/tr?id=120737145081077&ev=PageView\n",
      "&noscript=1\n",
      "data:image/gif;base64,R0lGODlhAQABAAAAACH5BAEKAAEALAAAAAABAAEAAAICTAEAOw==\n",
      "https://www.puredestinations.co.uk/wp-content/themes/puredestinations/images/logo/puredestinations.png\n",
      "data:image/gif;base64,R0lGODlhAQABAAAAACH5BAEKAAEALAAAAAABAAEAAAICTAEAOw==\n",
      "https://www.puredestinations.co.uk/wp-content/uploads/2016/11/INDIA-BLOG-HEADER-1600x500.jpg\n",
      "data:image/gif;base64,R0lGODlhAQABAAAAACH5BAEKAAEALAAAAAABAAEAAAICTAEAOw==\n",
      "http://www.puredestinations.co.uk/wp-content/uploads/2016/11/TAJ-MAHAL-PD-BLOG.jpg\n",
      "data:image/gif;base64,R0lGODlhAQABAAAAACH5BAEKAAEALAAAAAABAAEAAAICTAEAOw==\n",
      "http://www.puredestinations.co.uk/wp-content/uploads/2016/11/Golden-Temple-PD-BLOG.jpg\n",
      "data:image/gif;base64,R0lGODlhAQABAAAAACH5BAEKAAEALAAAAAABAAEAAAICTAEAOw==\n",
      "http://www.puredestinations.co.uk/wp-content/uploads/2016/11/meenakshi-temple-PD-BLOG.jpg\n",
      "data:image/gif;base64,R0lGODlhAQABAAAAACH5BAEKAAEALAAAAAABAAEAAAICTAEAOw==\n",
      "http://www.puredestinations.co.uk/wp-content/uploads/2016/11/Mysore-palace-PD-BLOG.jpg\n",
      "data:image/gif;base64,R0lGODlhAQABAAAAACH5BAEKAAEALAAAAAABAAEAAAICTAEAOw==\n",
      "http://www.puredestinations.co.uk/wp-content/uploads/2016/11/gateway-to-india-PD-BLOG.jpg\n",
      "data:image/gif;base64,R0lGODlhAQABAAAAACH5BAEKAAEALAAAAAABAAEAAAICTAEAOw==\n",
      "http://www.puredestinations.co.uk/wp-content/uploads/2016/11/red-fort-PD-BLOG.jpg\n",
      "data:image/gif;base64,R0lGODlhAQABAAAAACH5BAEKAAEALAAAAAABAAEAAAICTAEAOw==\n",
      "http://www.puredestinations.co.uk/wp-content/uploads/2016/11/HAWA-MAHAL-PD-BLOG.jpg\n",
      "data:image/gif;base64,R0lGODlhAQABAAAAACH5BAEKAAEALAAAAAABAAEAAAICTAEAOw==\n",
      "http://www.puredestinations.co.uk/wp-content/uploads/2016/11/qutub-minar-PD-BLOG.jpg\n",
      "data:image/gif;base64,R0lGODlhAQABAAAAACH5BAEKAAEALAAAAAABAAEAAAICTAEAOw==\n",
      "http://www.puredestinations.co.uk/wp-content/uploads/2016/11/Sanchi-Stupi-PD-BLOG.jpg\n",
      "data:image/gif;base64,R0lGODlhAQABAAAAACH5BAEKAAEALAAAAAABAAEAAAICTAEAOw==\n",
      "http://www.puredestinations.co.uk/wp-content/uploads/2016/11/Charminar-PD-BLOG-1.jpg\n",
      "data:image/gif;base64,R0lGODlhAQABAAAAACH5BAEKAAEALAAAAAABAAEAAAICTAEAOw==\n",
      "https://www.puredestinations.co.uk/wp-content/themes/puredestinations/images/accreditations/abta.png\n",
      "data:image/gif;base64,R0lGODlhAQABAAAAACH5BAEKAAEALAAAAAABAAEAAAICTAEAOw==\n",
      "https://www.puredestinations.co.uk/wp-content/themes/puredestinations/images/accreditations/protected.png\n",
      "https://www.facebook.com/tr?id=106387616371570&ev=PageView&noscript=1\n"
     ]
    }
   ],
   "source": [
    "images=soup.find_all('img')\n",
    "\n",
    "for i in images:\n",
    "    print(i['src'])"
   ]
  },
  {
   "cell_type": "code",
   "execution_count": 133,
   "id": "046e8a66",
   "metadata": {},
   "outputs": [
    {
     "data": {
      "text/html": [
       "<div>\n",
       "<style scoped>\n",
       "    .dataframe tbody tr th:only-of-type {\n",
       "        vertical-align: middle;\n",
       "    }\n",
       "\n",
       "    .dataframe tbody tr th {\n",
       "        vertical-align: top;\n",
       "    }\n",
       "\n",
       "    .dataframe thead th {\n",
       "        text-align: right;\n",
       "    }\n",
       "</style>\n",
       "<table border=\"1\" class=\"dataframe\">\n",
       "  <thead>\n",
       "    <tr style=\"text-align: right;\">\n",
       "      <th></th>\n",
       "      <th>Names</th>\n",
       "      <th>Description</th>\n",
       "    </tr>\n",
       "  </thead>\n",
       "  <tbody>\n",
       "    <tr>\n",
       "      <th>0</th>\n",
       "      <td>Taj Mahal, Agra</td>\n",
       "      <td>Enlisted in the Seven Wonders of the World, Th...</td>\n",
       "    </tr>\n",
       "    <tr>\n",
       "      <th>1</th>\n",
       "      <td>Golden Temple (Harmandir Sahib), Amritsar</td>\n",
       "      <td>The holiest shrine and pilgrimage place locate...</td>\n",
       "    </tr>\n",
       "    <tr>\n",
       "      <th>2</th>\n",
       "      <td>Meenakshi Temple, Madurai</td>\n",
       "      <td>Meenakshi Temple is situated on the Southern b...</td>\n",
       "    </tr>\n",
       "    <tr>\n",
       "      <th>3</th>\n",
       "      <td>Mysore Palace, Mysore</td>\n",
       "      <td>The Mysore Palace is a famous historical monum...</td>\n",
       "    </tr>\n",
       "    <tr>\n",
       "      <th>4</th>\n",
       "      <td>Gateway of India, Mumbai</td>\n",
       "      <td>Even though Mumbai is famous for its Bollywood...</td>\n",
       "    </tr>\n",
       "    <tr>\n",
       "      <th>5</th>\n",
       "      <td>Red Fort, New Delhi</td>\n",
       "      <td>Declared as the UNESCO’s World Heritage Site, ...</td>\n",
       "    </tr>\n",
       "    <tr>\n",
       "      <th>6</th>\n",
       "      <td>Hawa Mahal, Jaipur</td>\n",
       "      <td>Explore a blend of beauty and Rajasthan cultur...</td>\n",
       "    </tr>\n",
       "    <tr>\n",
       "      <th>7</th>\n",
       "      <td>Qutub Minar, New Delhi</td>\n",
       "      <td>Discover one of the tallest towers in the worl...</td>\n",
       "    </tr>\n",
       "    <tr>\n",
       "      <th>8</th>\n",
       "      <td>Sanchi Stupa, Sanchi</td>\n",
       "      <td>The beautiful and massive dome, Sanchi Stupa a...</td>\n",
       "    </tr>\n",
       "    <tr>\n",
       "      <th>9</th>\n",
       "      <td>Charminar, Hyderabad</td>\n",
       "      <td>No visit to Hyderabad should be complete witho...</td>\n",
       "    </tr>\n",
       "  </tbody>\n",
       "</table>\n",
       "</div>"
      ],
      "text/plain": [
       "                                        Names  \\\n",
       "0                             Taj Mahal, Agra   \n",
       "1  Golden Temple (Harmandir Sahib), Amritsar    \n",
       "2                   Meenakshi Temple, Madurai   \n",
       "3                       Mysore Palace, Mysore   \n",
       "4                    Gateway of India, Mumbai   \n",
       "5                         Red Fort, New Delhi   \n",
       "6                          Hawa Mahal, Jaipur   \n",
       "7                      Qutub Minar, New Delhi   \n",
       "8                        Sanchi Stupa, Sanchi   \n",
       "9                        Charminar, Hyderabad   \n",
       "\n",
       "                                         Description  \n",
       "0  Enlisted in the Seven Wonders of the World, Th...  \n",
       "1  The holiest shrine and pilgrimage place locate...  \n",
       "2  Meenakshi Temple is situated on the Southern b...  \n",
       "3  The Mysore Palace is a famous historical monum...  \n",
       "4  Even though Mumbai is famous for its Bollywood...  \n",
       "5  Declared as the UNESCO’s World Heritage Site, ...  \n",
       "6  Explore a blend of beauty and Rajasthan cultur...  \n",
       "7  Discover one of the tallest towers in the worl...  \n",
       "8  The beautiful and massive dome, Sanchi Stupa a...  \n",
       "9  No visit to Hyderabad should be complete witho...  "
      ]
     },
     "execution_count": 133,
     "metadata": {},
     "output_type": "execute_result"
    }
   ],
   "source": [
    "df=pd.DataFrame({'Names':name,'Description':desc})\n",
    "df"
   ]
  },
  {
   "cell_type": "code",
   "execution_count": null,
   "id": "c5e646a5",
   "metadata": {},
   "outputs": [],
   "source": []
  },
  {
   "cell_type": "code",
   "execution_count": null,
   "id": "6e3f622a",
   "metadata": {},
   "outputs": [],
   "source": []
  }
 ],
 "metadata": {
  "kernelspec": {
   "display_name": "Python 3",
   "language": "python",
   "name": "python3"
  },
  "language_info": {
   "codemirror_mode": {
    "name": "ipython",
    "version": 3
   },
   "file_extension": ".py",
   "mimetype": "text/x-python",
   "name": "python",
   "nbconvert_exporter": "python",
   "pygments_lexer": "ipython3",
   "version": "3.8.8"
  }
 },
 "nbformat": 4,
 "nbformat_minor": 5
}
