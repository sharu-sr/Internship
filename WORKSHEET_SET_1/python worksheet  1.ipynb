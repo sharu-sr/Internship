{
 "cells": [
  {
   "cell_type": "code",
   "execution_count": 1,
   "id": "30dc668f",
   "metadata": {},
   "outputs": [],
   "source": [
    "#to find the factorial of a number"
   ]
  },
  {
   "cell_type": "code",
   "execution_count": 8,
   "id": "1b469449",
   "metadata": {},
   "outputs": [],
   "source": [
    "def fact(n):\n",
    "    return 1 if(n==1) else n*fact(n-1);\n",
    "\n",
    "num=5\n",
    "\n"
   ]
  },
  {
   "cell_type": "code",
   "execution_count": 9,
   "id": "c48331ae",
   "metadata": {},
   "outputs": [
    {
     "name": "stdout",
     "output_type": "stream",
     "text": [
      "factorial of the num is\n"
     ]
    }
   ],
   "source": [
    "print('factorial of the num is')"
   ]
  },
  {
   "cell_type": "code",
   "execution_count": 11,
   "id": "3305a544",
   "metadata": {},
   "outputs": [
    {
     "data": {
      "text/plain": [
       "120"
      ]
     },
     "execution_count": 11,
     "metadata": {},
     "output_type": "execute_result"
    }
   ],
   "source": [
    "fact(num)"
   ]
  },
  {
   "cell_type": "code",
   "execution_count": 12,
   "id": "dbde0674",
   "metadata": {},
   "outputs": [],
   "source": [
    "#to determine whether a number is prime or composite"
   ]
  },
  {
   "cell_type": "code",
   "execution_count": 37,
   "id": "38e55d36",
   "metadata": {},
   "outputs": [],
   "source": [
    "def isprime(n):\n",
    "    return 'True if n is prime.'\n",
    "\n"
   ]
  },
  {
   "cell_type": "code",
   "execution_count": 29,
   "id": "b6addcfc",
   "metadata": {},
   "outputs": [
    {
     "data": {
      "text/plain": [
       "'True if n is prime.'"
      ]
     },
     "execution_count": 29,
     "metadata": {},
     "output_type": "execute_result"
    }
   ],
   "source": [
    "isprime(2)\n",
    "    "
   ]
  },
  {
   "cell_type": "code",
   "execution_count": 38,
   "id": "338fc483",
   "metadata": {},
   "outputs": [],
   "source": [
    "#to find whether a string is palindrome"
   ]
  },
  {
   "cell_type": "code",
   "execution_count": 58,
   "id": "418e5a86",
   "metadata": {},
   "outputs": [
    {
     "name": "stdout",
     "output_type": "stream",
     "text": [
      "false\n"
     ]
    }
   ],
   "source": [
    "def is_palindrome(m):\n",
    "    rev=m[::-1]\n",
    "    if m==rev:\n",
    "        return 'true'\n",
    "    else:\n",
    "        return 'false'\n",
    "\n",
    "m='monkey'\n",
    "p=is_palindrome(m)\n",
    "if m==True:\n",
    "    print('true')\n",
    "else:\n",
    "    print('false')"
   ]
  },
  {
   "cell_type": "code",
   "execution_count": 59,
   "id": "29b6ced9",
   "metadata": {},
   "outputs": [],
   "source": [
    "#to find the third side ofa right angled triangle"
   ]
  },
  {
   "cell_type": "code",
   "execution_count": 67,
   "id": "4892f9f0",
   "metadata": {},
   "outputs": [
    {
     "ename": "SyntaxError",
     "evalue": "invalid syntax (<ipython-input-67-a34d20ca40e3>, line 4)",
     "output_type": "error",
     "traceback": [
      "\u001b[0;36m  File \u001b[0;32m\"<ipython-input-67-a34d20ca40e3>\"\u001b[0;36m, line \u001b[0;32m4\u001b[0m\n\u001b[0;31m    if adj_side==str('x'):\u001b[0m\n\u001b[0m                         ^\u001b[0m\n\u001b[0;31mSyntaxError\u001b[0m\u001b[0;31m:\u001b[0m invalid syntax\n"
     ]
    }
   ],
   "source": [
    "def pythagoras(opp_side,adj_side,hypotunese):\n",
    "    if opp_side==str('x'):\n",
    "        return('opp='+str(((hypotunese**2)-(adj_side**2))**0.5)\n",
    " if adj_side==str('x'):\n",
    "               return('adj='+str(((hypotunese**2)-(opp_side**2))**0.5)\n",
    "    if hypotunese==str('x');\n",
    "               return('hypotunese='+str(((opp_side**2)+(adj_side8**2))**0.5))\n",
    "                    \n",
    "                      \n",
    "print(pythagoras(3,4,'x'))\n",
    "print(pythagoras(3,'x',5))\n",
    "print(pythagoras('x',4,5))\n",
    "                                    \n",
    "\n",
    "                                          "
   ]
  },
  {
   "cell_type": "code",
   "execution_count": 68,
   "id": "7ed8ea63",
   "metadata": {},
   "outputs": [],
   "source": [
    "#to find the frequency we can use dictionary"
   ]
  },
  {
   "cell_type": "code",
   "execution_count": 73,
   "id": "2ecb58d5",
   "metadata": {},
   "outputs": [],
   "source": [
    "dict1={'id':1,'name':'a','salary':'100'}"
   ]
  },
  {
   "cell_type": "code",
   "execution_count": 76,
   "id": "9dc14b4f",
   "metadata": {},
   "outputs": [
    {
     "ename": "SyntaxError",
     "evalue": "invalid syntax (<ipython-input-76-ad28a628b78a>, line 1)",
     "output_type": "error",
     "traceback": [
      "\u001b[0;36m  File \u001b[0;32m\"<ipython-input-76-ad28a628b78a>\"\u001b[0;36m, line \u001b[0;32m1\u001b[0m\n\u001b[0;31m    dict1.[keys]\u001b[0m\n\u001b[0m          ^\u001b[0m\n\u001b[0;31mSyntaxError\u001b[0m\u001b[0;31m:\u001b[0m invalid syntax\n"
     ]
    }
   ],
   "source": [
    "dict1.[keys]"
   ]
  },
  {
   "cell_type": "code",
   "execution_count": null,
   "id": "e0b222e1",
   "metadata": {},
   "outputs": [],
   "source": []
  }
 ],
 "metadata": {
  "kernelspec": {
   "display_name": "Python 3",
   "language": "python",
   "name": "python3"
  },
  "language_info": {
   "codemirror_mode": {
    "name": "ipython",
    "version": 3
   },
   "file_extension": ".py",
   "mimetype": "text/x-python",
   "name": "python",
   "nbconvert_exporter": "python",
   "pygments_lexer": "ipython3",
   "version": "3.8.8"
  }
 },
 "nbformat": 4,
 "nbformat_minor": 5
}
